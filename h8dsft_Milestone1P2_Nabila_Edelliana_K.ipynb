{
  "cells": [
    {
      "cell_type": "markdown",
      "metadata": {
        "id": "Zb6Y44qdxueG"
      },
      "source": [
        "**Using this template**\n",
        "\n",
        "1. Change notebook title to assignment title you working on, eg. `Graded Challenge 1 or Milestone 1`\n",
        "2. Put your identity such as name and batch number below notebook title.\n",
        "3. Write your description before do any work. State your purpose of this assignment and what you are trying to achieve. \n",
        "4. Look at the rubric of this assignment and make sure you understand the criteria.\n",
        "5. Code your solution in the cell provided below the working area section.\n",
        "6. State your conlusions, findings, and any other relevant information in the cell provided below the conclusions sections.\n",
        "7. Save this notebook and rename it to assignment title you working on  eg. `Graded Challenge 1 or Milestone 1`\n",
        "8. Push your assignment before deadline.\n",
        "9. Good Luck!"
      ]
    },
    {
      "cell_type": "markdown",
      "metadata": {
        "id": "aZ68GsboxueL"
      },
      "source": [
        "# I. Perkenalan"
      ]
    },
    {
      "cell_type": "markdown",
      "metadata": {
        "id": "6liN450RxueO"
      },
      "source": [
        "### Milestones 1 - P2\n",
        "\n",
        "- Name   : Nabila Edelliana Khairunnisa\n",
        "- Batch  : 011"
      ]
    },
    {
      "cell_type": "markdown",
      "metadata": {
        "id": "lDss3R8RxueP"
      },
      "source": [
        "### Description\n",
        "Milestones ini dibuat guna mengevaluasi pembelajaran pada Hacktiv8 Data Science Full Time Program Phase 2 khususnya pada Artificial Neural Network.\n",
        "\n",
        "Data yang di olah merupakan data tentang customer churn beserta atributnya dengan keterangan sebagai berikut.\n",
        "- customerID: Unique ID of each customer\n",
        "- gender: Whether the customer is a male or a female\n",
        "- SeniorCitizen: Whether the customer is a senior citizen or not (1, 0)\n",
        "- Partner: Whether the customer has a partner or not (Yes, No)\n",
        "- Dependents: Whether the customer has dependents or not (Yes, No)\n",
        "- tenure: Number of months the customer has stayed with the company\n",
        "- PhoneService: Whether the customer has a phone service or not (Yes, No)\n",
        "- MultipleLines: Whether the customer has multiple lines or not (Yes, No, No phone service)\n",
        "- InternetService: Customer’s internet service provider (DSL, Fiber optic, No)\n",
        "- OnlineSecurity: Whether the customer has online security or not (Yes, No, No internet service)\n",
        "- OnlineBackup: Whether the customer has online backup or not (Yes, No, No internet service)\n",
        "- DeviceProtection: Whether the customer has device protection or not (Yes, No, No internet service)\n",
        "- TechSupport: Whether the customer has tech support or not (Yes, No, No internet service)\n",
        "- StreamingTV: Whether the customer has streaming TV or not (Yes, No, No internet service)\n",
        "- StreamingMovies: Whether the customer has streaming movies or not (Yes, No, No internet service)\n",
        "- Contract: The contract term of the customer (Month-to-month, One year, Two year)\n",
        "- PaperlessBilling: Whether the customer has paperless billing or not (Yes, No)\n",
        "- PaymentMethod: The customer’s payment method (Electronic check, Mailed check, Bank transfer (automatic), Credit card (automatic))\n",
        "- MonthlyCharge: The amount charged to the customer monthly\n",
        "- TotalCharges: The total amount charged to the customer\n",
        "\n",
        "\n",
        "### Objective\n",
        "1. Mampu memahami konsep Artificial Neural Network.\n",
        "2. Mampu mempersiapkan data untuk digunakan dalam model Artificial Neural Network.\n",
        "3. Mampu mengimplementasikan Artificial Neural Network dengan data yang diberikan.\n",
        "4. Mampu menganalisis dan menjelaskan layer yang dibuat.\n",
        "\n",
        "### Problem Statement\n",
        "1. Manakah API terbaik untuk pemodeland dataset ini? Sequential atau Functional?\n",
        "2. Bagaimanakah hasil dari model improvement?\n",
        "3. Bagaimana kualitas model untuk dataset ini?\n",
        "4. Bagaimana upaya yang lebih tepat untuk pemodelan ini agar perusahaan dapat meminimalisir kerugian akibat kesalahan prediksi?"
      ]
    },
    {
      "cell_type": "markdown",
      "metadata": {
        "id": "YZLxZifOxueq"
      },
      "source": [
        "## Working Area\n",
        "\n",
        "```txt\n",
        "Put your code, analysis, everything below this line\n",
        "\n",
        "Make sure to check everything the rubric requires before you submit\n",
        "```"
      ]
    },
    {
      "cell_type": "markdown",
      "metadata": {
        "id": "3CMGXeFcxuer"
      },
      "source": [
        "# II. Import Pustaka yang Dibutuhkan"
      ]
    },
    {
      "cell_type": "code",
      "execution_count": 1,
      "metadata": {
        "id": "M4lIhPOmxuet"
      },
      "outputs": [],
      "source": [
        "# Library EDA\n",
        "import numpy as np\n",
        "import pandas as pd\n",
        "import matplotlib.pyplot as plt\n",
        "import seaborn as sns\n",
        "import tensorflow as tf\n",
        "import scipy.stats as stats\n",
        "import warnings\n",
        "\n",
        "# Library pre-processing\n",
        "from sklearn.model_selection import train_test_split\n",
        "from sklearn.impute import SimpleImputer\n",
        "from sklearn.pipeline import Pipeline\n",
        "from sklearn.compose import ColumnTransformer\n",
        "from sklearn.preprocessing import MinMaxScaler\n",
        "from sklearn.preprocessing import StandardScaler\n",
        "from sklearn.preprocessing import OneHotEncoder\n",
        "from imblearn.over_sampling import SMOTENC\n",
        "import warnings\n",
        "\n",
        "# Library Model ANN\n",
        "from tensorflow.keras.models import Sequential, Model\n",
        "from tensorflow import keras\n",
        "from keras.layers import Dense , Input , Dropout, BatchNormalization, LeakyReLU, ELU\n",
        "\n",
        "# Library Evaluasi Model\n",
        "from sklearn.model_selection import cross_val_score\n",
        "from sklearn.model_selection import GridSearchCV\n",
        "from sklearn.metrics import classification_report,ConfusionMatrixDisplay,confusion_matrix\n",
        "\n",
        "# Library Saving dan Open Model\n",
        "import pickle"
      ]
    },
    {
      "cell_type": "markdown",
      "metadata": {
        "id": "-eP8S6LIxuew"
      },
      "source": [
        "# III. Data Loading"
      ]
    },
    {
      "cell_type": "code",
      "execution_count": 2,
      "metadata": {
        "colab": {
          "base_uri": "https://localhost:8080/",
          "height": 0
        },
        "id": "0Hx2FloExuew",
        "outputId": "8383dadd-0823-4499-b88b-2cb9efd8dd91"
      },
      "outputs": [
        {
          "output_type": "execute_result",
          "data": {
            "text/plain": [
              "   customerID  gender  SeniorCitizen Partner Dependents  tenure PhoneService  \\\n",
              "0  7590-VHVEG  Female              0     Yes         No       1           No   \n",
              "1  5575-GNVDE    Male              0      No         No      34          Yes   \n",
              "2  3668-QPYBK    Male              0      No         No       2          Yes   \n",
              "3  7795-CFOCW    Male              0      No         No      45           No   \n",
              "4  9237-HQITU  Female              0      No         No       2          Yes   \n",
              "\n",
              "      MultipleLines InternetService OnlineSecurity  ... DeviceProtection  \\\n",
              "0  No phone service             DSL             No  ...               No   \n",
              "1                No             DSL            Yes  ...              Yes   \n",
              "2                No             DSL            Yes  ...               No   \n",
              "3  No phone service             DSL            Yes  ...              Yes   \n",
              "4                No     Fiber optic             No  ...               No   \n",
              "\n",
              "  TechSupport StreamingTV StreamingMovies        Contract PaperlessBilling  \\\n",
              "0          No          No              No  Month-to-month              Yes   \n",
              "1          No          No              No        One year               No   \n",
              "2          No          No              No  Month-to-month              Yes   \n",
              "3         Yes          No              No        One year               No   \n",
              "4          No          No              No  Month-to-month              Yes   \n",
              "\n",
              "               PaymentMethod MonthlyCharges  TotalCharges Churn  \n",
              "0           Electronic check          29.85         29.85    No  \n",
              "1               Mailed check          56.95        1889.5    No  \n",
              "2               Mailed check          53.85        108.15   Yes  \n",
              "3  Bank transfer (automatic)          42.30       1840.75    No  \n",
              "4           Electronic check          70.70        151.65   Yes  \n",
              "\n",
              "[5 rows x 21 columns]"
            ],
            "text/html": [
              "\n",
              "  <div id=\"df-68b9e119-10e6-48c6-adff-222c1596c752\">\n",
              "    <div class=\"colab-df-container\">\n",
              "      <div>\n",
              "<style scoped>\n",
              "    .dataframe tbody tr th:only-of-type {\n",
              "        vertical-align: middle;\n",
              "    }\n",
              "\n",
              "    .dataframe tbody tr th {\n",
              "        vertical-align: top;\n",
              "    }\n",
              "\n",
              "    .dataframe thead th {\n",
              "        text-align: right;\n",
              "    }\n",
              "</style>\n",
              "<table border=\"1\" class=\"dataframe\">\n",
              "  <thead>\n",
              "    <tr style=\"text-align: right;\">\n",
              "      <th></th>\n",
              "      <th>customerID</th>\n",
              "      <th>gender</th>\n",
              "      <th>SeniorCitizen</th>\n",
              "      <th>Partner</th>\n",
              "      <th>Dependents</th>\n",
              "      <th>tenure</th>\n",
              "      <th>PhoneService</th>\n",
              "      <th>MultipleLines</th>\n",
              "      <th>InternetService</th>\n",
              "      <th>OnlineSecurity</th>\n",
              "      <th>...</th>\n",
              "      <th>DeviceProtection</th>\n",
              "      <th>TechSupport</th>\n",
              "      <th>StreamingTV</th>\n",
              "      <th>StreamingMovies</th>\n",
              "      <th>Contract</th>\n",
              "      <th>PaperlessBilling</th>\n",
              "      <th>PaymentMethod</th>\n",
              "      <th>MonthlyCharges</th>\n",
              "      <th>TotalCharges</th>\n",
              "      <th>Churn</th>\n",
              "    </tr>\n",
              "  </thead>\n",
              "  <tbody>\n",
              "    <tr>\n",
              "      <th>0</th>\n",
              "      <td>7590-VHVEG</td>\n",
              "      <td>Female</td>\n",
              "      <td>0</td>\n",
              "      <td>Yes</td>\n",
              "      <td>No</td>\n",
              "      <td>1</td>\n",
              "      <td>No</td>\n",
              "      <td>No phone service</td>\n",
              "      <td>DSL</td>\n",
              "      <td>No</td>\n",
              "      <td>...</td>\n",
              "      <td>No</td>\n",
              "      <td>No</td>\n",
              "      <td>No</td>\n",
              "      <td>No</td>\n",
              "      <td>Month-to-month</td>\n",
              "      <td>Yes</td>\n",
              "      <td>Electronic check</td>\n",
              "      <td>29.85</td>\n",
              "      <td>29.85</td>\n",
              "      <td>No</td>\n",
              "    </tr>\n",
              "    <tr>\n",
              "      <th>1</th>\n",
              "      <td>5575-GNVDE</td>\n",
              "      <td>Male</td>\n",
              "      <td>0</td>\n",
              "      <td>No</td>\n",
              "      <td>No</td>\n",
              "      <td>34</td>\n",
              "      <td>Yes</td>\n",
              "      <td>No</td>\n",
              "      <td>DSL</td>\n",
              "      <td>Yes</td>\n",
              "      <td>...</td>\n",
              "      <td>Yes</td>\n",
              "      <td>No</td>\n",
              "      <td>No</td>\n",
              "      <td>No</td>\n",
              "      <td>One year</td>\n",
              "      <td>No</td>\n",
              "      <td>Mailed check</td>\n",
              "      <td>56.95</td>\n",
              "      <td>1889.5</td>\n",
              "      <td>No</td>\n",
              "    </tr>\n",
              "    <tr>\n",
              "      <th>2</th>\n",
              "      <td>3668-QPYBK</td>\n",
              "      <td>Male</td>\n",
              "      <td>0</td>\n",
              "      <td>No</td>\n",
              "      <td>No</td>\n",
              "      <td>2</td>\n",
              "      <td>Yes</td>\n",
              "      <td>No</td>\n",
              "      <td>DSL</td>\n",
              "      <td>Yes</td>\n",
              "      <td>...</td>\n",
              "      <td>No</td>\n",
              "      <td>No</td>\n",
              "      <td>No</td>\n",
              "      <td>No</td>\n",
              "      <td>Month-to-month</td>\n",
              "      <td>Yes</td>\n",
              "      <td>Mailed check</td>\n",
              "      <td>53.85</td>\n",
              "      <td>108.15</td>\n",
              "      <td>Yes</td>\n",
              "    </tr>\n",
              "    <tr>\n",
              "      <th>3</th>\n",
              "      <td>7795-CFOCW</td>\n",
              "      <td>Male</td>\n",
              "      <td>0</td>\n",
              "      <td>No</td>\n",
              "      <td>No</td>\n",
              "      <td>45</td>\n",
              "      <td>No</td>\n",
              "      <td>No phone service</td>\n",
              "      <td>DSL</td>\n",
              "      <td>Yes</td>\n",
              "      <td>...</td>\n",
              "      <td>Yes</td>\n",
              "      <td>Yes</td>\n",
              "      <td>No</td>\n",
              "      <td>No</td>\n",
              "      <td>One year</td>\n",
              "      <td>No</td>\n",
              "      <td>Bank transfer (automatic)</td>\n",
              "      <td>42.30</td>\n",
              "      <td>1840.75</td>\n",
              "      <td>No</td>\n",
              "    </tr>\n",
              "    <tr>\n",
              "      <th>4</th>\n",
              "      <td>9237-HQITU</td>\n",
              "      <td>Female</td>\n",
              "      <td>0</td>\n",
              "      <td>No</td>\n",
              "      <td>No</td>\n",
              "      <td>2</td>\n",
              "      <td>Yes</td>\n",
              "      <td>No</td>\n",
              "      <td>Fiber optic</td>\n",
              "      <td>No</td>\n",
              "      <td>...</td>\n",
              "      <td>No</td>\n",
              "      <td>No</td>\n",
              "      <td>No</td>\n",
              "      <td>No</td>\n",
              "      <td>Month-to-month</td>\n",
              "      <td>Yes</td>\n",
              "      <td>Electronic check</td>\n",
              "      <td>70.70</td>\n",
              "      <td>151.65</td>\n",
              "      <td>Yes</td>\n",
              "    </tr>\n",
              "  </tbody>\n",
              "</table>\n",
              "<p>5 rows × 21 columns</p>\n",
              "</div>\n",
              "      <button class=\"colab-df-convert\" onclick=\"convertToInteractive('df-68b9e119-10e6-48c6-adff-222c1596c752')\"\n",
              "              title=\"Convert this dataframe to an interactive table.\"\n",
              "              style=\"display:none;\">\n",
              "        \n",
              "  <svg xmlns=\"http://www.w3.org/2000/svg\" height=\"24px\"viewBox=\"0 0 24 24\"\n",
              "       width=\"24px\">\n",
              "    <path d=\"M0 0h24v24H0V0z\" fill=\"none\"/>\n",
              "    <path d=\"M18.56 5.44l.94 2.06.94-2.06 2.06-.94-2.06-.94-.94-2.06-.94 2.06-2.06.94zm-11 1L8.5 8.5l.94-2.06 2.06-.94-2.06-.94L8.5 2.5l-.94 2.06-2.06.94zm10 10l.94 2.06.94-2.06 2.06-.94-2.06-.94-.94-2.06-.94 2.06-2.06.94z\"/><path d=\"M17.41 7.96l-1.37-1.37c-.4-.4-.92-.59-1.43-.59-.52 0-1.04.2-1.43.59L10.3 9.45l-7.72 7.72c-.78.78-.78 2.05 0 2.83L4 21.41c.39.39.9.59 1.41.59.51 0 1.02-.2 1.41-.59l7.78-7.78 2.81-2.81c.8-.78.8-2.07 0-2.86zM5.41 20L4 18.59l7.72-7.72 1.47 1.35L5.41 20z\"/>\n",
              "  </svg>\n",
              "      </button>\n",
              "      \n",
              "  <style>\n",
              "    .colab-df-container {\n",
              "      display:flex;\n",
              "      flex-wrap:wrap;\n",
              "      gap: 12px;\n",
              "    }\n",
              "\n",
              "    .colab-df-convert {\n",
              "      background-color: #E8F0FE;\n",
              "      border: none;\n",
              "      border-radius: 50%;\n",
              "      cursor: pointer;\n",
              "      display: none;\n",
              "      fill: #1967D2;\n",
              "      height: 32px;\n",
              "      padding: 0 0 0 0;\n",
              "      width: 32px;\n",
              "    }\n",
              "\n",
              "    .colab-df-convert:hover {\n",
              "      background-color: #E2EBFA;\n",
              "      box-shadow: 0px 1px 2px rgba(60, 64, 67, 0.3), 0px 1px 3px 1px rgba(60, 64, 67, 0.15);\n",
              "      fill: #174EA6;\n",
              "    }\n",
              "\n",
              "    [theme=dark] .colab-df-convert {\n",
              "      background-color: #3B4455;\n",
              "      fill: #D2E3FC;\n",
              "    }\n",
              "\n",
              "    [theme=dark] .colab-df-convert:hover {\n",
              "      background-color: #434B5C;\n",
              "      box-shadow: 0px 1px 3px 1px rgba(0, 0, 0, 0.15);\n",
              "      filter: drop-shadow(0px 1px 2px rgba(0, 0, 0, 0.3));\n",
              "      fill: #FFFFFF;\n",
              "    }\n",
              "  </style>\n",
              "\n",
              "      <script>\n",
              "        const buttonEl =\n",
              "          document.querySelector('#df-68b9e119-10e6-48c6-adff-222c1596c752 button.colab-df-convert');\n",
              "        buttonEl.style.display =\n",
              "          google.colab.kernel.accessAllowed ? 'block' : 'none';\n",
              "\n",
              "        async function convertToInteractive(key) {\n",
              "          const element = document.querySelector('#df-68b9e119-10e6-48c6-adff-222c1596c752');\n",
              "          const dataTable =\n",
              "            await google.colab.kernel.invokeFunction('convertToInteractive',\n",
              "                                                     [key], {});\n",
              "          if (!dataTable) return;\n",
              "\n",
              "          const docLinkHtml = 'Like what you see? Visit the ' +\n",
              "            '<a target=\"_blank\" href=https://colab.research.google.com/notebooks/data_table.ipynb>data table notebook</a>'\n",
              "            + ' to learn more about interactive tables.';\n",
              "          element.innerHTML = '';\n",
              "          dataTable['output_type'] = 'display_data';\n",
              "          await google.colab.output.renderOutput(dataTable, element);\n",
              "          const docLink = document.createElement('div');\n",
              "          docLink.innerHTML = docLinkHtml;\n",
              "          element.appendChild(docLink);\n",
              "        }\n",
              "      </script>\n",
              "    </div>\n",
              "  </div>\n",
              "  "
            ]
          },
          "metadata": {},
          "execution_count": 2
        }
      ],
      "source": [
        "data = pd.read_csv('Telco-Customer-Churn.csv')\n",
        "# Menampilkan head data\n",
        "data.head()"
      ]
    },
    {
      "cell_type": "code",
      "execution_count": 3,
      "metadata": {
        "colab": {
          "base_uri": "https://localhost:8080/",
          "height": 0
        },
        "id": "zB0Dls--xuez",
        "outputId": "fc520f5d-443f-48d8-dd37-63bd3595110d"
      },
      "outputs": [
        {
          "output_type": "execute_result",
          "data": {
            "text/plain": [
              "      customerID  gender  SeniorCitizen Partner Dependents  tenure  \\\n",
              "7038  6840-RESVB    Male              0     Yes        Yes      24   \n",
              "7039  2234-XADUH  Female              0     Yes        Yes      72   \n",
              "7040  4801-JZAZL  Female              0     Yes        Yes      11   \n",
              "7041  8361-LTMKD    Male              1     Yes         No       4   \n",
              "7042  3186-AJIEK    Male              0      No         No      66   \n",
              "\n",
              "     PhoneService     MultipleLines InternetService OnlineSecurity  ...  \\\n",
              "7038          Yes               Yes             DSL            Yes  ...   \n",
              "7039          Yes               Yes     Fiber optic             No  ...   \n",
              "7040           No  No phone service             DSL            Yes  ...   \n",
              "7041          Yes               Yes     Fiber optic             No  ...   \n",
              "7042          Yes                No     Fiber optic            Yes  ...   \n",
              "\n",
              "     DeviceProtection TechSupport StreamingTV StreamingMovies        Contract  \\\n",
              "7038              Yes         Yes         Yes             Yes        One year   \n",
              "7039              Yes          No         Yes             Yes        One year   \n",
              "7040               No          No          No              No  Month-to-month   \n",
              "7041               No          No          No              No  Month-to-month   \n",
              "7042              Yes         Yes         Yes             Yes        Two year   \n",
              "\n",
              "     PaperlessBilling              PaymentMethod MonthlyCharges  TotalCharges  \\\n",
              "7038              Yes               Mailed check          84.80        1990.5   \n",
              "7039              Yes    Credit card (automatic)         103.20        7362.9   \n",
              "7040              Yes           Electronic check          29.60        346.45   \n",
              "7041              Yes               Mailed check          74.40         306.6   \n",
              "7042              Yes  Bank transfer (automatic)         105.65        6844.5   \n",
              "\n",
              "     Churn  \n",
              "7038    No  \n",
              "7039    No  \n",
              "7040    No  \n",
              "7041   Yes  \n",
              "7042    No  \n",
              "\n",
              "[5 rows x 21 columns]"
            ],
            "text/html": [
              "\n",
              "  <div id=\"df-5fbb97bd-212b-402e-8f3f-c862446f91a4\">\n",
              "    <div class=\"colab-df-container\">\n",
              "      <div>\n",
              "<style scoped>\n",
              "    .dataframe tbody tr th:only-of-type {\n",
              "        vertical-align: middle;\n",
              "    }\n",
              "\n",
              "    .dataframe tbody tr th {\n",
              "        vertical-align: top;\n",
              "    }\n",
              "\n",
              "    .dataframe thead th {\n",
              "        text-align: right;\n",
              "    }\n",
              "</style>\n",
              "<table border=\"1\" class=\"dataframe\">\n",
              "  <thead>\n",
              "    <tr style=\"text-align: right;\">\n",
              "      <th></th>\n",
              "      <th>customerID</th>\n",
              "      <th>gender</th>\n",
              "      <th>SeniorCitizen</th>\n",
              "      <th>Partner</th>\n",
              "      <th>Dependents</th>\n",
              "      <th>tenure</th>\n",
              "      <th>PhoneService</th>\n",
              "      <th>MultipleLines</th>\n",
              "      <th>InternetService</th>\n",
              "      <th>OnlineSecurity</th>\n",
              "      <th>...</th>\n",
              "      <th>DeviceProtection</th>\n",
              "      <th>TechSupport</th>\n",
              "      <th>StreamingTV</th>\n",
              "      <th>StreamingMovies</th>\n",
              "      <th>Contract</th>\n",
              "      <th>PaperlessBilling</th>\n",
              "      <th>PaymentMethod</th>\n",
              "      <th>MonthlyCharges</th>\n",
              "      <th>TotalCharges</th>\n",
              "      <th>Churn</th>\n",
              "    </tr>\n",
              "  </thead>\n",
              "  <tbody>\n",
              "    <tr>\n",
              "      <th>7038</th>\n",
              "      <td>6840-RESVB</td>\n",
              "      <td>Male</td>\n",
              "      <td>0</td>\n",
              "      <td>Yes</td>\n",
              "      <td>Yes</td>\n",
              "      <td>24</td>\n",
              "      <td>Yes</td>\n",
              "      <td>Yes</td>\n",
              "      <td>DSL</td>\n",
              "      <td>Yes</td>\n",
              "      <td>...</td>\n",
              "      <td>Yes</td>\n",
              "      <td>Yes</td>\n",
              "      <td>Yes</td>\n",
              "      <td>Yes</td>\n",
              "      <td>One year</td>\n",
              "      <td>Yes</td>\n",
              "      <td>Mailed check</td>\n",
              "      <td>84.80</td>\n",
              "      <td>1990.5</td>\n",
              "      <td>No</td>\n",
              "    </tr>\n",
              "    <tr>\n",
              "      <th>7039</th>\n",
              "      <td>2234-XADUH</td>\n",
              "      <td>Female</td>\n",
              "      <td>0</td>\n",
              "      <td>Yes</td>\n",
              "      <td>Yes</td>\n",
              "      <td>72</td>\n",
              "      <td>Yes</td>\n",
              "      <td>Yes</td>\n",
              "      <td>Fiber optic</td>\n",
              "      <td>No</td>\n",
              "      <td>...</td>\n",
              "      <td>Yes</td>\n",
              "      <td>No</td>\n",
              "      <td>Yes</td>\n",
              "      <td>Yes</td>\n",
              "      <td>One year</td>\n",
              "      <td>Yes</td>\n",
              "      <td>Credit card (automatic)</td>\n",
              "      <td>103.20</td>\n",
              "      <td>7362.9</td>\n",
              "      <td>No</td>\n",
              "    </tr>\n",
              "    <tr>\n",
              "      <th>7040</th>\n",
              "      <td>4801-JZAZL</td>\n",
              "      <td>Female</td>\n",
              "      <td>0</td>\n",
              "      <td>Yes</td>\n",
              "      <td>Yes</td>\n",
              "      <td>11</td>\n",
              "      <td>No</td>\n",
              "      <td>No phone service</td>\n",
              "      <td>DSL</td>\n",
              "      <td>Yes</td>\n",
              "      <td>...</td>\n",
              "      <td>No</td>\n",
              "      <td>No</td>\n",
              "      <td>No</td>\n",
              "      <td>No</td>\n",
              "      <td>Month-to-month</td>\n",
              "      <td>Yes</td>\n",
              "      <td>Electronic check</td>\n",
              "      <td>29.60</td>\n",
              "      <td>346.45</td>\n",
              "      <td>No</td>\n",
              "    </tr>\n",
              "    <tr>\n",
              "      <th>7041</th>\n",
              "      <td>8361-LTMKD</td>\n",
              "      <td>Male</td>\n",
              "      <td>1</td>\n",
              "      <td>Yes</td>\n",
              "      <td>No</td>\n",
              "      <td>4</td>\n",
              "      <td>Yes</td>\n",
              "      <td>Yes</td>\n",
              "      <td>Fiber optic</td>\n",
              "      <td>No</td>\n",
              "      <td>...</td>\n",
              "      <td>No</td>\n",
              "      <td>No</td>\n",
              "      <td>No</td>\n",
              "      <td>No</td>\n",
              "      <td>Month-to-month</td>\n",
              "      <td>Yes</td>\n",
              "      <td>Mailed check</td>\n",
              "      <td>74.40</td>\n",
              "      <td>306.6</td>\n",
              "      <td>Yes</td>\n",
              "    </tr>\n",
              "    <tr>\n",
              "      <th>7042</th>\n",
              "      <td>3186-AJIEK</td>\n",
              "      <td>Male</td>\n",
              "      <td>0</td>\n",
              "      <td>No</td>\n",
              "      <td>No</td>\n",
              "      <td>66</td>\n",
              "      <td>Yes</td>\n",
              "      <td>No</td>\n",
              "      <td>Fiber optic</td>\n",
              "      <td>Yes</td>\n",
              "      <td>...</td>\n",
              "      <td>Yes</td>\n",
              "      <td>Yes</td>\n",
              "      <td>Yes</td>\n",
              "      <td>Yes</td>\n",
              "      <td>Two year</td>\n",
              "      <td>Yes</td>\n",
              "      <td>Bank transfer (automatic)</td>\n",
              "      <td>105.65</td>\n",
              "      <td>6844.5</td>\n",
              "      <td>No</td>\n",
              "    </tr>\n",
              "  </tbody>\n",
              "</table>\n",
              "<p>5 rows × 21 columns</p>\n",
              "</div>\n",
              "      <button class=\"colab-df-convert\" onclick=\"convertToInteractive('df-5fbb97bd-212b-402e-8f3f-c862446f91a4')\"\n",
              "              title=\"Convert this dataframe to an interactive table.\"\n",
              "              style=\"display:none;\">\n",
              "        \n",
              "  <svg xmlns=\"http://www.w3.org/2000/svg\" height=\"24px\"viewBox=\"0 0 24 24\"\n",
              "       width=\"24px\">\n",
              "    <path d=\"M0 0h24v24H0V0z\" fill=\"none\"/>\n",
              "    <path d=\"M18.56 5.44l.94 2.06.94-2.06 2.06-.94-2.06-.94-.94-2.06-.94 2.06-2.06.94zm-11 1L8.5 8.5l.94-2.06 2.06-.94-2.06-.94L8.5 2.5l-.94 2.06-2.06.94zm10 10l.94 2.06.94-2.06 2.06-.94-2.06-.94-.94-2.06-.94 2.06-2.06.94z\"/><path d=\"M17.41 7.96l-1.37-1.37c-.4-.4-.92-.59-1.43-.59-.52 0-1.04.2-1.43.59L10.3 9.45l-7.72 7.72c-.78.78-.78 2.05 0 2.83L4 21.41c.39.39.9.59 1.41.59.51 0 1.02-.2 1.41-.59l7.78-7.78 2.81-2.81c.8-.78.8-2.07 0-2.86zM5.41 20L4 18.59l7.72-7.72 1.47 1.35L5.41 20z\"/>\n",
              "  </svg>\n",
              "      </button>\n",
              "      \n",
              "  <style>\n",
              "    .colab-df-container {\n",
              "      display:flex;\n",
              "      flex-wrap:wrap;\n",
              "      gap: 12px;\n",
              "    }\n",
              "\n",
              "    .colab-df-convert {\n",
              "      background-color: #E8F0FE;\n",
              "      border: none;\n",
              "      border-radius: 50%;\n",
              "      cursor: pointer;\n",
              "      display: none;\n",
              "      fill: #1967D2;\n",
              "      height: 32px;\n",
              "      padding: 0 0 0 0;\n",
              "      width: 32px;\n",
              "    }\n",
              "\n",
              "    .colab-df-convert:hover {\n",
              "      background-color: #E2EBFA;\n",
              "      box-shadow: 0px 1px 2px rgba(60, 64, 67, 0.3), 0px 1px 3px 1px rgba(60, 64, 67, 0.15);\n",
              "      fill: #174EA6;\n",
              "    }\n",
              "\n",
              "    [theme=dark] .colab-df-convert {\n",
              "      background-color: #3B4455;\n",
              "      fill: #D2E3FC;\n",
              "    }\n",
              "\n",
              "    [theme=dark] .colab-df-convert:hover {\n",
              "      background-color: #434B5C;\n",
              "      box-shadow: 0px 1px 3px 1px rgba(0, 0, 0, 0.15);\n",
              "      filter: drop-shadow(0px 1px 2px rgba(0, 0, 0, 0.3));\n",
              "      fill: #FFFFFF;\n",
              "    }\n",
              "  </style>\n",
              "\n",
              "      <script>\n",
              "        const buttonEl =\n",
              "          document.querySelector('#df-5fbb97bd-212b-402e-8f3f-c862446f91a4 button.colab-df-convert');\n",
              "        buttonEl.style.display =\n",
              "          google.colab.kernel.accessAllowed ? 'block' : 'none';\n",
              "\n",
              "        async function convertToInteractive(key) {\n",
              "          const element = document.querySelector('#df-5fbb97bd-212b-402e-8f3f-c862446f91a4');\n",
              "          const dataTable =\n",
              "            await google.colab.kernel.invokeFunction('convertToInteractive',\n",
              "                                                     [key], {});\n",
              "          if (!dataTable) return;\n",
              "\n",
              "          const docLinkHtml = 'Like what you see? Visit the ' +\n",
              "            '<a target=\"_blank\" href=https://colab.research.google.com/notebooks/data_table.ipynb>data table notebook</a>'\n",
              "            + ' to learn more about interactive tables.';\n",
              "          element.innerHTML = '';\n",
              "          dataTable['output_type'] = 'display_data';\n",
              "          await google.colab.output.renderOutput(dataTable, element);\n",
              "          const docLink = document.createElement('div');\n",
              "          docLink.innerHTML = docLinkHtml;\n",
              "          element.appendChild(docLink);\n",
              "        }\n",
              "      </script>\n",
              "    </div>\n",
              "  </div>\n",
              "  "
            ]
          },
          "metadata": {},
          "execution_count": 3
        }
      ],
      "source": [
        "# Menampilkan tail data\n",
        "data.tail()"
      ]
    },
    {
      "cell_type": "code",
      "execution_count": 4,
      "metadata": {
        "id": "vH0EjVGQxue0"
      },
      "outputs": [],
      "source": [
        "# Membuat salinan data untuk backup\n",
        "data_copy = data.copy()"
      ]
    },
    {
      "cell_type": "code",
      "execution_count": 5,
      "metadata": {
        "colab": {
          "base_uri": "https://localhost:8080/"
        },
        "id": "JXoHi5eHxue1",
        "outputId": "693a32c8-1b7a-4081-ee88-875b7e771dfe"
      },
      "outputs": [
        {
          "output_type": "execute_result",
          "data": {
            "text/plain": [
              "(7043, 21)"
            ]
          },
          "metadata": {},
          "execution_count": 5
        }
      ],
      "source": [
        "# mengecek ukuran dataset\n",
        "data.shape"
      ]
    },
    {
      "cell_type": "code",
      "execution_count": 6,
      "metadata": {
        "colab": {
          "base_uri": "https://localhost:8080/"
        },
        "id": "TcpFHo_wxue2",
        "outputId": "0ecf0877-fee7-4c1f-af95-5ada7d0abb1a"
      },
      "outputs": [
        {
          "output_type": "stream",
          "name": "stdout",
          "text": [
            "<class 'pandas.core.frame.DataFrame'>\n",
            "RangeIndex: 7043 entries, 0 to 7042\n",
            "Data columns (total 21 columns):\n",
            " #   Column            Non-Null Count  Dtype  \n",
            "---  ------            --------------  -----  \n",
            " 0   customerID        7043 non-null   object \n",
            " 1   gender            7043 non-null   object \n",
            " 2   SeniorCitizen     7043 non-null   int64  \n",
            " 3   Partner           7043 non-null   object \n",
            " 4   Dependents        7043 non-null   object \n",
            " 5   tenure            7043 non-null   int64  \n",
            " 6   PhoneService      7043 non-null   object \n",
            " 7   MultipleLines     7043 non-null   object \n",
            " 8   InternetService   7043 non-null   object \n",
            " 9   OnlineSecurity    7043 non-null   object \n",
            " 10  OnlineBackup      7043 non-null   object \n",
            " 11  DeviceProtection  7043 non-null   object \n",
            " 12  TechSupport       7043 non-null   object \n",
            " 13  StreamingTV       7043 non-null   object \n",
            " 14  StreamingMovies   7043 non-null   object \n",
            " 15  Contract          7043 non-null   object \n",
            " 16  PaperlessBilling  7043 non-null   object \n",
            " 17  PaymentMethod     7043 non-null   object \n",
            " 18  MonthlyCharges    7043 non-null   float64\n",
            " 19  TotalCharges      7043 non-null   object \n",
            " 20  Churn             7043 non-null   object \n",
            "dtypes: float64(1), int64(2), object(18)\n",
            "memory usage: 1.1+ MB\n"
          ]
        }
      ],
      "source": [
        "data.info()"
      ]
    },
    {
      "cell_type": "markdown",
      "metadata": {
        "id": "BlK3Kyvqe6V5"
      },
      "source": [
        "dataset ini terdiri dari kolom-kolom bertipe numerik dan kategorikal. Terdapat kolom numerik yang tipenya object. Saya akan ubah tipenya ke numerik karena ini penting untuk analisis."
      ]
    },
    {
      "cell_type": "code",
      "execution_count": 7,
      "metadata": {
        "id": "z1sMLI4q8JqV"
      },
      "outputs": [],
      "source": [
        "# data.TotalCharges = data.TotalCharges.astype(\"float64\")"
      ]
    },
    {
      "cell_type": "markdown",
      "source": [
        "saat saya akan mengubah tipe kolom TotalCharges dari object ke float64, terdapat error \"ValueError: could not convert string to float:\". Hal ini cukup mencurigakan karena seharusnya jika isiya numerik, bisa diubah tipe datanya. Akan saya eksplor lagi di part selanjutnya."
      ],
      "metadata": {
        "id": "lj4pXahKZtlP"
      }
    },
    {
      "cell_type": "markdown",
      "metadata": {
        "id": "Z8yY_uhExue4"
      },
      "source": [
        "# IV. Exploratory Data Analysis (EDA)"
      ]
    },
    {
      "cell_type": "markdown",
      "metadata": {
        "id": "TiJ-iTI2xue5"
      },
      "source": [
        "## 4.1. Melihat missing value"
      ]
    },
    {
      "cell_type": "code",
      "execution_count": 8,
      "metadata": {
        "colab": {
          "base_uri": "https://localhost:8080/"
        },
        "id": "V_JtExuFxue6",
        "outputId": "db83397d-aad6-42e8-a308-c99c2608fb45"
      },
      "outputs": [
        {
          "output_type": "execute_result",
          "data": {
            "text/plain": [
              "customerID          0\n",
              "gender              0\n",
              "SeniorCitizen       0\n",
              "Partner             0\n",
              "Dependents          0\n",
              "tenure              0\n",
              "PhoneService        0\n",
              "MultipleLines       0\n",
              "InternetService     0\n",
              "OnlineSecurity      0\n",
              "OnlineBackup        0\n",
              "DeviceProtection    0\n",
              "TechSupport         0\n",
              "StreamingTV         0\n",
              "StreamingMovies     0\n",
              "Contract            0\n",
              "PaperlessBilling    0\n",
              "PaymentMethod       0\n",
              "MonthlyCharges      0\n",
              "TotalCharges        0\n",
              "Churn               0\n",
              "dtype: int64"
            ]
          },
          "metadata": {},
          "execution_count": 8
        }
      ],
      "source": [
        "# Melihat data yang memiliki missing value\n",
        "data.isnull().sum()"
      ]
    },
    {
      "cell_type": "markdown",
      "metadata": {
        "id": "EgHy-q_udWCX"
      },
      "source": [
        "Tidak ada missing values, tapi saya curiga karena di data TotalCharges terdapat string yang tidak dapat diubah ke tipe float. Saya akan melihat unique valuesnya terlebih dahulu."
      ]
    },
    {
      "cell_type": "code",
      "execution_count": 9,
      "metadata": {
        "id": "nunm0J0q9yBn",
        "colab": {
          "base_uri": "https://localhost:8080/"
        },
        "outputId": "3f6cdf63-8ecd-478a-b8d3-0ab642255871"
      },
      "outputs": [
        {
          "output_type": "execute_result",
          "data": {
            "text/plain": [
              "Index(['customerID', 'gender', 'SeniorCitizen', 'Partner', 'Dependents',\n",
              "       'tenure', 'PhoneService', 'MultipleLines', 'InternetService',\n",
              "       'OnlineSecurity', 'OnlineBackup', 'DeviceProtection', 'TechSupport',\n",
              "       'StreamingTV', 'StreamingMovies', 'Contract', 'PaperlessBilling',\n",
              "       'PaymentMethod', 'MonthlyCharges', 'TotalCharges', 'Churn'],\n",
              "      dtype='object')"
            ]
          },
          "metadata": {},
          "execution_count": 9
        }
      ],
      "source": [
        "data.columns"
      ]
    },
    {
      "cell_type": "markdown",
      "metadata": {
        "id": "xqOx8dPjxufG"
      },
      "source": [
        "## 4.2. Melihat unique values"
      ]
    },
    {
      "cell_type": "code",
      "execution_count": 10,
      "metadata": {
        "id": "ljc1njxPzxcC",
        "colab": {
          "base_uri": "https://localhost:8080/"
        },
        "outputId": "680829f8-451e-4f8e-cff9-0b7b03387bdb"
      },
      "outputs": [
        {
          "output_type": "execute_result",
          "data": {
            "text/plain": [
              "array(['29.85', '1889.5', '108.15', ..., '346.45', '306.6', '6844.5'],\n",
              "      dtype=object)"
            ]
          },
          "metadata": {},
          "execution_count": 10
        }
      ],
      "source": [
        "data['TotalCharges'].unique()"
      ]
    },
    {
      "cell_type": "code",
      "execution_count": 11,
      "metadata": {
        "id": "RLK4Q-Y6z0zN",
        "colab": {
          "base_uri": "https://localhost:8080/"
        },
        "outputId": "ac2c1438-e019-4ab8-839b-a32fd0d7a076"
      },
      "outputs": [
        {
          "output_type": "execute_result",
          "data": {
            "text/plain": [
              "          11\n",
              "20.2      11\n",
              "19.75      9\n",
              "20.05      8\n",
              "19.9       8\n",
              "          ..\n",
              "6849.4     1\n",
              "692.35     1\n",
              "130.15     1\n",
              "3211.9     1\n",
              "6844.5     1\n",
              "Name: TotalCharges, Length: 6531, dtype: int64"
            ]
          },
          "metadata": {},
          "execution_count": 11
        }
      ],
      "source": [
        "data['TotalCharges'].value_counts()"
      ]
    },
    {
      "cell_type": "markdown",
      "metadata": {
        "id": "KZSlHTGy0hkJ"
      },
      "source": [
        "Ternyata benar dugaan saya, ada missing values yang tidak terdeteksi. saya akan ganti data tersebut dengan NaN."
      ]
    },
    {
      "cell_type": "code",
      "execution_count": 12,
      "metadata": {
        "id": "8nypfEtM_EUX"
      },
      "outputs": [],
      "source": [
        "# Assign missing values ke jenis yang dapat dibaca sistem\n",
        "data['TotalCharges'] = data[\"TotalCharges\"].replace(\" \", np.nan)"
      ]
    },
    {
      "cell_type": "code",
      "execution_count": 13,
      "metadata": {
        "id": "t-PiBlPGDla-",
        "colab": {
          "base_uri": "https://localhost:8080/"
        },
        "outputId": "857544e9-81d0-48fa-9d48-da991e80d2c6"
      },
      "outputs": [
        {
          "output_type": "execute_result",
          "data": {
            "text/plain": [
              "customerID           0\n",
              "gender               0\n",
              "SeniorCitizen        0\n",
              "Partner              0\n",
              "Dependents           0\n",
              "tenure               0\n",
              "PhoneService         0\n",
              "MultipleLines        0\n",
              "InternetService      0\n",
              "OnlineSecurity       0\n",
              "OnlineBackup         0\n",
              "DeviceProtection     0\n",
              "TechSupport          0\n",
              "StreamingTV          0\n",
              "StreamingMovies      0\n",
              "Contract             0\n",
              "PaperlessBilling     0\n",
              "PaymentMethod        0\n",
              "MonthlyCharges       0\n",
              "TotalCharges        11\n",
              "Churn                0\n",
              "dtype: int64"
            ]
          },
          "metadata": {},
          "execution_count": 13
        }
      ],
      "source": [
        "data.isnull().sum()"
      ]
    },
    {
      "cell_type": "code",
      "execution_count": 14,
      "metadata": {
        "id": "vroCnR9-CT5d",
        "colab": {
          "base_uri": "https://localhost:8080/"
        },
        "outputId": "8e58d4d0-cf39-4eca-d8d3-b3754df6f2cb"
      },
      "outputs": [
        {
          "output_type": "execute_result",
          "data": {
            "text/plain": [
              "0.1561834445548772"
            ]
          },
          "metadata": {},
          "execution_count": 14
        }
      ],
      "source": [
        "# mengecek persentase missing values\n",
        "11/7043*100"
      ]
    },
    {
      "cell_type": "code",
      "execution_count": 15,
      "metadata": {
        "id": "CMDXAdPtxufG",
        "colab": {
          "base_uri": "https://localhost:8080/",
          "height": 0
        },
        "outputId": "7950c08a-a116-49f0-9697-6e148de00657"
      },
      "outputs": [
        {
          "output_type": "execute_result",
          "data": {
            "text/plain": [
              "   customerID  gender  SeniorCitizen Partner Dependents  tenure PhoneService  \\\n",
              "0  7590-VHVEG  Female              0     Yes         No       1           No   \n",
              "1  5575-GNVDE    Male              0      No         No      34          Yes   \n",
              "2  3668-QPYBK    Male              0      No         No       2          Yes   \n",
              "3  7795-CFOCW    Male              0      No         No      45           No   \n",
              "4  9237-HQITU  Female              0      No         No       2          Yes   \n",
              "\n",
              "      MultipleLines InternetService OnlineSecurity  ... DeviceProtection  \\\n",
              "0  No phone service             DSL             No  ...               No   \n",
              "1                No             DSL            Yes  ...              Yes   \n",
              "2                No             DSL            Yes  ...               No   \n",
              "3  No phone service             DSL            Yes  ...              Yes   \n",
              "4                No     Fiber optic             No  ...               No   \n",
              "\n",
              "  TechSupport StreamingTV StreamingMovies        Contract PaperlessBilling  \\\n",
              "0          No          No              No  Month-to-month              Yes   \n",
              "1          No          No              No        One year               No   \n",
              "2          No          No              No  Month-to-month              Yes   \n",
              "3         Yes          No              No        One year               No   \n",
              "4          No          No              No  Month-to-month              Yes   \n",
              "\n",
              "               PaymentMethod MonthlyCharges  TotalCharges Churn  \n",
              "0           Electronic check          29.85         29.85    No  \n",
              "1               Mailed check          56.95        1889.5    No  \n",
              "2               Mailed check          53.85        108.15   Yes  \n",
              "3  Bank transfer (automatic)          42.30       1840.75    No  \n",
              "4           Electronic check          70.70        151.65   Yes  \n",
              "\n",
              "[5 rows x 21 columns]"
            ],
            "text/html": [
              "\n",
              "  <div id=\"df-9202f100-6c55-4126-ae89-287677317073\">\n",
              "    <div class=\"colab-df-container\">\n",
              "      <div>\n",
              "<style scoped>\n",
              "    .dataframe tbody tr th:only-of-type {\n",
              "        vertical-align: middle;\n",
              "    }\n",
              "\n",
              "    .dataframe tbody tr th {\n",
              "        vertical-align: top;\n",
              "    }\n",
              "\n",
              "    .dataframe thead th {\n",
              "        text-align: right;\n",
              "    }\n",
              "</style>\n",
              "<table border=\"1\" class=\"dataframe\">\n",
              "  <thead>\n",
              "    <tr style=\"text-align: right;\">\n",
              "      <th></th>\n",
              "      <th>customerID</th>\n",
              "      <th>gender</th>\n",
              "      <th>SeniorCitizen</th>\n",
              "      <th>Partner</th>\n",
              "      <th>Dependents</th>\n",
              "      <th>tenure</th>\n",
              "      <th>PhoneService</th>\n",
              "      <th>MultipleLines</th>\n",
              "      <th>InternetService</th>\n",
              "      <th>OnlineSecurity</th>\n",
              "      <th>...</th>\n",
              "      <th>DeviceProtection</th>\n",
              "      <th>TechSupport</th>\n",
              "      <th>StreamingTV</th>\n",
              "      <th>StreamingMovies</th>\n",
              "      <th>Contract</th>\n",
              "      <th>PaperlessBilling</th>\n",
              "      <th>PaymentMethod</th>\n",
              "      <th>MonthlyCharges</th>\n",
              "      <th>TotalCharges</th>\n",
              "      <th>Churn</th>\n",
              "    </tr>\n",
              "  </thead>\n",
              "  <tbody>\n",
              "    <tr>\n",
              "      <th>0</th>\n",
              "      <td>7590-VHVEG</td>\n",
              "      <td>Female</td>\n",
              "      <td>0</td>\n",
              "      <td>Yes</td>\n",
              "      <td>No</td>\n",
              "      <td>1</td>\n",
              "      <td>No</td>\n",
              "      <td>No phone service</td>\n",
              "      <td>DSL</td>\n",
              "      <td>No</td>\n",
              "      <td>...</td>\n",
              "      <td>No</td>\n",
              "      <td>No</td>\n",
              "      <td>No</td>\n",
              "      <td>No</td>\n",
              "      <td>Month-to-month</td>\n",
              "      <td>Yes</td>\n",
              "      <td>Electronic check</td>\n",
              "      <td>29.85</td>\n",
              "      <td>29.85</td>\n",
              "      <td>No</td>\n",
              "    </tr>\n",
              "    <tr>\n",
              "      <th>1</th>\n",
              "      <td>5575-GNVDE</td>\n",
              "      <td>Male</td>\n",
              "      <td>0</td>\n",
              "      <td>No</td>\n",
              "      <td>No</td>\n",
              "      <td>34</td>\n",
              "      <td>Yes</td>\n",
              "      <td>No</td>\n",
              "      <td>DSL</td>\n",
              "      <td>Yes</td>\n",
              "      <td>...</td>\n",
              "      <td>Yes</td>\n",
              "      <td>No</td>\n",
              "      <td>No</td>\n",
              "      <td>No</td>\n",
              "      <td>One year</td>\n",
              "      <td>No</td>\n",
              "      <td>Mailed check</td>\n",
              "      <td>56.95</td>\n",
              "      <td>1889.5</td>\n",
              "      <td>No</td>\n",
              "    </tr>\n",
              "    <tr>\n",
              "      <th>2</th>\n",
              "      <td>3668-QPYBK</td>\n",
              "      <td>Male</td>\n",
              "      <td>0</td>\n",
              "      <td>No</td>\n",
              "      <td>No</td>\n",
              "      <td>2</td>\n",
              "      <td>Yes</td>\n",
              "      <td>No</td>\n",
              "      <td>DSL</td>\n",
              "      <td>Yes</td>\n",
              "      <td>...</td>\n",
              "      <td>No</td>\n",
              "      <td>No</td>\n",
              "      <td>No</td>\n",
              "      <td>No</td>\n",
              "      <td>Month-to-month</td>\n",
              "      <td>Yes</td>\n",
              "      <td>Mailed check</td>\n",
              "      <td>53.85</td>\n",
              "      <td>108.15</td>\n",
              "      <td>Yes</td>\n",
              "    </tr>\n",
              "    <tr>\n",
              "      <th>3</th>\n",
              "      <td>7795-CFOCW</td>\n",
              "      <td>Male</td>\n",
              "      <td>0</td>\n",
              "      <td>No</td>\n",
              "      <td>No</td>\n",
              "      <td>45</td>\n",
              "      <td>No</td>\n",
              "      <td>No phone service</td>\n",
              "      <td>DSL</td>\n",
              "      <td>Yes</td>\n",
              "      <td>...</td>\n",
              "      <td>Yes</td>\n",
              "      <td>Yes</td>\n",
              "      <td>No</td>\n",
              "      <td>No</td>\n",
              "      <td>One year</td>\n",
              "      <td>No</td>\n",
              "      <td>Bank transfer (automatic)</td>\n",
              "      <td>42.30</td>\n",
              "      <td>1840.75</td>\n",
              "      <td>No</td>\n",
              "    </tr>\n",
              "    <tr>\n",
              "      <th>4</th>\n",
              "      <td>9237-HQITU</td>\n",
              "      <td>Female</td>\n",
              "      <td>0</td>\n",
              "      <td>No</td>\n",
              "      <td>No</td>\n",
              "      <td>2</td>\n",
              "      <td>Yes</td>\n",
              "      <td>No</td>\n",
              "      <td>Fiber optic</td>\n",
              "      <td>No</td>\n",
              "      <td>...</td>\n",
              "      <td>No</td>\n",
              "      <td>No</td>\n",
              "      <td>No</td>\n",
              "      <td>No</td>\n",
              "      <td>Month-to-month</td>\n",
              "      <td>Yes</td>\n",
              "      <td>Electronic check</td>\n",
              "      <td>70.70</td>\n",
              "      <td>151.65</td>\n",
              "      <td>Yes</td>\n",
              "    </tr>\n",
              "  </tbody>\n",
              "</table>\n",
              "<p>5 rows × 21 columns</p>\n",
              "</div>\n",
              "      <button class=\"colab-df-convert\" onclick=\"convertToInteractive('df-9202f100-6c55-4126-ae89-287677317073')\"\n",
              "              title=\"Convert this dataframe to an interactive table.\"\n",
              "              style=\"display:none;\">\n",
              "        \n",
              "  <svg xmlns=\"http://www.w3.org/2000/svg\" height=\"24px\"viewBox=\"0 0 24 24\"\n",
              "       width=\"24px\">\n",
              "    <path d=\"M0 0h24v24H0V0z\" fill=\"none\"/>\n",
              "    <path d=\"M18.56 5.44l.94 2.06.94-2.06 2.06-.94-2.06-.94-.94-2.06-.94 2.06-2.06.94zm-11 1L8.5 8.5l.94-2.06 2.06-.94-2.06-.94L8.5 2.5l-.94 2.06-2.06.94zm10 10l.94 2.06.94-2.06 2.06-.94-2.06-.94-.94-2.06-.94 2.06-2.06.94z\"/><path d=\"M17.41 7.96l-1.37-1.37c-.4-.4-.92-.59-1.43-.59-.52 0-1.04.2-1.43.59L10.3 9.45l-7.72 7.72c-.78.78-.78 2.05 0 2.83L4 21.41c.39.39.9.59 1.41.59.51 0 1.02-.2 1.41-.59l7.78-7.78 2.81-2.81c.8-.78.8-2.07 0-2.86zM5.41 20L4 18.59l7.72-7.72 1.47 1.35L5.41 20z\"/>\n",
              "  </svg>\n",
              "      </button>\n",
              "      \n",
              "  <style>\n",
              "    .colab-df-container {\n",
              "      display:flex;\n",
              "      flex-wrap:wrap;\n",
              "      gap: 12px;\n",
              "    }\n",
              "\n",
              "    .colab-df-convert {\n",
              "      background-color: #E8F0FE;\n",
              "      border: none;\n",
              "      border-radius: 50%;\n",
              "      cursor: pointer;\n",
              "      display: none;\n",
              "      fill: #1967D2;\n",
              "      height: 32px;\n",
              "      padding: 0 0 0 0;\n",
              "      width: 32px;\n",
              "    }\n",
              "\n",
              "    .colab-df-convert:hover {\n",
              "      background-color: #E2EBFA;\n",
              "      box-shadow: 0px 1px 2px rgba(60, 64, 67, 0.3), 0px 1px 3px 1px rgba(60, 64, 67, 0.15);\n",
              "      fill: #174EA6;\n",
              "    }\n",
              "\n",
              "    [theme=dark] .colab-df-convert {\n",
              "      background-color: #3B4455;\n",
              "      fill: #D2E3FC;\n",
              "    }\n",
              "\n",
              "    [theme=dark] .colab-df-convert:hover {\n",
              "      background-color: #434B5C;\n",
              "      box-shadow: 0px 1px 3px 1px rgba(0, 0, 0, 0.15);\n",
              "      filter: drop-shadow(0px 1px 2px rgba(0, 0, 0, 0.3));\n",
              "      fill: #FFFFFF;\n",
              "    }\n",
              "  </style>\n",
              "\n",
              "      <script>\n",
              "        const buttonEl =\n",
              "          document.querySelector('#df-9202f100-6c55-4126-ae89-287677317073 button.colab-df-convert');\n",
              "        buttonEl.style.display =\n",
              "          google.colab.kernel.accessAllowed ? 'block' : 'none';\n",
              "\n",
              "        async function convertToInteractive(key) {\n",
              "          const element = document.querySelector('#df-9202f100-6c55-4126-ae89-287677317073');\n",
              "          const dataTable =\n",
              "            await google.colab.kernel.invokeFunction('convertToInteractive',\n",
              "                                                     [key], {});\n",
              "          if (!dataTable) return;\n",
              "\n",
              "          const docLinkHtml = 'Like what you see? Visit the ' +\n",
              "            '<a target=\"_blank\" href=https://colab.research.google.com/notebooks/data_table.ipynb>data table notebook</a>'\n",
              "            + ' to learn more about interactive tables.';\n",
              "          element.innerHTML = '';\n",
              "          dataTable['output_type'] = 'display_data';\n",
              "          await google.colab.output.renderOutput(dataTable, element);\n",
              "          const docLink = document.createElement('div');\n",
              "          docLink.innerHTML = docLinkHtml;\n",
              "          element.appendChild(docLink);\n",
              "        }\n",
              "      </script>\n",
              "    </div>\n",
              "  </div>\n",
              "  "
            ]
          },
          "metadata": {},
          "execution_count": 15
        }
      ],
      "source": [
        "# menyalin data lagi untuk berjaga-jaga\n",
        "df_new = data.copy()\n",
        "df_new.head()"
      ]
    },
    {
      "cell_type": "markdown",
      "metadata": {
        "id": "KDUDKQfkCcXs"
      },
      "source": [
        "Banyaknya missing values sangat kecil, di bawah 1%. Saya akan drop missing values agar analisis dan proses selanjutnya lebih baik."
      ]
    },
    {
      "cell_type": "code",
      "execution_count": 16,
      "metadata": {
        "id": "KgaGK27VVNKP",
        "colab": {
          "base_uri": "https://localhost:8080/"
        },
        "outputId": "784552dd-96e7-481d-b9c9-2ba39f67c2e8"
      },
      "outputs": [
        {
          "output_type": "execute_result",
          "data": {
            "text/plain": [
              "customerID          0\n",
              "gender              0\n",
              "SeniorCitizen       0\n",
              "Partner             0\n",
              "Dependents          0\n",
              "tenure              0\n",
              "PhoneService        0\n",
              "MultipleLines       0\n",
              "InternetService     0\n",
              "OnlineSecurity      0\n",
              "OnlineBackup        0\n",
              "DeviceProtection    0\n",
              "TechSupport         0\n",
              "StreamingTV         0\n",
              "StreamingMovies     0\n",
              "Contract            0\n",
              "PaperlessBilling    0\n",
              "PaymentMethod       0\n",
              "MonthlyCharges      0\n",
              "TotalCharges        0\n",
              "Churn               0\n",
              "dtype: int64"
            ]
          },
          "metadata": {},
          "execution_count": 16
        }
      ],
      "source": [
        "# membuang missing values\n",
        "df_new.dropna(inplace=True)\n",
        "df_new.isnull().sum()"
      ]
    },
    {
      "cell_type": "code",
      "execution_count": 17,
      "metadata": {
        "id": "bJooCnSaEKuM"
      },
      "outputs": [],
      "source": [
        "df_new.TotalCharges = df_new.TotalCharges.astype(\"float64\")"
      ]
    },
    {
      "cell_type": "markdown",
      "metadata": {
        "id": "9O7hVltTxufK"
      },
      "source": [
        "## 4.3. Melihat korelasi setiap kolom dengan target (Churn)"
      ]
    },
    {
      "cell_type": "markdown",
      "metadata": {
        "id": "Qw1Mzhjwsz89"
      },
      "source": [
        "korelasi di setiap kolom akan dilihat dari :\n",
        "1. Distribusi data kolom tersebut dengan kolom target dengan grafik.\n",
        "2. Chi-Square test.\n",
        "    dilakukan dengan hypothesis testing dengan rules :\n",
        "    - H0: tidak ada korelasi antara kolom dan kolom target\n",
        "    - H1: ada korelasi antara kolom dan kolom target\n",
        "    - P-Val < alpha (0.05) --> berhasil menolak H0\n",
        "    - P-Val >= alpha (0.05) --> gagal menolak H0 --> kemungkinan ada korelasi --> masukkan kolom ke pemodelan"
      ]
    },
    {
      "cell_type": "code",
      "execution_count": 18,
      "metadata": {
        "id": "aoxpBfzZEg3w",
        "colab": {
          "base_uri": "https://localhost:8080/",
          "height": 0
        },
        "outputId": "895a7251-37f4-4d86-df66-2ba2ac0bf2d2"
      },
      "outputs": [
        {
          "output_type": "execute_result",
          "data": {
            "text/plain": [
              "<matplotlib.axes._subplots.AxesSubplot at 0x7fa0f3e7de90>"
            ]
          },
          "metadata": {},
          "execution_count": 18
        },
        {
          "output_type": "display_data",
          "data": {
            "text/plain": [
              "<Figure size 1080x576 with 1 Axes>"
            ],
            "image/png": "[encoded data removed]"
          },
          "metadata": {}
        }
      ],
      "source": [
        "# Menampilkan persentase data rain tomorrow\n",
        "df_new['Churn'].value_counts().plot(kind='pie',legend=True,autopct='%1.0f%%', figsize=(15,8))"
      ]
    },
    {
      "cell_type": "markdown",
      "metadata": {
        "id": "kGEtHc3IEpB1"
      },
      "source": [
        "terdapat imbalance pada data yaitu sebesar 73% adalah not churn dan 22% adalah churn. Nantinya akan saya akan mencoba handling handling imbalance data ini dengan SMOTE-NC (karena targetnya berupa data kategorikal) yang bisa jadi dapat mengimprove performance model."
      ]
    },
    {
      "cell_type": "code",
      "execution_count": 19,
      "metadata": {
        "id": "AOr8AmpGDaEr",
        "colab": {
          "base_uri": "https://localhost:8080/"
        },
        "outputId": "05dd781c-b3b2-4244-c389-949b17bc7d89"
      },
      "outputs": [
        {
          "output_type": "execute_result",
          "data": {
            "text/plain": [
              "Index(['customerID', 'gender', 'SeniorCitizen', 'Partner', 'Dependents',\n",
              "       'tenure', 'PhoneService', 'MultipleLines', 'InternetService',\n",
              "       'OnlineSecurity', 'OnlineBackup', 'DeviceProtection', 'TechSupport',\n",
              "       'StreamingTV', 'StreamingMovies', 'Contract', 'PaperlessBilling',\n",
              "       'PaymentMethod', 'MonthlyCharges', 'TotalCharges', 'Churn'],\n",
              "      dtype='object')"
            ]
          },
          "metadata": {},
          "execution_count": 19
        }
      ],
      "source": [
        "df_new.columns"
      ]
    },
    {
      "cell_type": "code",
      "execution_count": 20,
      "metadata": {
        "id": "z_lCrpTwHcWL"
      },
      "outputs": [],
      "source": [
        "df_new_ = df_new.copy()"
      ]
    },
    {
      "cell_type": "markdown",
      "metadata": {
        "id": "id-4unrFOu_Z"
      },
      "source": [
        "### 4.3.1. :Melihat korelasi kolom kategorikal dan target dengan grafik"
      ]
    },
    {
      "cell_type": "code",
      "execution_count": 21,
      "metadata": {
        "id": "dEyqQNnRNBBC"
      },
      "outputs": [],
      "source": [
        "# membuat list kolom kategorikal\n",
        "categorical_columns = ['gender', 'SeniorCitizen', 'Partner', 'Dependents','PhoneService', 'MultipleLines', 'InternetService',\n",
        "       'OnlineSecurity', 'OnlineBackup', 'DeviceProtection', 'TechSupport',\n",
        "       'StreamingTV', 'StreamingMovies', 'Contract', 'PaperlessBilling',\n",
        "       'PaymentMethod']"
      ]
    },
    {
      "cell_type": "code",
      "execution_count": 22,
      "metadata": {
        "id": "Q9zIB6KvKcW8",
        "colab": {
          "base_uri": "https://localhost:8080/",
          "height": 0
        },
        "outputId": "73b411b3-8df1-4880-d5cd-7e6e9804dc76"
      },
      "outputs": [
        {
          "output_type": "display_data",
          "data": {
            "text/plain": [
              "<Figure size 1440x1800 with 16 Axes>"
            ],
            "image/png": "[encoded data removed]"
          },
          "metadata": {
            "needs_background": "light"
          }
        }
      ],
      "source": [
        "fig, axes = plt.subplots(4,4, figsize = (20,25))\n",
        "\n",
        "axes = np.ravel(axes)\n",
        "for i in range(len(categorical_columns)):\n",
        "    sns.countplot(data = df_new, x = categorical_columns[i], ax = axes[i], hue='Churn', order = df_new[categorical_columns[i]].value_counts().index)\n",
        "    axes[i].set_xticklabels(labels = df_new[categorical_columns[i]].unique(), rotation=45, ha='right')\n",
        "axes = np.reshape(axes, (4,4))\n",
        "plt.tight_layout()"
      ]
    },
    {
      "cell_type": "markdown",
      "metadata": {
        "id": "lkoou6hBO95w"
      },
      "source": [
        "**Gender** :\n",
        "- Proporsi gender antara Male dan Female seimbang.\n",
        "- Kebanyakan customer baik gender Male dan Female adalah not churn.\n",
        "- Pattern distribusi churn/not churn pada kedua gender sama sehingga menunjukkan *`tidak ada korelasi antara gender dan churn`*.\n",
        "\n",
        "**SeniorCitizen** :\n",
        "- Customer mayoritas adalah merupakan customer non-senior atau customer di usia muda yaitu usia <65 tahun.\n",
        "- Terdapat pattern menarik dimana customer dengan usia >65 tahun (senior) memiliki kemungkinan yang lebih kecil untuk churn sehingga hal ini mengindikasikan *`adanya korelasi SeniorCitizen dengan Churn`*.\n",
        "\n",
        "**Partner**\n",
        "- Proporsi customer antara yang memiliki partner dan tidak memiliki partner hampir seimbang.\n",
        "-  Terdapat pattern menarik dimana customer yang memiliki partner memiliki kemungkinan lebih besar untuk churn sehingga hal ini mengindikasikan *`adanya korelasi Partner dengan Churn`*.\n",
        "\n",
        "**Dependents**\n",
        "- Customer mayoritas adalah merupakan customer yang memiliki dependents.\n",
        "- Terdapat pattern menarik dimana customer yang memiliki dependents memiliki kemungkinan lebih kecil untuk churn sehingga hal ini mengindikasikan *`adanya korelasi Dependents dengan Churn`*.\n",
        "\n",
        "**Phone Service**\n",
        "- Customer mayoritas adalah merupakan customer yang tidak memiliki phone service.\n",
        "- Terdapat pattern menarik dimana customer yang tidak memiliki phone service memiliki kemungkinan lebih besar untuk churn sehingga hal ini mengindikasikan *`adanya korelasi PhoneService dengan Churn`*.\n",
        "\n",
        "**Multiple Lines**\n",
        "- Distribusi customer berdasarkan MultipleLines paling banyak adalah customer dengan No phone service.\n",
        "- Pattern distirbusi churn dan not churn antara customer dengan multiple lines no phone service dan multiple lines no hampir sama sehingga hal ini mengindikasikan *`tidak adanya korelasi antara MultipleLines dan Churn`*. Selain itu kolom ini memiliki value yang sama dan berhubungan dengan phone service sehingga *`tidak independen dan tidak cocok digunakan sebagai fitur pemodelan`*.\n",
        "\n",
        "**Internet Service**\n",
        "- Distribusi jenis internet service provider customer tersebar cukup merata antara DSL, Fiber Optic, dan No.\n",
        "- Terdapat pattern menarik dimana customer dengan jenis insternet service provider DSL memiliki kemungkinan terbesar untuk churn dan kemungkinan terkecilnya ada pada jenis no. Hal ini mengindikasikan *`adanya korelasi antara InternetService dan Churn`*.\n",
        "\n",
        "**Online Security, Online Backup, Device Protection, Tech Support, Streaming TV, and Streaming Movies**\n",
        "- Kolom-kolom ini memiliki value yang membuatnya menjadi bersifat dependent yaitu \"no internet service\" sehingga *`kolom ini tidak cocok digunakan sebagai fitur pemodelan`*.\n",
        "\n",
        "**Contract**\n",
        "- Distribusi jenis contract customer tersebar cukup merata antara Month-to-month, one year, dan two year.\n",
        "- Akan tetapi customer dengan contract Month-to-month memiliki probabilitas jauh lebih besar untuk churn.\n",
        "- Customer dengan masa contract yang lebih lama (annual/2 tahun) cenderung mengurangi keputusan mereka untuk churn/not churn karena apapun yang terjadi (misal service buruk), customer ini akan tetap berlangganan setidaknya sampai masa kontraknya habis.\n",
        "- *`Hal ini mengindikasikan adanya korelasi antara Contract dan Churn`*.\n",
        "\n",
        "**Paperless Billing**\n",
        "- Distribusi jenis Paperless Billing customer not churn tersebar cukup merata antara yes dan no.\n",
        "- Terdapat pattern menarik dimana customer dengan paperless billing memiliki probabilitas lebih tinggi untuk churn. Asumsi saya adalah customer kita secara psikologis merasa bahwa pengeluaran mereka untuk telco banyak karena cukup mudah untuk mengecek dan memanage billing secara paperless sehingga mendorong mereka mengambil keputusan untuk churn.\n",
        "- *`Hal ini mengindikasikan adanya korelasi antara PaperlessBilling dan Churn`*.\n",
        "\n",
        "**Payment Method**\n",
        "- Distribusi jenis Payment Method customer not churn tersebar cukup merata antara Electric Check, Mailed Check, and automatic (bank transfer & credit card).\n",
        "- Asumsi saya adalah customer banyak yang churn jika payment methodnya Electric Check karena metode ini tidak praktis sedangkan metode payment automatic seperti bank transfer dan credit card memiliki kemungkinan customer churn yang kecil karena metode ini lebih praktis. Customer menyukai metode payment yang praktis.\n",
        "- *`Hal ini mengindikasikan adanya korelasi antara PaymentMethod dan Churn`*."
      ]
    },
    {
      "cell_type": "markdown",
      "metadata": {
        "id": "uvVmCalBO2Xw"
      },
      "source": [
        "### 4.3.2. Melihat korelasi kolom numerikal dan target dengan grafik"
      ]
    },
    {
      "cell_type": "code",
      "execution_count": 23,
      "metadata": {
        "id": "YMs1RQwKObQj",
        "colab": {
          "base_uri": "https://localhost:8080/",
          "height": 0
        },
        "outputId": "04a57609-0f14-45b7-c89c-85132e1c80f5"
      },
      "outputs": [
        {
          "output_type": "stream",
          "name": "stderr",
          "text": [
            "/usr/local/lib/python3.7/dist-packages/seaborn/distributions.py:2619: FutureWarning: `distplot` is a deprecated function and will be removed in a future version. Please adapt your code to use either `displot` (a figure-level function with similar flexibility) or `histplot` (an axes-level function for histograms).\n",
            "  warnings.warn(msg, FutureWarning)\n",
            "/usr/local/lib/python3.7/dist-packages/seaborn/distributions.py:2619: FutureWarning: `distplot` is a deprecated function and will be removed in a future version. Please adapt your code to use either `displot` (a figure-level function with similar flexibility) or `histplot` (an axes-level function for histograms).\n",
            "  warnings.warn(msg, FutureWarning)\n",
            "/usr/local/lib/python3.7/dist-packages/seaborn/distributions.py:2619: FutureWarning: `distplot` is a deprecated function and will be removed in a future version. Please adapt your code to use either `displot` (a figure-level function with similar flexibility) or `histplot` (an axes-level function for histograms).\n",
            "  warnings.warn(msg, FutureWarning)\n"
          ]
        },
        {
          "output_type": "display_data",
          "data": {
            "text/plain": [
              "<Figure size 1080x360 with 3 Axes>"
            ],
            "image/png": "[encoded data removed]"
          },
          "metadata": {
            "needs_background": "light"
          }
        }
      ],
      "source": [
        "# membuat list kolom numerikal\n",
        "numeric_columns = ['tenure', 'MonthlyCharges', 'TotalCharges']\n",
        "\n",
        "# membuat fungsi untuk menampilkan grafik displot\n",
        "def distplot(df, col, axes):\n",
        "    sns.distplot(df[col], ax = axes)\n",
        "    axes.axvline(df[col].mean(), linestyle = '--', color = \"red\")\n",
        "    axes.axvline(df[col].median(), linestyle = '--', color = \"green\")\n",
        "\n",
        "fig, axes = plt.subplots(1,3, figsize = (15,5))\n",
        "\n",
        "# menampilkan distplot tiap kolom numerik untuk analisis korelasi\n",
        "axes = np.ravel(axes)\n",
        "for i in range(len(numeric_columns)):\n",
        "    distplot(df_new, numeric_columns[i], axes[i])\n",
        "for i in range(len(numeric_columns), 1*3):\n",
        "    axes[i].axis(\"off\")\n",
        "axes = np.reshape(axes, (1, 3))\n",
        "plt.tight_layout()\n",
        "plt.show()"
      ]
    },
    {
      "cell_type": "markdown",
      "metadata": {
        "id": "R2Svj0vegmLz"
      },
      "source": [
        "- Apabila dilihat sepintas, dataset ini skewed untuk kolom TotalCharges.\n",
        "- Distribusi tenure dan MonthlyCharges cukup merata"
      ]
    },
    {
      "cell_type": "markdown",
      "metadata": {
        "id": "VMWnfF8EL9ma"
      },
      "source": [
        "Saya akan melihat korelasi antar-kolom."
      ]
    },
    {
      "cell_type": "code",
      "execution_count": 24,
      "metadata": {
        "id": "XmEesT1UL15b",
        "colab": {
          "base_uri": "https://localhost:8080/",
          "height": 0
        },
        "outputId": "fd5e4ef8-8d90-405c-9df1-7696e35ba7d8"
      },
      "outputs": [
        {
          "output_type": "execute_result",
          "data": {
            "text/plain": [
              "<matplotlib.axes._subplots.AxesSubplot at 0x7fa0f3913c10>"
            ]
          },
          "metadata": {},
          "execution_count": 24
        },
        {
          "output_type": "display_data",
          "data": {
            "text/plain": [
              "<Figure size 1080x720 with 2 Axes>"
            ],
            "image/png": "[encoded data removed]"
          },
          "metadata": {
            "needs_background": "light"
          }
        }
      ],
      "source": [
        "#melihat korelasi numeric antar feature\n",
        "plt.subplots(figsize=(15, 10))\n",
        "sns.heatmap(df_new.corr(), annot=True)"
      ]
    },
    {
      "cell_type": "markdown",
      "metadata": {
        "id": "hzAWDhmMOgX9"
      },
      "source": [
        "- Terdapat korelasi tinggi antara tenure dan TotalCharges sebesar 0.83. Hal ini wajar karena tenure yang lama pastinya memiliki total charges yang lebih besar pula bila ditinjau dari waktunya.\n",
        "- Terdapat korelasi cukup tinggi antara MonthlyCharges dan TotalCharges sebesar 0.65. Asumsi saya adalah karena memang kedua kolom itu berhubungan. Bila tiap bulannya seorang customer memiliki Monthly Charges yang tinggi, maka TotalCharges juga tinggi. Namun bisa jadi juga jika MonthlyCharges rendah dan customer tersebut tenure nya lama, ia memiliki TotalCharges yang tinggi. Jadi wajar saja jika nilai korelasinya hanya 0.65.\n",
        "- Berdasarkan hal tersebut, kolom TotalCharges dependent terhadap MonthlyCharges dan Tenure sehingga saya akan menggunakan salah satunya saja untuk pemodelan yaitu MonthlyCharges."
      ]
    },
    {
      "cell_type": "code",
      "execution_count": 25,
      "metadata": {
        "id": "cL1y5oHrvDLQ",
        "colab": {
          "base_uri": "https://localhost:8080/"
        },
        "outputId": "8a80eb76-04e0-474e-9980-b889883a8549"
      },
      "outputs": [
        {
          "output_type": "execute_result",
          "data": {
            "text/plain": [
              "Index(['customerID', 'gender', 'SeniorCitizen', 'Partner', 'Dependents',\n",
              "       'tenure', 'PhoneService', 'MultipleLines', 'InternetService',\n",
              "       'OnlineSecurity', 'OnlineBackup', 'DeviceProtection', 'TechSupport',\n",
              "       'StreamingTV', 'StreamingMovies', 'Contract', 'PaperlessBilling',\n",
              "       'PaymentMethod', 'MonthlyCharges', 'TotalCharges', 'Churn'],\n",
              "      dtype='object')"
            ]
          },
          "metadata": {},
          "execution_count": 25
        }
      ],
      "source": [
        "df_new.columns"
      ]
    },
    {
      "cell_type": "markdown",
      "metadata": {
        "id": "fMHSbj7muSH-"
      },
      "source": [
        "### 4.3.3. Analisis Chi-Square"
      ]
    },
    {
      "cell_type": "markdown",
      "metadata": {
        "id": "2eLxxQLVxufM"
      },
      "source": [
        "#### Churn dan Gender"
      ]
    },
    {
      "cell_type": "code",
      "execution_count": 26,
      "metadata": {
        "id": "j9lfDTRXxufR",
        "colab": {
          "base_uri": "https://localhost:8080/"
        },
        "outputId": "0575edcf-504b-4369-e573-8d946fc57331"
      },
      "outputs": [
        {
          "output_type": "stream",
          "name": "stdout",
          "text": [
            "Approach 1: The p-value approach to hypothesis testing in the decision rule\n",
            "chisquare-score is: 0.5134128445822852  and p value is: 0.473665182264535\n",
            "Failed to reject the null hypothesis.\n",
            "\n",
            "--------------------------------------------------------------------------------------\n",
            "Approach 2: The critical value approach to hypothesis testing in the decision rule\n",
            "chisquare-score is: 0.5134128445822852  and critical value is: 3.841458820694124\n",
            "Failed to reject the null hypothesis.\n"
          ]
        }
      ],
      "source": [
        "# Membuat contingency table\n",
        "data_crosstab = pd.crosstab(df_new['Churn'],\n",
        "                            df_new['gender'],\n",
        "                           margins=True, margins_name=\"Total\")\n",
        "\n",
        "# Mendefinisikan significance level\n",
        "alpha = 0.05\n",
        "\n",
        "# Perhitungan Chisquare\n",
        "chi_square = 0\n",
        "rows = df_new['Churn'].unique()\n",
        "columns = df_new['gender'].unique()\n",
        "for i in columns:\n",
        "    for j in rows:\n",
        "        O = data_crosstab[i][j]\n",
        "        E = data_crosstab[i]['Total'] * data_crosstab['Total'][j] / data_crosstab['Total']['Total']\n",
        "        chi_square += (O-E)**2/E\n",
        "\n",
        "# Pendekatan dengan p-value\n",
        "print(\"Approach 1: The p-value approach to hypothesis testing in the decision rule\")\n",
        "p_value = 1 - stats.chi2.cdf(chi_square, (len(rows)-1)*(len(columns)-1))\n",
        "conclusion = \"Failed to reject the null hypothesis.\"\n",
        "if p_value <= alpha:\n",
        "    conclusion = \"Null Hypothesis is rejected.\"\n",
        "        \n",
        "print(\"chisquare-score is:\", chi_square, \" and p value is:\", p_value)\n",
        "print(conclusion)\n",
        "    \n",
        "# Pendekatan dengan critical value\n",
        "print(\"\\n--------------------------------------------------------------------------------------\")\n",
        "print(\"Approach 2: The critical value approach to hypothesis testing in the decision rule\")\n",
        "critical_value = stats.chi2.ppf(1-alpha, (len(rows)-1)*(len(columns)-1))\n",
        "conclusion = \"Failed to reject the null hypothesis.\"\n",
        "if chi_square > critical_value:\n",
        "    conclusion = \"Null Hypothesis is rejected.\"\n",
        "        \n",
        "print(\"chisquare-score is:\", chi_square, \" and critical value is:\", critical_value)\n",
        "print(conclusion)"
      ]
    },
    {
      "cell_type": "markdown",
      "metadata": {
        "id": "jOUoZ7E-xufT"
      },
      "source": [
        "berdasarkan perhitungan chi-square test, terdapat kemungkinan gender tidak berkorelasi dengan target.\n",
        "\n",
        "conclusion : gender tidak dimasukkan sebagai fitur ke model."
      ]
    },
    {
      "cell_type": "markdown",
      "metadata": {
        "id": "UPS2rqzExufU"
      },
      "source": [
        "#### Churn dan SeniorCitizen"
      ]
    },
    {
      "cell_type": "code",
      "execution_count": 27,
      "metadata": {
        "id": "Z4DYHbJpxufX",
        "colab": {
          "base_uri": "https://localhost:8080/"
        },
        "outputId": "9e534683-004d-4bee-da44-a074fc6fbb95"
      },
      "outputs": [
        {
          "output_type": "stream",
          "name": "stdout",
          "text": [
            "Approach 1: The p-value approach to hypothesis testing in the decision rule\n",
            "chisquare-score is: 159.36346482495168  and p value is: 0.0\n",
            "Null Hypothesis is rejected.\n",
            "\n",
            "--------------------------------------------------------------------------------------\n",
            "Approach 2: The critical value approach to hypothesis testing in the decision rule\n",
            "chisquare-score is: 159.36346482495168  and critical value is: 3.841458820694124\n",
            "Null Hypothesis is rejected.\n"
          ]
        }
      ],
      "source": [
        "# Membuat contingency table\n",
        "data_crosstab = pd.crosstab(df_new['Churn'],\n",
        "                            df_new['SeniorCitizen'],\n",
        "                           margins=True, margins_name=\"Total\")\n",
        "\n",
        "# Mendefinisikan significance level\n",
        "alpha = 0.05\n",
        "\n",
        "# Perhitungan Chisquare\n",
        "chi_square = 0\n",
        "rows = df_new['Churn'].unique()\n",
        "columns = df_new['SeniorCitizen'].unique()\n",
        "for i in columns:\n",
        "    for j in rows:\n",
        "        O = data_crosstab[i][j]\n",
        "        E = data_crosstab[i]['Total'] * data_crosstab['Total'][j] / data_crosstab['Total']['Total']\n",
        "        chi_square += (O-E)**2/E\n",
        "\n",
        "# Pendekatan dengan p-value\n",
        "print(\"Approach 1: The p-value approach to hypothesis testing in the decision rule\")\n",
        "p_value = 1 - stats.chi2.cdf(chi_square, (len(rows)-1)*(len(columns)-1))\n",
        "conclusion = \"Failed to reject the null hypothesis.\"\n",
        "if p_value <= alpha:\n",
        "    conclusion = \"Null Hypothesis is rejected.\"\n",
        "        \n",
        "print(\"chisquare-score is:\", chi_square, \" and p value is:\", p_value)\n",
        "print(conclusion)\n",
        "    \n",
        "# Pendekatan dengan critical value\n",
        "print(\"\\n--------------------------------------------------------------------------------------\")\n",
        "print(\"Approach 2: The critical value approach to hypothesis testing in the decision rule\")\n",
        "critical_value = stats.chi2.ppf(1-alpha, (len(rows)-1)*(len(columns)-1))\n",
        "conclusion = \"Failed to reject the null hypothesis.\"\n",
        "if chi_square > critical_value:\n",
        "    conclusion = \"Null Hypothesis is rejected.\"\n",
        "        \n",
        "print(\"chisquare-score is:\", chi_square, \" and critical value is:\", critical_value)\n",
        "print(conclusion)"
      ]
    },
    {
      "cell_type": "markdown",
      "metadata": {
        "id": "qRLODCC-xufY"
      },
      "source": [
        "berdasarkan perhitungan chi-square test, terdapat kemungkinan SeniorCitizen berkorelasi dengan target.\n",
        "\n",
        "conclusion : SeniorCitizen dimasukkan sebagai fitur ke model."
      ]
    },
    {
      "cell_type": "markdown",
      "metadata": {
        "id": "0kzdsRusxufY"
      },
      "source": [
        "#### Churn dan Partner"
      ]
    },
    {
      "cell_type": "code",
      "execution_count": 28,
      "metadata": {
        "id": "5k4Jg45Txufa",
        "colab": {
          "base_uri": "https://localhost:8080/"
        },
        "outputId": "ee5ed22c-51bc-45af-b1fc-64cdbd6c27ba"
      },
      "outputs": [
        {
          "output_type": "stream",
          "name": "stdout",
          "text": [
            "Approach 1: The p-value approach to hypothesis testing in the decision rule\n",
            "chisquare-score is: 158.1818725853124  and p value is: 0.0\n",
            "Null Hypothesis is rejected.\n",
            "\n",
            "--------------------------------------------------------------------------------------\n",
            "Approach 2: The critical value approach to hypothesis testing in the decision rule\n",
            "chisquare-score is: 158.1818725853124  and critical value is: 3.841458820694124\n",
            "Null Hypothesis is rejected.\n"
          ]
        }
      ],
      "source": [
        "# Membuat contingency table\n",
        "data_crosstab = pd.crosstab(df_new['Churn'],\n",
        "                            df_new['Partner'],\n",
        "                           margins=True, margins_name=\"Total\")\n",
        "\n",
        "# Mendefinisikan significance level\n",
        "alpha = 0.05\n",
        "\n",
        "# Perhitungan Chisquare\n",
        "chi_square = 0\n",
        "rows = df_new['Churn'].unique()\n",
        "columns = df_new['Partner'].unique()\n",
        "for i in columns:\n",
        "    for j in rows:\n",
        "        O = data_crosstab[i][j]\n",
        "        E = data_crosstab[i]['Total'] * data_crosstab['Total'][j] / data_crosstab['Total']['Total']\n",
        "        chi_square += (O-E)**2/E\n",
        "\n",
        "# Pendekatan dengan p-value\n",
        "print(\"Approach 1: The p-value approach to hypothesis testing in the decision rule\")\n",
        "p_value = 1 - stats.chi2.cdf(chi_square, (len(rows)-1)*(len(columns)-1))\n",
        "conclusion = \"Failed to reject the null hypothesis.\"\n",
        "if p_value <= alpha:\n",
        "    conclusion = \"Null Hypothesis is rejected.\"\n",
        "        \n",
        "print(\"chisquare-score is:\", chi_square, \" and p value is:\", p_value)\n",
        "print(conclusion)\n",
        "    \n",
        "# Pendekatan dengan critical value\n",
        "print(\"\\n--------------------------------------------------------------------------------------\")\n",
        "print(\"Approach 2: The critical value approach to hypothesis testing in the decision rule\")\n",
        "critical_value = stats.chi2.ppf(1-alpha, (len(rows)-1)*(len(columns)-1))\n",
        "conclusion = \"Failed to reject the null hypothesis.\"\n",
        "if chi_square > critical_value:\n",
        "    conclusion = \"Null Hypothesis is rejected.\"\n",
        "        \n",
        "print(\"chisquare-score is:\", chi_square, \" and critical value is:\", critical_value)\n",
        "print(conclusion)"
      ]
    },
    {
      "cell_type": "markdown",
      "metadata": {
        "id": "4-sYWjqPxufi"
      },
      "source": [
        "berdasarkan perhitungan chi-square test, terdapat kemungkinan Partner berkorelasi dengan target.\n",
        "\n",
        "conclusion : Partner dimasukkan sebagai fitur ke model ML."
      ]
    },
    {
      "cell_type": "markdown",
      "metadata": {
        "id": "OjfZtARWxufj"
      },
      "source": [
        "#### Churn dan Dependents"
      ]
    },
    {
      "cell_type": "code",
      "execution_count": 29,
      "metadata": {
        "id": "4eC4vje6xufm",
        "colab": {
          "base_uri": "https://localhost:8080/"
        },
        "outputId": "08b1c463-7011-4f28-a406-b51e7ff05e2a"
      },
      "outputs": [
        {
          "output_type": "stream",
          "name": "stdout",
          "text": [
            "Approach 1: The p-value approach to hypothesis testing in the decision rule\n",
            "chisquare-score is: 187.1277625682451  and p value is: 0.0\n",
            "Null Hypothesis is rejected.\n",
            "\n",
            "--------------------------------------------------------------------------------------\n",
            "Approach 2: The critical value approach to hypothesis testing in the decision rule\n",
            "chisquare-score is: 187.1277625682451  and critical value is: 3.841458820694124\n",
            "Null Hypothesis is rejected.\n"
          ]
        }
      ],
      "source": [
        "# Membuat contingency table\n",
        "data_crosstab = pd.crosstab(df_new['Churn'],\n",
        "                            df_new['Dependents'],\n",
        "                           margins=True, margins_name=\"Total\")\n",
        "\n",
        "# Mendefinisikan significance level\n",
        "alpha = 0.05\n",
        "\n",
        "# Perhitungan Chisquare\n",
        "chi_square = 0\n",
        "rows = df_new['Churn'].unique()\n",
        "columns = df_new['Dependents'].unique()\n",
        "for i in columns:\n",
        "    for j in rows:\n",
        "        O = data_crosstab[i][j]\n",
        "        E = data_crosstab[i]['Total'] * data_crosstab['Total'][j] / data_crosstab['Total']['Total']\n",
        "        chi_square += (O-E)**2/E\n",
        "\n",
        "# Pendekatan dengan p-value\n",
        "print(\"Approach 1: The p-value approach to hypothesis testing in the decision rule\")\n",
        "p_value = 1 - stats.chi2.cdf(chi_square, (len(rows)-1)*(len(columns)-1))\n",
        "conclusion = \"Failed to reject the null hypothesis.\"\n",
        "if p_value <= alpha:\n",
        "    conclusion = \"Null Hypothesis is rejected.\"\n",
        "        \n",
        "print(\"chisquare-score is:\", chi_square, \" and p value is:\", p_value)\n",
        "print(conclusion)\n",
        "    \n",
        "# Pendekatan dengan critical value\n",
        "print(\"\\n--------------------------------------------------------------------------------------\")\n",
        "print(\"Approach 2: The critical value approach to hypothesis testing in the decision rule\")\n",
        "critical_value = stats.chi2.ppf(1-alpha, (len(rows)-1)*(len(columns)-1))\n",
        "conclusion = \"Failed to reject the null hypothesis.\"\n",
        "if chi_square > critical_value:\n",
        "    conclusion = \"Null Hypothesis is rejected.\"\n",
        "        \n",
        "print(\"chisquare-score is:\", chi_square, \" and critical value is:\", critical_value)\n",
        "print(conclusion)"
      ]
    },
    {
      "cell_type": "markdown",
      "metadata": {
        "id": "WvnBUpXvxufn"
      },
      "source": [
        "berdasarkan perhitungan chi-square test, terdapat kemungkinan Dependents berkorelasi dengan target.\n",
        "\n",
        "conclusion : Dependents dimasukkan sebagai fitur ke model."
      ]
    },
    {
      "cell_type": "markdown",
      "metadata": {
        "id": "45vkOyCQxufn"
      },
      "source": [
        "#### Churn dan tenure"
      ]
    },
    {
      "cell_type": "code",
      "execution_count": 30,
      "metadata": {
        "id": "YFc1bDbvdAhK",
        "colab": {
          "base_uri": "https://localhost:8080/"
        },
        "outputId": "2255a008-a34c-417c-dc3b-baddbd4a2c90"
      },
      "outputs": [
        {
          "output_type": "stream",
          "name": "stdout",
          "text": [
            "Approach 1: The p-value approach to hypothesis testing in the decision rule\n",
            "chisquare-score is: 1060.2925967496433  and p value is: 0.0\n",
            "Null Hypothesis is rejected.\n",
            "\n",
            "--------------------------------------------------------------------------------------\n",
            "Approach 2: The critical value approach to hypothesis testing in the decision rule\n",
            "chisquare-score is: 1060.2925967496433  and critical value is: 91.67023917605484\n",
            "Null Hypothesis is rejected.\n"
          ]
        }
      ],
      "source": [
        "# Membuat contingency table\n",
        "data_crosstab = pd.crosstab(df_new['Churn'],\n",
        "                            df_new['tenure'],\n",
        "                           margins=True, margins_name=\"Total\")\n",
        "\n",
        "# Mendefinisikan significance level\n",
        "alpha = 0.05\n",
        "\n",
        "# Perhitungan Chisquare\n",
        "chi_square = 0\n",
        "rows = df_new['Churn'].unique()\n",
        "columns = df_new['tenure'].unique()\n",
        "for i in columns:\n",
        "    for j in rows:\n",
        "        O = data_crosstab[i][j]\n",
        "        E = data_crosstab[i]['Total'] * data_crosstab['Total'][j] / data_crosstab['Total']['Total']\n",
        "        chi_square += (O-E)**2/E\n",
        "\n",
        "# Pendekatan dengan p-value\n",
        "print(\"Approach 1: The p-value approach to hypothesis testing in the decision rule\")\n",
        "p_value = 1 - stats.chi2.cdf(chi_square, (len(rows)-1)*(len(columns)-1))\n",
        "conclusion = \"Failed to reject the null hypothesis.\"\n",
        "if p_value <= alpha:\n",
        "    conclusion = \"Null Hypothesis is rejected.\"\n",
        "        \n",
        "print(\"chisquare-score is:\", chi_square, \" and p value is:\", p_value)\n",
        "print(conclusion)\n",
        "    \n",
        "# Pendekatan dengan critical value\n",
        "print(\"\\n--------------------------------------------------------------------------------------\")\n",
        "print(\"Approach 2: The critical value approach to hypothesis testing in the decision rule\")\n",
        "critical_value = stats.chi2.ppf(1-alpha, (len(rows)-1)*(len(columns)-1))\n",
        "conclusion = \"Failed to reject the null hypothesis.\"\n",
        "if chi_square > critical_value:\n",
        "    conclusion = \"Null Hypothesis is rejected.\"\n",
        "        \n",
        "print(\"chisquare-score is:\", chi_square, \" and critical value is:\", critical_value)\n",
        "print(conclusion)"
      ]
    },
    {
      "cell_type": "markdown",
      "metadata": {
        "id": "yNpgimTzxufs"
      },
      "source": [
        "berdasarkan perhitungan chi-square test, terdapat kemungkinan tenure berkorelasi dengan target.\n",
        "\n",
        "conclusion : tenure akan dimasukkan sebagai fitur ke model."
      ]
    },
    {
      "cell_type": "markdown",
      "metadata": {
        "id": "XVV-s8D8xuft"
      },
      "source": [
        "#### Churn dan Phone Service"
      ]
    },
    {
      "cell_type": "code",
      "execution_count": 31,
      "metadata": {
        "id": "ioLgNC_bxufv",
        "colab": {
          "base_uri": "https://localhost:8080/"
        },
        "outputId": "c70cf6b5-8afa-4491-bdbd-1559dfca3431"
      },
      "outputs": [
        {
          "output_type": "stream",
          "name": "stdout",
          "text": [
            "Approach 1: The p-value approach to hypothesis testing in the decision rule\n",
            "chisquare-score is: 0.9611956938504398  and p value is: 0.32688580734435513\n",
            "Failed to reject the null hypothesis.\n",
            "\n",
            "--------------------------------------------------------------------------------------\n",
            "Approach 2: The critical value approach to hypothesis testing in the decision rule\n",
            "chisquare-score is: 0.9611956938504398  and critical value is: 3.841458820694124\n",
            "Failed to reject the null hypothesis.\n"
          ]
        }
      ],
      "source": [
        "# Membuat contingency table\n",
        "data_crosstab = pd.crosstab(df_new['Churn'],\n",
        "                            df_new['PhoneService'],\n",
        "                           margins=True, margins_name=\"Total\")\n",
        "\n",
        "# Mendefinisikan significance level\n",
        "alpha = 0.05\n",
        "\n",
        "# Perhitungan Chisquare\n",
        "chi_square = 0\n",
        "rows = df_new['Churn'].unique()\n",
        "columns = df_new['PhoneService'].unique()\n",
        "for i in columns:\n",
        "    for j in rows:\n",
        "        O = data_crosstab[i][j]\n",
        "        E = data_crosstab[i]['Total'] * data_crosstab['Total'][j] / data_crosstab['Total']['Total']\n",
        "        chi_square += (O-E)**2/E\n",
        "\n",
        "# Pendekatan dengan p-value\n",
        "print(\"Approach 1: The p-value approach to hypothesis testing in the decision rule\")\n",
        "p_value = 1 - stats.chi2.cdf(chi_square, (len(rows)-1)*(len(columns)-1))\n",
        "conclusion = \"Failed to reject the null hypothesis.\"\n",
        "if p_value <= alpha:\n",
        "    conclusion = \"Null Hypothesis is rejected.\"\n",
        "        \n",
        "print(\"chisquare-score is:\", chi_square, \" and p value is:\", p_value)\n",
        "print(conclusion)\n",
        "    \n",
        "# Pendekatan dengan critical value\n",
        "print(\"\\n--------------------------------------------------------------------------------------\")\n",
        "print(\"Approach 2: The critical value approach to hypothesis testing in the decision rule\")\n",
        "critical_value = stats.chi2.ppf(1-alpha, (len(rows)-1)*(len(columns)-1))\n",
        "conclusion = \"Failed to reject the null hypothesis.\"\n",
        "if chi_square > critical_value:\n",
        "    conclusion = \"Null Hypothesis is rejected.\"\n",
        "        \n",
        "print(\"chisquare-score is:\", chi_square, \" and critical value is:\", critical_value)\n",
        "print(conclusion)"
      ]
    },
    {
      "cell_type": "markdown",
      "metadata": {
        "id": "rWm8Bs-Rxufw"
      },
      "source": [
        "berdasarkan perhitangan chi-square test, diambil kesimpulan bahwa bisa jadi tidak ada korelasi antara Phone Service dengan Churn. Akan tetapi, berdasarkan analisis grafik menunjukkan adanya korelasi yang cukup signifikan\n",
        "\n",
        "conclusion : PhoneService dimasukkan sebagai fitur ke model."
      ]
    },
    {
      "cell_type": "markdown",
      "metadata": {
        "id": "V8C_FXs5xufw"
      },
      "source": [
        "#### Churn dan Internet Service"
      ]
    },
    {
      "cell_type": "code",
      "execution_count": 32,
      "metadata": {
        "id": "e_ryNhAUxufy",
        "colab": {
          "base_uri": "https://localhost:8080/"
        },
        "outputId": "6eac215d-c680-480c-92ed-59a237db2387"
      },
      "outputs": [
        {
          "output_type": "stream",
          "name": "stdout",
          "text": [
            "Approach 1: The p-value approach to hypothesis testing in the decision rule\n",
            "chisquare-score is: 728.6956143058694  and p value is: 0.0\n",
            "Null Hypothesis is rejected.\n",
            "\n",
            "--------------------------------------------------------------------------------------\n",
            "Approach 2: The critical value approach to hypothesis testing in the decision rule\n",
            "chisquare-score is: 728.6956143058694  and critical value is: 5.991464547107979\n",
            "Null Hypothesis is rejected.\n"
          ]
        }
      ],
      "source": [
        "# Membuat contingency table\n",
        "data_crosstab = pd.crosstab(df_new['Churn'],\n",
        "                            df_new['InternetService'],\n",
        "                           margins=True, margins_name=\"Total\")\n",
        "\n",
        "# Mendefinisikan significance level\n",
        "alpha = 0.05\n",
        "\n",
        "# Perhitungan Chisquare\n",
        "chi_square = 0\n",
        "rows = df_new['Churn'].unique()\n",
        "columns = df_new['InternetService'].unique()\n",
        "for i in columns:\n",
        "    for j in rows:\n",
        "        O = data_crosstab[i][j]\n",
        "        E = data_crosstab[i]['Total'] * data_crosstab['Total'][j] / data_crosstab['Total']['Total']\n",
        "        chi_square += (O-E)**2/E\n",
        "\n",
        "# Pendekatan dengan p-value\n",
        "print(\"Approach 1: The p-value approach to hypothesis testing in the decision rule\")\n",
        "p_value = 1 - stats.chi2.cdf(chi_square, (len(rows)-1)*(len(columns)-1))\n",
        "conclusion = \"Failed to reject the null hypothesis.\"\n",
        "if p_value <= alpha:\n",
        "    conclusion = \"Null Hypothesis is rejected.\"\n",
        "        \n",
        "print(\"chisquare-score is:\", chi_square, \" and p value is:\", p_value)\n",
        "print(conclusion)\n",
        "    \n",
        "# Pendekatan dengan critical value\n",
        "print(\"\\n--------------------------------------------------------------------------------------\")\n",
        "print(\"Approach 2: The critical value approach to hypothesis testing in the decision rule\")\n",
        "critical_value = stats.chi2.ppf(1-alpha, (len(rows)-1)*(len(columns)-1))\n",
        "conclusion = \"Failed to reject the null hypothesis.\"\n",
        "if chi_square > critical_value:\n",
        "    conclusion = \"Null Hypothesis is rejected.\"\n",
        "        \n",
        "print(\"chisquare-score is:\", chi_square, \" and critical value is:\", critical_value)\n",
        "print(conclusion)"
      ]
    },
    {
      "cell_type": "markdown",
      "metadata": {
        "id": "e0-Yjp1Lxufz"
      },
      "source": [
        "berdasarkan perhitungan chi-square test, terdapat kemungkinan Internet Service berkorelasi dengan target.\n",
        "\n",
        "conclusion : InternetService akan dimasukkan sebagai fitur ke model."
      ]
    },
    {
      "cell_type": "markdown",
      "metadata": {
        "id": "NHAw5GHXYACe"
      },
      "source": [
        "#### Churn dan Contract"
      ]
    },
    {
      "cell_type": "code",
      "execution_count": 33,
      "metadata": {
        "id": "dP_CAqxDYACg",
        "colab": {
          "base_uri": "https://localhost:8080/"
        },
        "outputId": "eff96d34-c5ea-4570-cc2a-9029a8630398"
      },
      "outputs": [
        {
          "output_type": "stream",
          "name": "stdout",
          "text": [
            "Approach 1: The p-value approach to hypothesis testing in the decision rule\n",
            "chisquare-score is: 1179.5458287339445  and p value is: 0.0\n",
            "Null Hypothesis is rejected.\n",
            "\n",
            "--------------------------------------------------------------------------------------\n",
            "Approach 2: The critical value approach to hypothesis testing in the decision rule\n",
            "chisquare-score is: 1179.5458287339445  and critical value is: 5.991464547107979\n",
            "Null Hypothesis is rejected.\n"
          ]
        }
      ],
      "source": [
        "# Membuat contingency table\n",
        "data_crosstab = pd.crosstab(df_new['Churn'],\n",
        "                            df_new['Contract'],\n",
        "                           margins=True, margins_name=\"Total\")\n",
        "\n",
        "# Mendefinisikan significance level\n",
        "alpha = 0.05\n",
        "\n",
        "# Perhitungan Chisquare\n",
        "chi_square = 0\n",
        "rows = df_new['Churn'].unique()\n",
        "columns = df_new['Contract'].unique()\n",
        "for i in columns:\n",
        "    for j in rows:\n",
        "        O = data_crosstab[i][j]\n",
        "        E = data_crosstab[i]['Total'] * data_crosstab['Total'][j] / data_crosstab['Total']['Total']\n",
        "        chi_square += (O-E)**2/E\n",
        "\n",
        "# Pendekatan dengan p-value\n",
        "print(\"Approach 1: The p-value approach to hypothesis testing in the decision rule\")\n",
        "p_value = 1 - stats.chi2.cdf(chi_square, (len(rows)-1)*(len(columns)-1))\n",
        "conclusion = \"Failed to reject the null hypothesis.\"\n",
        "if p_value <= alpha:\n",
        "    conclusion = \"Null Hypothesis is rejected.\"\n",
        "        \n",
        "print(\"chisquare-score is:\", chi_square, \" and p value is:\", p_value)\n",
        "print(conclusion)\n",
        "    \n",
        "# Pendekatan dengan critical value\n",
        "print(\"\\n--------------------------------------------------------------------------------------\")\n",
        "print(\"Approach 2: The critical value approach to hypothesis testing in the decision rule\")\n",
        "critical_value = stats.chi2.ppf(1-alpha, (len(rows)-1)*(len(columns)-1))\n",
        "conclusion = \"Failed to reject the null hypothesis.\"\n",
        "if chi_square > critical_value:\n",
        "    conclusion = \"Null Hypothesis is rejected.\"\n",
        "        \n",
        "print(\"chisquare-score is:\", chi_square, \" and critical value is:\", critical_value)\n",
        "print(conclusion)"
      ]
    },
    {
      "cell_type": "markdown",
      "metadata": {
        "id": "3jbUtRMGYACg"
      },
      "source": [
        "berdasarkan perhitangan chi-square test, diambil kesimpulan bahwa bisa jadi terdapat korelasi antara Contract dan Churn. \n",
        "\n",
        "conclusion : Churn dimasukkan sebagai fitur ke model."
      ]
    },
    {
      "cell_type": "markdown",
      "metadata": {
        "id": "gEjK2pS9mtWZ"
      },
      "source": [
        "#### Churn dan Paperless Billing"
      ]
    },
    {
      "cell_type": "code",
      "execution_count": 34,
      "metadata": {
        "id": "7atfa-mPmtWb",
        "colab": {
          "base_uri": "https://localhost:8080/"
        },
        "outputId": "69101311-011a-4b3f-f5c0-b537a3288169"
      },
      "outputs": [
        {
          "output_type": "stream",
          "name": "stdout",
          "text": [
            "Approach 1: The p-value approach to hypothesis testing in the decision rule\n",
            "chisquare-score is: 257.7562516474757  and p value is: 0.0\n",
            "Null Hypothesis is rejected.\n",
            "\n",
            "--------------------------------------------------------------------------------------\n",
            "Approach 2: The critical value approach to hypothesis testing in the decision rule\n",
            "chisquare-score is: 257.7562516474757  and critical value is: 3.841458820694124\n",
            "Null Hypothesis is rejected.\n"
          ]
        }
      ],
      "source": [
        "# Membuat contingency table\n",
        "data_crosstab = pd.crosstab(df_new['Churn'],\n",
        "                            df_new['PaperlessBilling'],\n",
        "                           margins=True, margins_name=\"Total\")\n",
        "\n",
        "# Mendefinisikan significance level\n",
        "alpha = 0.05\n",
        "\n",
        "# Perhitungan Chisquare\n",
        "chi_square = 0\n",
        "rows = df_new['Churn'].unique()\n",
        "columns = df_new['PaperlessBilling'].unique()\n",
        "for i in columns:\n",
        "    for j in rows:\n",
        "        O = data_crosstab[i][j]\n",
        "        E = data_crosstab[i]['Total'] * data_crosstab['Total'][j] / data_crosstab['Total']['Total']\n",
        "        chi_square += (O-E)**2/E\n",
        "\n",
        "# Pendekatan dengan p-value\n",
        "print(\"Approach 1: The p-value approach to hypothesis testing in the decision rule\")\n",
        "p_value = 1 - stats.chi2.cdf(chi_square, (len(rows)-1)*(len(columns)-1))\n",
        "conclusion = \"Failed to reject the null hypothesis.\"\n",
        "if p_value <= alpha:\n",
        "    conclusion = \"Null Hypothesis is rejected.\"\n",
        "        \n",
        "print(\"chisquare-score is:\", chi_square, \" and p value is:\", p_value)\n",
        "print(conclusion)\n",
        "    \n",
        "# Pendekatan dengan critical value\n",
        "print(\"\\n--------------------------------------------------------------------------------------\")\n",
        "print(\"Approach 2: The critical value approach to hypothesis testing in the decision rule\")\n",
        "critical_value = stats.chi2.ppf(1-alpha, (len(rows)-1)*(len(columns)-1))\n",
        "conclusion = \"Failed to reject the null hypothesis.\"\n",
        "if chi_square > critical_value:\n",
        "    conclusion = \"Null Hypothesis is rejected.\"\n",
        "        \n",
        "print(\"chisquare-score is:\", chi_square, \" and critical value is:\", critical_value)\n",
        "print(conclusion)"
      ]
    },
    {
      "cell_type": "markdown",
      "metadata": {
        "id": "mtwz_XbhmtWd"
      },
      "source": [
        "berdasarkan perhitangan chi-square test, diambil kesimpulan bahwa bisa jadi terdapat korelasi antara Paperless Billing dengan Churn. \n",
        "\n",
        "conclusion : PaperlessBilling dimasukkan sebagai fitur ke model ML"
      ]
    },
    {
      "cell_type": "markdown",
      "metadata": {
        "id": "l96F-jd-mvGw"
      },
      "source": [
        "#### Churn dan Payment Methods"
      ]
    },
    {
      "cell_type": "code",
      "execution_count": 35,
      "metadata": {
        "id": "7hmORhtmmvG0",
        "colab": {
          "base_uri": "https://localhost:8080/"
        },
        "outputId": "9e4e3aea-c058-460d-8337-dbf444191df4"
      },
      "outputs": [
        {
          "output_type": "stream",
          "name": "stdout",
          "text": [
            "Approach 1: The p-value approach to hypothesis testing in the decision rule\n",
            "chisquare-score is: 645.4299001234638  and p value is: 0.0\n",
            "Null Hypothesis is rejected.\n",
            "\n",
            "--------------------------------------------------------------------------------------\n",
            "Approach 2: The critical value approach to hypothesis testing in the decision rule\n",
            "chisquare-score is: 645.4299001234638  and critical value is: 7.814727903251179\n",
            "Null Hypothesis is rejected.\n"
          ]
        }
      ],
      "source": [
        "# Membuat contingency table\n",
        "data_crosstab = pd.crosstab(df_new['Churn'],\n",
        "                            df_new['PaymentMethod'],\n",
        "                           margins=True, margins_name=\"Total\")\n",
        "\n",
        "# Mendefinisikan significance level\n",
        "alpha = 0.05\n",
        "\n",
        "# Perhitungan Chisquare\n",
        "chi_square = 0\n",
        "rows = df_new['Churn'].unique()\n",
        "columns = df_new['PaymentMethod'].unique()\n",
        "for i in columns:\n",
        "    for j in rows:\n",
        "        O = data_crosstab[i][j]\n",
        "        E = data_crosstab[i]['Total'] * data_crosstab['Total'][j] / data_crosstab['Total']['Total']\n",
        "        chi_square += (O-E)**2/E\n",
        "\n",
        "# Pendekatan dengan p-value\n",
        "print(\"Approach 1: The p-value approach to hypothesis testing in the decision rule\")\n",
        "p_value = 1 - stats.chi2.cdf(chi_square, (len(rows)-1)*(len(columns)-1))\n",
        "conclusion = \"Failed to reject the null hypothesis.\"\n",
        "if p_value <= alpha:\n",
        "    conclusion = \"Null Hypothesis is rejected.\"\n",
        "        \n",
        "print(\"chisquare-score is:\", chi_square, \" and p value is:\", p_value)\n",
        "print(conclusion)\n",
        "    \n",
        "# Pendekatan dengan critical value\n",
        "print(\"\\n--------------------------------------------------------------------------------------\")\n",
        "print(\"Approach 2: The critical value approach to hypothesis testing in the decision rule\")\n",
        "critical_value = stats.chi2.ppf(1-alpha, (len(rows)-1)*(len(columns)-1))\n",
        "conclusion = \"Failed to reject the null hypothesis.\"\n",
        "if chi_square > critical_value:\n",
        "    conclusion = \"Null Hypothesis is rejected.\"\n",
        "        \n",
        "print(\"chisquare-score is:\", chi_square, \" and critical value is:\", critical_value)\n",
        "print(conclusion)"
      ]
    },
    {
      "cell_type": "markdown",
      "metadata": {
        "id": "qQq-Ck6kmvG2"
      },
      "source": [
        "berdasarkan perhitangan chi-square test, diambil kesimpulan bahwa bisa jadi terdapat korelasi antara Payment Method dengan Churn. \n",
        "\n",
        "conclusion : PaymentMethod dimasukkan sebagai fitur ke model."
      ]
    },
    {
      "cell_type": "markdown",
      "metadata": {
        "id": "Q9Ib1lT20klx"
      },
      "source": [
        "#### Churn dan Monthly Charges"
      ]
    },
    {
      "cell_type": "code",
      "execution_count": 36,
      "metadata": {
        "id": "1K4Hq0Bz0kly",
        "colab": {
          "base_uri": "https://localhost:8080/"
        },
        "outputId": "927d6490-377a-4c30-9697-d946930c913b"
      },
      "outputs": [
        {
          "output_type": "stream",
          "name": "stdout",
          "text": [
            "Approach 1: The p-value approach to hypothesis testing in the decision rule\n",
            "chisquare-score is: 2118.854888521665  and p value is: 0.0\n",
            "Null Hypothesis is rejected.\n",
            "\n",
            "--------------------------------------------------------------------------------------\n",
            "Approach 2: The critical value approach to hypothesis testing in the decision rule\n",
            "chisquare-score is: 2118.854888521665  and critical value is: 1676.67434388845\n",
            "Null Hypothesis is rejected.\n"
          ]
        }
      ],
      "source": [
        "# Membuat contingency table\n",
        "data_crosstab = pd.crosstab(df_new['Churn'],\n",
        "                            df_new['MonthlyCharges'],\n",
        "                           margins=True, margins_name=\"Total\")\n",
        "\n",
        "# Mendefinisikan significance level\n",
        "alpha = 0.05\n",
        "\n",
        "# Perhitungan Chisquare\n",
        "chi_square = 0\n",
        "rows = df_new['Churn'].unique()\n",
        "columns = df_new['MonthlyCharges'].unique()\n",
        "for i in columns:\n",
        "    for j in rows:\n",
        "        O = data_crosstab[i][j]\n",
        "        E = data_crosstab[i]['Total'] * data_crosstab['Total'][j] / data_crosstab['Total']['Total']\n",
        "        chi_square += (O-E)**2/E\n",
        "\n",
        "# Pendekatan dengan p-value\n",
        "print(\"Approach 1: The p-value approach to hypothesis testing in the decision rule\")\n",
        "p_value = 1 - stats.chi2.cdf(chi_square, (len(rows)-1)*(len(columns)-1))\n",
        "conclusion = \"Failed to reject the null hypothesis.\"\n",
        "if p_value <= alpha:\n",
        "    conclusion = \"Null Hypothesis is rejected.\"\n",
        "        \n",
        "print(\"chisquare-score is:\", chi_square, \" and p value is:\", p_value)\n",
        "print(conclusion)\n",
        "    \n",
        "# Pendekatan dengan critical value\n",
        "print(\"\\n--------------------------------------------------------------------------------------\")\n",
        "print(\"Approach 2: The critical value approach to hypothesis testing in the decision rule\")\n",
        "critical_value = stats.chi2.ppf(1-alpha, (len(rows)-1)*(len(columns)-1))\n",
        "conclusion = \"Failed to reject the null hypothesis.\"\n",
        "if chi_square > critical_value:\n",
        "    conclusion = \"Null Hypothesis is rejected.\"\n",
        "        \n",
        "print(\"chisquare-score is:\", chi_square, \" and critical value is:\", critical_value)\n",
        "print(conclusion)"
      ]
    },
    {
      "cell_type": "markdown",
      "metadata": {
        "id": "OKQJO8R-0kl0"
      },
      "source": [
        "berdasarkan perhitangan chi-square test, diambil kesimpulan bahwa bisa jadi terdapat korelasi antara Monthly Charges dengan Churn. \n",
        "\n",
        "conclusion : MonthlyCharges dimasukkan sebagai fitur ke model"
      ]
    },
    {
      "cell_type": "markdown",
      "metadata": {
        "id": "p9RsIso-SWmr"
      },
      "source": [
        "Saya ingin menganalisis lebih lanjut mengenai Monthly Charges."
      ]
    },
    {
      "cell_type": "markdown",
      "metadata": {
        "id": "JD4iN3mpUCng"
      },
      "source": [
        "**Monthly Charges vs Churn**"
      ]
    },
    {
      "cell_type": "code",
      "execution_count": 37,
      "metadata": {
        "id": "SkTpl8e1T3SH",
        "colab": {
          "base_uri": "https://localhost:8080/",
          "height": 0
        },
        "outputId": "caad93c0-81b6-4f0e-ea32-8828fde9dbe1"
      },
      "outputs": [
        {
          "output_type": "display_data",
          "data": {
            "text/plain": [
              "<Figure size 1080x576 with 3 Axes>"
            ],
            "image/png": "[encoded data removed]"
          },
          "metadata": {
            "needs_background": "light"
          }
        }
      ],
      "source": [
        "fig, axes = plt.subplots(ncols=3,figsize=(15,8))\n",
        "sns.barplot(ax=axes[0], x = 'Churn', y = 'MonthlyCharges', data = df_new)\n",
        "axes[0].set_title(\"Churn vs Monthly Charges\")\n",
        "\n",
        "sns.barplot(ax=axes[1], x = 'Churn', y = 'TotalCharges', data = df_new)\n",
        "axes[1].set_title(\"Churn vs Total Charges\")\n",
        "\n",
        "sns.barplot(ax=axes[2], x = 'Churn', y = 'tenure', data = df_new)\n",
        "axes[2].set_title(\"Churn vs Tenure\")\n",
        "\n",
        "plt.show()"
      ]
    },
    {
      "cell_type": "markdown",
      "metadata": {
        "id": "4h_I2nr2WBoG"
      },
      "source": [
        "- Customer churn memiliki rerata Monthly Charges yang tinggi (>70). Asumsi saya adalah customer churn berhenti berlangganan produk kita karena mungkin monthly charges terlalu mahal untuk mereka. Hal tersebut berdampak juga ke Total Charges dan tenure yang lebih rendah daripada not churn customer.\n",
        "- Not churn customer memiliki rerata Monthly Charges yang lebih rendah (60). Akan tetapi, asumsi saya adalah customer ini secara konsistent berlangganan dalam waktu yang lama (bisa dilihat di figure Churn vs Tenure) sehingga Total Chargesnya pun lebih besar daripada churn customer."
      ]
    },
    {
      "cell_type": "markdown",
      "metadata": {
        "id": "4VbPeUtQSeBq"
      },
      "source": [
        "**Monthly Charges vs Internet Service and Phone Service**"
      ]
    },
    {
      "cell_type": "code",
      "execution_count": 38,
      "metadata": {
        "id": "unPIZt8GYAtU",
        "colab": {
          "base_uri": "https://localhost:8080/",
          "height": 0
        },
        "outputId": "064cd7e9-55c3-4462-e950-dae8a32b76a1"
      },
      "outputs": [
        {
          "output_type": "execute_result",
          "data": {
            "text/plain": [
              "Text(0.5, 1.0, 'Churn vs Phone Service')"
            ]
          },
          "metadata": {},
          "execution_count": 38
        },
        {
          "output_type": "display_data",
          "data": {
            "text/plain": [
              "<Figure size 1080x576 with 2 Axes>"
            ],
            "image/png": "[encoded data removed]"
          },
          "metadata": {
            "needs_background": "light"
          }
        }
      ],
      "source": [
        "fig, axes = plt.subplots(ncols=2,figsize=(15,8))\n",
        "sns.barplot(ax=axes[0], x = 'InternetService', y = 'MonthlyCharges', hue='Churn', data = df_new)\n",
        "axes[0].set_title(\"Churn vs Internet Service\")\n",
        "\n",
        "sns.barplot(ax=axes[1], x = 'PhoneService', y = 'MonthlyCharges', hue='Churn', data = df_new)\n",
        "axes[1].set_title(\"Churn vs Phone Service\")"
      ]
    },
    {
      "cell_type": "markdown",
      "metadata": {
        "id": "DG-T5VdGSm13"
      },
      "source": [
        "- Customer yang menggunakan Internet Service membayar Monthly Charges lebih mahal.\n",
        "- Biaya terbesar yang harus dibayar customer untuk layanan Internet adalah Internet Service menggunakan Fiber Optic. Berdasarkan [sumber](https://www.highspeedinternet.com/resources/dsl-vs-fiber), fiber optic lebih mahal daripada DSL. Inilah mengapa customer churn lebih banyak berasal dari customer yang menggunakan fiber optic.\n",
        "- Customer yang menggunakan Phone Service juga membayar Monthly Charges lebih mahal."
      ]
    },
    {
      "cell_type": "markdown",
      "metadata": {
        "id": "GqTxs36MxugI"
      },
      "source": [
        "### **fitur yang masuk dalam pemodelan :**\n",
        "\n",
        "'SeniorCitizen', 'Partner', 'Dependents', 'tenure', 'PhoneService', 'InternetService', 'Contract', 'PaperlessBilling', 'PaymentMethod', dan 'MonthlyCharges'"
      ]
    },
    {
      "cell_type": "markdown",
      "metadata": {
        "id": "g44ofgVTxugJ"
      },
      "source": [
        "## 4.4. Melihat statistik kolom numerik"
      ]
    },
    {
      "cell_type": "code",
      "execution_count": 39,
      "metadata": {
        "id": "qW4ktySZxugJ",
        "colab": {
          "base_uri": "https://localhost:8080/",
          "height": 0
        },
        "outputId": "1bda5457-5296-4374-a5ca-73d3febcd8e6"
      },
      "outputs": [
        {
          "output_type": "execute_result",
          "data": {
            "text/plain": [
              "                 count         mean          std    min       25%       50%  \\\n",
              "SeniorCitizen   7032.0     0.162400     0.368844   0.00    0.0000     0.000   \n",
              "tenure          7032.0    32.421786    24.545260   1.00    9.0000    29.000   \n",
              "MonthlyCharges  7032.0    64.798208    30.085974  18.25   35.5875    70.350   \n",
              "TotalCharges    7032.0  2283.300441  2266.771362  18.80  401.4500  1397.475   \n",
              "\n",
              "                      75%      max  \n",
              "SeniorCitizen      0.0000     1.00  \n",
              "tenure            55.0000    72.00  \n",
              "MonthlyCharges    89.8625   118.75  \n",
              "TotalCharges    3794.7375  8684.80  "
            ],
            "text/html": [
              "\n",
              "  <div id=\"df-4f9cba1f-ba48-4914-ba63-081a6613ce83\">\n",
              "    <div class=\"colab-df-container\">\n",
              "      <div>\n",
              "<style scoped>\n",
              "    .dataframe tbody tr th:only-of-type {\n",
              "        vertical-align: middle;\n",
              "    }\n",
              "\n",
              "    .dataframe tbody tr th {\n",
              "        vertical-align: top;\n",
              "    }\n",
              "\n",
              "    .dataframe thead th {\n",
              "        text-align: right;\n",
              "    }\n",
              "</style>\n",
              "<table border=\"1\" class=\"dataframe\">\n",
              "  <thead>\n",
              "    <tr style=\"text-align: right;\">\n",
              "      <th></th>\n",
              "      <th>count</th>\n",
              "      <th>mean</th>\n",
              "      <th>std</th>\n",
              "      <th>min</th>\n",
              "      <th>25%</th>\n",
              "      <th>50%</th>\n",
              "      <th>75%</th>\n",
              "      <th>max</th>\n",
              "    </tr>\n",
              "  </thead>\n",
              "  <tbody>\n",
              "    <tr>\n",
              "      <th>SeniorCitizen</th>\n",
              "      <td>7032.0</td>\n",
              "      <td>0.162400</td>\n",
              "      <td>0.368844</td>\n",
              "      <td>0.00</td>\n",
              "      <td>0.0000</td>\n",
              "      <td>0.000</td>\n",
              "      <td>0.0000</td>\n",
              "      <td>1.00</td>\n",
              "    </tr>\n",
              "    <tr>\n",
              "      <th>tenure</th>\n",
              "      <td>7032.0</td>\n",
              "      <td>32.421786</td>\n",
              "      <td>24.545260</td>\n",
              "      <td>1.00</td>\n",
              "      <td>9.0000</td>\n",
              "      <td>29.000</td>\n",
              "      <td>55.0000</td>\n",
              "      <td>72.00</td>\n",
              "    </tr>\n",
              "    <tr>\n",
              "      <th>MonthlyCharges</th>\n",
              "      <td>7032.0</td>\n",
              "      <td>64.798208</td>\n",
              "      <td>30.085974</td>\n",
              "      <td>18.25</td>\n",
              "      <td>35.5875</td>\n",
              "      <td>70.350</td>\n",
              "      <td>89.8625</td>\n",
              "      <td>118.75</td>\n",
              "    </tr>\n",
              "    <tr>\n",
              "      <th>TotalCharges</th>\n",
              "      <td>7032.0</td>\n",
              "      <td>2283.300441</td>\n",
              "      <td>2266.771362</td>\n",
              "      <td>18.80</td>\n",
              "      <td>401.4500</td>\n",
              "      <td>1397.475</td>\n",
              "      <td>3794.7375</td>\n",
              "      <td>8684.80</td>\n",
              "    </tr>\n",
              "  </tbody>\n",
              "</table>\n",
              "</div>\n",
              "      <button class=\"colab-df-convert\" onclick=\"convertToInteractive('df-4f9cba1f-ba48-4914-ba63-081a6613ce83')\"\n",
              "              title=\"Convert this dataframe to an interactive table.\"\n",
              "              style=\"display:none;\">\n",
              "        \n",
              "  <svg xmlns=\"http://www.w3.org/2000/svg\" height=\"24px\"viewBox=\"0 0 24 24\"\n",
              "       width=\"24px\">\n",
              "    <path d=\"M0 0h24v24H0V0z\" fill=\"none\"/>\n",
              "    <path d=\"M18.56 5.44l.94 2.06.94-2.06 2.06-.94-2.06-.94-.94-2.06-.94 2.06-2.06.94zm-11 1L8.5 8.5l.94-2.06 2.06-.94-2.06-.94L8.5 2.5l-.94 2.06-2.06.94zm10 10l.94 2.06.94-2.06 2.06-.94-2.06-.94-.94-2.06-.94 2.06-2.06.94z\"/><path d=\"M17.41 7.96l-1.37-1.37c-.4-.4-.92-.59-1.43-.59-.52 0-1.04.2-1.43.59L10.3 9.45l-7.72 7.72c-.78.78-.78 2.05 0 2.83L4 21.41c.39.39.9.59 1.41.59.51 0 1.02-.2 1.41-.59l7.78-7.78 2.81-2.81c.8-.78.8-2.07 0-2.86zM5.41 20L4 18.59l7.72-7.72 1.47 1.35L5.41 20z\"/>\n",
              "  </svg>\n",
              "      </button>\n",
              "      \n",
              "  <style>\n",
              "    .colab-df-container {\n",
              "      display:flex;\n",
              "      flex-wrap:wrap;\n",
              "      gap: 12px;\n",
              "    }\n",
              "\n",
              "    .colab-df-convert {\n",
              "      background-color: #E8F0FE;\n",
              "      border: none;\n",
              "      border-radius: 50%;\n",
              "      cursor: pointer;\n",
              "      display: none;\n",
              "      fill: #1967D2;\n",
              "      height: 32px;\n",
              "      padding: 0 0 0 0;\n",
              "      width: 32px;\n",
              "    }\n",
              "\n",
              "    .colab-df-convert:hover {\n",
              "      background-color: #E2EBFA;\n",
              "      box-shadow: 0px 1px 2px rgba(60, 64, 67, 0.3), 0px 1px 3px 1px rgba(60, 64, 67, 0.15);\n",
              "      fill: #174EA6;\n",
              "    }\n",
              "\n",
              "    [theme=dark] .colab-df-convert {\n",
              "      background-color: #3B4455;\n",
              "      fill: #D2E3FC;\n",
              "    }\n",
              "\n",
              "    [theme=dark] .colab-df-convert:hover {\n",
              "      background-color: #434B5C;\n",
              "      box-shadow: 0px 1px 3px 1px rgba(0, 0, 0, 0.15);\n",
              "      filter: drop-shadow(0px 1px 2px rgba(0, 0, 0, 0.3));\n",
              "      fill: #FFFFFF;\n",
              "    }\n",
              "  </style>\n",
              "\n",
              "      <script>\n",
              "        const buttonEl =\n",
              "          document.querySelector('#df-4f9cba1f-ba48-4914-ba63-081a6613ce83 button.colab-df-convert');\n",
              "        buttonEl.style.display =\n",
              "          google.colab.kernel.accessAllowed ? 'block' : 'none';\n",
              "\n",
              "        async function convertToInteractive(key) {\n",
              "          const element = document.querySelector('#df-4f9cba1f-ba48-4914-ba63-081a6613ce83');\n",
              "          const dataTable =\n",
              "            await google.colab.kernel.invokeFunction('convertToInteractive',\n",
              "                                                     [key], {});\n",
              "          if (!dataTable) return;\n",
              "\n",
              "          const docLinkHtml = 'Like what you see? Visit the ' +\n",
              "            '<a target=\"_blank\" href=https://colab.research.google.com/notebooks/data_table.ipynb>data table notebook</a>'\n",
              "            + ' to learn more about interactive tables.';\n",
              "          element.innerHTML = '';\n",
              "          dataTable['output_type'] = 'display_data';\n",
              "          await google.colab.output.renderOutput(dataTable, element);\n",
              "          const docLink = document.createElement('div');\n",
              "          docLink.innerHTML = docLinkHtml;\n",
              "          element.appendChild(docLink);\n",
              "        }\n",
              "      </script>\n",
              "    </div>\n",
              "  </div>\n",
              "  "
            ]
          },
          "metadata": {},
          "execution_count": 39
        }
      ],
      "source": [
        "df_new.describe().T"
      ]
    },
    {
      "cell_type": "markdown",
      "metadata": {
        "id": "pkNh4QOq19yE"
      },
      "source": [
        "Nilai maksimal tenure dan MonthlyCharges terlihat jauh dari nilai reratanya. Akan tetapi hal tersebut adalah kondisi yang wajar karena memang kebutuhan customer berbeda-beda sehingga itu bukanlah suatu outlier."
      ]
    },
    {
      "cell_type": "markdown",
      "metadata": {
        "id": "HnSIWcKAxugL"
      },
      "source": [
        "# V. Data Preprocessing"
      ]
    },
    {
      "cell_type": "markdown",
      "metadata": {
        "id": "6jYCkfE5xugN"
      },
      "source": [
        "## 5.1. Drop kolom yang tidak dipakai untuk pemodelan"
      ]
    },
    {
      "cell_type": "code",
      "execution_count": 40,
      "metadata": {
        "colab": {
          "base_uri": "https://localhost:8080/"
        },
        "id": "8a2mrH-6xugO",
        "outputId": "1fefe223-055c-4447-b02c-6a13b8cb8a60"
      },
      "outputs": [
        {
          "output_type": "execute_result",
          "data": {
            "text/plain": [
              "Index(['customerID', 'gender', 'SeniorCitizen', 'Partner', 'Dependents',\n",
              "       'tenure', 'PhoneService', 'MultipleLines', 'InternetService',\n",
              "       'OnlineSecurity', 'OnlineBackup', 'DeviceProtection', 'TechSupport',\n",
              "       'StreamingTV', 'StreamingMovies', 'Contract', 'PaperlessBilling',\n",
              "       'PaymentMethod', 'MonthlyCharges', 'TotalCharges', 'Churn'],\n",
              "      dtype='object')"
            ]
          },
          "metadata": {},
          "execution_count": 40
        }
      ],
      "source": [
        "# menampilkan judul kolom dataset\n",
        "df_new.columns"
      ]
    },
    {
      "cell_type": "markdown",
      "metadata": {
        "id": "LGqUABEg3S0J"
      },
      "source": [
        "kolom customerID akan saya drop karena mengandung makna informasi yang sama dengan index dan memiliki cardinality yang tinggi.\n",
        "\n",
        "selanjutnya kolom selain 'gender', 'SeniorCitizen', 'Partner', 'Dependents', 'tenure', 'PhoneService', 'InternetService', 'Contract', 'PaperlessBilling', 'PaymentMethod', dan 'MonthlyCharges' akan didrop karena tidak digunakan pada model."
      ]
    },
    {
      "cell_type": "code",
      "execution_count": 41,
      "metadata": {
        "colab": {
          "base_uri": "https://localhost:8080/"
        },
        "id": "3ue_DIn21Pzm",
        "outputId": "5513a2f7-5728-45af-8b86-9d31932649ab"
      },
      "outputs": [
        {
          "output_type": "execute_result",
          "data": {
            "text/plain": [
              "(7032, 21)"
            ]
          },
          "metadata": {},
          "execution_count": 41
        }
      ],
      "source": [
        "df_new.shape"
      ]
    },
    {
      "cell_type": "code",
      "execution_count": 42,
      "metadata": {
        "colab": {
          "base_uri": "https://localhost:8080/",
          "height": 0
        },
        "id": "OTVthXdGxugP",
        "outputId": "72aa2b07-519b-464d-de05-50f019a9c4a9"
      },
      "outputs": [
        {
          "output_type": "execute_result",
          "data": {
            "text/plain": [
              "   SeniorCitizen Partner Dependents  tenure PhoneService InternetService  \\\n",
              "0              0     Yes         No       1           No             DSL   \n",
              "1              0      No         No      34          Yes             DSL   \n",
              "2              0      No         No       2          Yes             DSL   \n",
              "3              0      No         No      45           No             DSL   \n",
              "4              0      No         No       2          Yes     Fiber optic   \n",
              "\n",
              "         Contract PaperlessBilling              PaymentMethod  MonthlyCharges  \\\n",
              "0  Month-to-month              Yes           Electronic check           29.85   \n",
              "1        One year               No               Mailed check           56.95   \n",
              "2  Month-to-month              Yes               Mailed check           53.85   \n",
              "3        One year               No  Bank transfer (automatic)           42.30   \n",
              "4  Month-to-month              Yes           Electronic check           70.70   \n",
              "\n",
              "  Churn  \n",
              "0    No  \n",
              "1    No  \n",
              "2   Yes  \n",
              "3    No  \n",
              "4   Yes  "
            ],
            "text/html": [
              "\n",
              "  <div id=\"df-2fe78a38-9001-48ca-968b-b426c143731c\">\n",
              "    <div class=\"colab-df-container\">\n",
              "      <div>\n",
              "<style scoped>\n",
              "    .dataframe tbody tr th:only-of-type {\n",
              "        vertical-align: middle;\n",
              "    }\n",
              "\n",
              "    .dataframe tbody tr th {\n",
              "        vertical-align: top;\n",
              "    }\n",
              "\n",
              "    .dataframe thead th {\n",
              "        text-align: right;\n",
              "    }\n",
              "</style>\n",
              "<table border=\"1\" class=\"dataframe\">\n",
              "  <thead>\n",
              "    <tr style=\"text-align: right;\">\n",
              "      <th></th>\n",
              "      <th>SeniorCitizen</th>\n",
              "      <th>Partner</th>\n",
              "      <th>Dependents</th>\n",
              "      <th>tenure</th>\n",
              "      <th>PhoneService</th>\n",
              "      <th>InternetService</th>\n",
              "      <th>Contract</th>\n",
              "      <th>PaperlessBilling</th>\n",
              "      <th>PaymentMethod</th>\n",
              "      <th>MonthlyCharges</th>\n",
              "      <th>Churn</th>\n",
              "    </tr>\n",
              "  </thead>\n",
              "  <tbody>\n",
              "    <tr>\n",
              "      <th>0</th>\n",
              "      <td>0</td>\n",
              "      <td>Yes</td>\n",
              "      <td>No</td>\n",
              "      <td>1</td>\n",
              "      <td>No</td>\n",
              "      <td>DSL</td>\n",
              "      <td>Month-to-month</td>\n",
              "      <td>Yes</td>\n",
              "      <td>Electronic check</td>\n",
              "      <td>29.85</td>\n",
              "      <td>No</td>\n",
              "    </tr>\n",
              "    <tr>\n",
              "      <th>1</th>\n",
              "      <td>0</td>\n",
              "      <td>No</td>\n",
              "      <td>No</td>\n",
              "      <td>34</td>\n",
              "      <td>Yes</td>\n",
              "      <td>DSL</td>\n",
              "      <td>One year</td>\n",
              "      <td>No</td>\n",
              "      <td>Mailed check</td>\n",
              "      <td>56.95</td>\n",
              "      <td>No</td>\n",
              "    </tr>\n",
              "    <tr>\n",
              "      <th>2</th>\n",
              "      <td>0</td>\n",
              "      <td>No</td>\n",
              "      <td>No</td>\n",
              "      <td>2</td>\n",
              "      <td>Yes</td>\n",
              "      <td>DSL</td>\n",
              "      <td>Month-to-month</td>\n",
              "      <td>Yes</td>\n",
              "      <td>Mailed check</td>\n",
              "      <td>53.85</td>\n",
              "      <td>Yes</td>\n",
              "    </tr>\n",
              "    <tr>\n",
              "      <th>3</th>\n",
              "      <td>0</td>\n",
              "      <td>No</td>\n",
              "      <td>No</td>\n",
              "      <td>45</td>\n",
              "      <td>No</td>\n",
              "      <td>DSL</td>\n",
              "      <td>One year</td>\n",
              "      <td>No</td>\n",
              "      <td>Bank transfer (automatic)</td>\n",
              "      <td>42.30</td>\n",
              "      <td>No</td>\n",
              "    </tr>\n",
              "    <tr>\n",
              "      <th>4</th>\n",
              "      <td>0</td>\n",
              "      <td>No</td>\n",
              "      <td>No</td>\n",
              "      <td>2</td>\n",
              "      <td>Yes</td>\n",
              "      <td>Fiber optic</td>\n",
              "      <td>Month-to-month</td>\n",
              "      <td>Yes</td>\n",
              "      <td>Electronic check</td>\n",
              "      <td>70.70</td>\n",
              "      <td>Yes</td>\n",
              "    </tr>\n",
              "  </tbody>\n",
              "</table>\n",
              "</div>\n",
              "      <button class=\"colab-df-convert\" onclick=\"convertToInteractive('df-2fe78a38-9001-48ca-968b-b426c143731c')\"\n",
              "              title=\"Convert this dataframe to an interactive table.\"\n",
              "              style=\"display:none;\">\n",
              "        \n",
              "  <svg xmlns=\"http://www.w3.org/2000/svg\" height=\"24px\"viewBox=\"0 0 24 24\"\n",
              "       width=\"24px\">\n",
              "    <path d=\"M0 0h24v24H0V0z\" fill=\"none\"/>\n",
              "    <path d=\"M18.56 5.44l.94 2.06.94-2.06 2.06-.94-2.06-.94-.94-2.06-.94 2.06-2.06.94zm-11 1L8.5 8.5l.94-2.06 2.06-.94-2.06-.94L8.5 2.5l-.94 2.06-2.06.94zm10 10l.94 2.06.94-2.06 2.06-.94-2.06-.94-.94-2.06-.94 2.06-2.06.94z\"/><path d=\"M17.41 7.96l-1.37-1.37c-.4-.4-.92-.59-1.43-.59-.52 0-1.04.2-1.43.59L10.3 9.45l-7.72 7.72c-.78.78-.78 2.05 0 2.83L4 21.41c.39.39.9.59 1.41.59.51 0 1.02-.2 1.41-.59l7.78-7.78 2.81-2.81c.8-.78.8-2.07 0-2.86zM5.41 20L4 18.59l7.72-7.72 1.47 1.35L5.41 20z\"/>\n",
              "  </svg>\n",
              "      </button>\n",
              "      \n",
              "  <style>\n",
              "    .colab-df-container {\n",
              "      display:flex;\n",
              "      flex-wrap:wrap;\n",
              "      gap: 12px;\n",
              "    }\n",
              "\n",
              "    .colab-df-convert {\n",
              "      background-color: #E8F0FE;\n",
              "      border: none;\n",
              "      border-radius: 50%;\n",
              "      cursor: pointer;\n",
              "      display: none;\n",
              "      fill: #1967D2;\n",
              "      height: 32px;\n",
              "      padding: 0 0 0 0;\n",
              "      width: 32px;\n",
              "    }\n",
              "\n",
              "    .colab-df-convert:hover {\n",
              "      background-color: #E2EBFA;\n",
              "      box-shadow: 0px 1px 2px rgba(60, 64, 67, 0.3), 0px 1px 3px 1px rgba(60, 64, 67, 0.15);\n",
              "      fill: #174EA6;\n",
              "    }\n",
              "\n",
              "    [theme=dark] .colab-df-convert {\n",
              "      background-color: #3B4455;\n",
              "      fill: #D2E3FC;\n",
              "    }\n",
              "\n",
              "    [theme=dark] .colab-df-convert:hover {\n",
              "      background-color: #434B5C;\n",
              "      box-shadow: 0px 1px 3px 1px rgba(0, 0, 0, 0.15);\n",
              "      filter: drop-shadow(0px 1px 2px rgba(0, 0, 0, 0.3));\n",
              "      fill: #FFFFFF;\n",
              "    }\n",
              "  </style>\n",
              "\n",
              "      <script>\n",
              "        const buttonEl =\n",
              "          document.querySelector('#df-2fe78a38-9001-48ca-968b-b426c143731c button.colab-df-convert');\n",
              "        buttonEl.style.display =\n",
              "          google.colab.kernel.accessAllowed ? 'block' : 'none';\n",
              "\n",
              "        async function convertToInteractive(key) {\n",
              "          const element = document.querySelector('#df-2fe78a38-9001-48ca-968b-b426c143731c');\n",
              "          const dataTable =\n",
              "            await google.colab.kernel.invokeFunction('convertToInteractive',\n",
              "                                                     [key], {});\n",
              "          if (!dataTable) return;\n",
              "\n",
              "          const docLinkHtml = 'Like what you see? Visit the ' +\n",
              "            '<a target=\"_blank\" href=https://colab.research.google.com/notebooks/data_table.ipynb>data table notebook</a>'\n",
              "            + ' to learn more about interactive tables.';\n",
              "          element.innerHTML = '';\n",
              "          dataTable['output_type'] = 'display_data';\n",
              "          await google.colab.output.renderOutput(dataTable, element);\n",
              "          const docLink = document.createElement('div');\n",
              "          docLink.innerHTML = docLinkHtml;\n",
              "          element.appendChild(docLink);\n",
              "        }\n",
              "      </script>\n",
              "    </div>\n",
              "  </div>\n",
              "  "
            ]
          },
          "metadata": {},
          "execution_count": 42
        }
      ],
      "source": [
        "# menghapus kolom yang tidak digunakan untuk pemodelan\n",
        "df_new.drop(columns=['customerID', 'gender', 'MultipleLines', 'OnlineSecurity', 'OnlineBackup', 'DeviceProtection', 'TechSupport', 'StreamingTV', 'StreamingMovies', 'TotalCharges'], inplace=True)\n",
        "df_new.head()"
      ]
    },
    {
      "cell_type": "code",
      "execution_count": 43,
      "metadata": {
        "id": "8O8zdre_3IWv"
      },
      "outputs": [],
      "source": [
        "df_new['Churn'] = df_new.Churn.replace(('No','Yes'),(0,1), regex=True)"
      ]
    },
    {
      "cell_type": "code",
      "execution_count": 44,
      "metadata": {
        "colab": {
          "base_uri": "https://localhost:8080/",
          "height": 0
        },
        "id": "dKoaOCbw39bd",
        "outputId": "a83dd9ad-f587-41dc-db37-1b5dc0d448e7"
      },
      "outputs": [
        {
          "output_type": "execute_result",
          "data": {
            "text/plain": [
              "   SeniorCitizen Partner Dependents  tenure PhoneService InternetService  \\\n",
              "0              0     Yes         No       1           No             DSL   \n",
              "1              0      No         No      34          Yes             DSL   \n",
              "2              0      No         No       2          Yes             DSL   \n",
              "3              0      No         No      45           No             DSL   \n",
              "4              0      No         No       2          Yes     Fiber optic   \n",
              "\n",
              "         Contract PaperlessBilling              PaymentMethod  MonthlyCharges  \\\n",
              "0  Month-to-month              Yes           Electronic check           29.85   \n",
              "1        One year               No               Mailed check           56.95   \n",
              "2  Month-to-month              Yes               Mailed check           53.85   \n",
              "3        One year               No  Bank transfer (automatic)           42.30   \n",
              "4  Month-to-month              Yes           Electronic check           70.70   \n",
              "\n",
              "   Churn  \n",
              "0      0  \n",
              "1      0  \n",
              "2      1  \n",
              "3      0  \n",
              "4      1  "
            ],
            "text/html": [
              "\n",
              "  <div id=\"df-68a883f9-e5b4-41d3-a000-643cc0d7a372\">\n",
              "    <div class=\"colab-df-container\">\n",
              "      <div>\n",
              "<style scoped>\n",
              "    .dataframe tbody tr th:only-of-type {\n",
              "        vertical-align: middle;\n",
              "    }\n",
              "\n",
              "    .dataframe tbody tr th {\n",
              "        vertical-align: top;\n",
              "    }\n",
              "\n",
              "    .dataframe thead th {\n",
              "        text-align: right;\n",
              "    }\n",
              "</style>\n",
              "<table border=\"1\" class=\"dataframe\">\n",
              "  <thead>\n",
              "    <tr style=\"text-align: right;\">\n",
              "      <th></th>\n",
              "      <th>SeniorCitizen</th>\n",
              "      <th>Partner</th>\n",
              "      <th>Dependents</th>\n",
              "      <th>tenure</th>\n",
              "      <th>PhoneService</th>\n",
              "      <th>InternetService</th>\n",
              "      <th>Contract</th>\n",
              "      <th>PaperlessBilling</th>\n",
              "      <th>PaymentMethod</th>\n",
              "      <th>MonthlyCharges</th>\n",
              "      <th>Churn</th>\n",
              "    </tr>\n",
              "  </thead>\n",
              "  <tbody>\n",
              "    <tr>\n",
              "      <th>0</th>\n",
              "      <td>0</td>\n",
              "      <td>Yes</td>\n",
              "      <td>No</td>\n",
              "      <td>1</td>\n",
              "      <td>No</td>\n",
              "      <td>DSL</td>\n",
              "      <td>Month-to-month</td>\n",
              "      <td>Yes</td>\n",
              "      <td>Electronic check</td>\n",
              "      <td>29.85</td>\n",
              "      <td>0</td>\n",
              "    </tr>\n",
              "    <tr>\n",
              "      <th>1</th>\n",
              "      <td>0</td>\n",
              "      <td>No</td>\n",
              "      <td>No</td>\n",
              "      <td>34</td>\n",
              "      <td>Yes</td>\n",
              "      <td>DSL</td>\n",
              "      <td>One year</td>\n",
              "      <td>No</td>\n",
              "      <td>Mailed check</td>\n",
              "      <td>56.95</td>\n",
              "      <td>0</td>\n",
              "    </tr>\n",
              "    <tr>\n",
              "      <th>2</th>\n",
              "      <td>0</td>\n",
              "      <td>No</td>\n",
              "      <td>No</td>\n",
              "      <td>2</td>\n",
              "      <td>Yes</td>\n",
              "      <td>DSL</td>\n",
              "      <td>Month-to-month</td>\n",
              "      <td>Yes</td>\n",
              "      <td>Mailed check</td>\n",
              "      <td>53.85</td>\n",
              "      <td>1</td>\n",
              "    </tr>\n",
              "    <tr>\n",
              "      <th>3</th>\n",
              "      <td>0</td>\n",
              "      <td>No</td>\n",
              "      <td>No</td>\n",
              "      <td>45</td>\n",
              "      <td>No</td>\n",
              "      <td>DSL</td>\n",
              "      <td>One year</td>\n",
              "      <td>No</td>\n",
              "      <td>Bank transfer (automatic)</td>\n",
              "      <td>42.30</td>\n",
              "      <td>0</td>\n",
              "    </tr>\n",
              "    <tr>\n",
              "      <th>4</th>\n",
              "      <td>0</td>\n",
              "      <td>No</td>\n",
              "      <td>No</td>\n",
              "      <td>2</td>\n",
              "      <td>Yes</td>\n",
              "      <td>Fiber optic</td>\n",
              "      <td>Month-to-month</td>\n",
              "      <td>Yes</td>\n",
              "      <td>Electronic check</td>\n",
              "      <td>70.70</td>\n",
              "      <td>1</td>\n",
              "    </tr>\n",
              "  </tbody>\n",
              "</table>\n",
              "</div>\n",
              "      <button class=\"colab-df-convert\" onclick=\"convertToInteractive('df-68a883f9-e5b4-41d3-a000-643cc0d7a372')\"\n",
              "              title=\"Convert this dataframe to an interactive table.\"\n",
              "              style=\"display:none;\">\n",
              "        \n",
              "  <svg xmlns=\"http://www.w3.org/2000/svg\" height=\"24px\"viewBox=\"0 0 24 24\"\n",
              "       width=\"24px\">\n",
              "    <path d=\"M0 0h24v24H0V0z\" fill=\"none\"/>\n",
              "    <path d=\"M18.56 5.44l.94 2.06.94-2.06 2.06-.94-2.06-.94-.94-2.06-.94 2.06-2.06.94zm-11 1L8.5 8.5l.94-2.06 2.06-.94-2.06-.94L8.5 2.5l-.94 2.06-2.06.94zm10 10l.94 2.06.94-2.06 2.06-.94-2.06-.94-.94-2.06-.94 2.06-2.06.94z\"/><path d=\"M17.41 7.96l-1.37-1.37c-.4-.4-.92-.59-1.43-.59-.52 0-1.04.2-1.43.59L10.3 9.45l-7.72 7.72c-.78.78-.78 2.05 0 2.83L4 21.41c.39.39.9.59 1.41.59.51 0 1.02-.2 1.41-.59l7.78-7.78 2.81-2.81c.8-.78.8-2.07 0-2.86zM5.41 20L4 18.59l7.72-7.72 1.47 1.35L5.41 20z\"/>\n",
              "  </svg>\n",
              "      </button>\n",
              "      \n",
              "  <style>\n",
              "    .colab-df-container {\n",
              "      display:flex;\n",
              "      flex-wrap:wrap;\n",
              "      gap: 12px;\n",
              "    }\n",
              "\n",
              "    .colab-df-convert {\n",
              "      background-color: #E8F0FE;\n",
              "      border: none;\n",
              "      border-radius: 50%;\n",
              "      cursor: pointer;\n",
              "      display: none;\n",
              "      fill: #1967D2;\n",
              "      height: 32px;\n",
              "      padding: 0 0 0 0;\n",
              "      width: 32px;\n",
              "    }\n",
              "\n",
              "    .colab-df-convert:hover {\n",
              "      background-color: #E2EBFA;\n",
              "      box-shadow: 0px 1px 2px rgba(60, 64, 67, 0.3), 0px 1px 3px 1px rgba(60, 64, 67, 0.15);\n",
              "      fill: #174EA6;\n",
              "    }\n",
              "\n",
              "    [theme=dark] .colab-df-convert {\n",
              "      background-color: #3B4455;\n",
              "      fill: #D2E3FC;\n",
              "    }\n",
              "\n",
              "    [theme=dark] .colab-df-convert:hover {\n",
              "      background-color: #434B5C;\n",
              "      box-shadow: 0px 1px 3px 1px rgba(0, 0, 0, 0.15);\n",
              "      filter: drop-shadow(0px 1px 2px rgba(0, 0, 0, 0.3));\n",
              "      fill: #FFFFFF;\n",
              "    }\n",
              "  </style>\n",
              "\n",
              "      <script>\n",
              "        const buttonEl =\n",
              "          document.querySelector('#df-68a883f9-e5b4-41d3-a000-643cc0d7a372 button.colab-df-convert');\n",
              "        buttonEl.style.display =\n",
              "          google.colab.kernel.accessAllowed ? 'block' : 'none';\n",
              "\n",
              "        async function convertToInteractive(key) {\n",
              "          const element = document.querySelector('#df-68a883f9-e5b4-41d3-a000-643cc0d7a372');\n",
              "          const dataTable =\n",
              "            await google.colab.kernel.invokeFunction('convertToInteractive',\n",
              "                                                     [key], {});\n",
              "          if (!dataTable) return;\n",
              "\n",
              "          const docLinkHtml = 'Like what you see? Visit the ' +\n",
              "            '<a target=\"_blank\" href=https://colab.research.google.com/notebooks/data_table.ipynb>data table notebook</a>'\n",
              "            + ' to learn more about interactive tables.';\n",
              "          element.innerHTML = '';\n",
              "          dataTable['output_type'] = 'display_data';\n",
              "          await google.colab.output.renderOutput(dataTable, element);\n",
              "          const docLink = document.createElement('div');\n",
              "          docLink.innerHTML = docLinkHtml;\n",
              "          element.appendChild(docLink);\n",
              "        }\n",
              "      </script>\n",
              "    </div>\n",
              "  </div>\n",
              "  "
            ]
          },
          "metadata": {},
          "execution_count": 44
        }
      ],
      "source": [
        "df_new.head()"
      ]
    },
    {
      "cell_type": "markdown",
      "metadata": {
        "id": "-c_bi_DfxugQ"
      },
      "source": [
        "## 5.2. Get data for model inference"
      ]
    },
    {
      "cell_type": "code",
      "execution_count": 45,
      "metadata": {
        "colab": {
          "base_uri": "https://localhost:8080/",
          "height": 0
        },
        "id": "338oUAUfxugR",
        "outputId": "47fc67e8-ba06-4489-b149-fc4245937923"
      },
      "outputs": [
        {
          "output_type": "execute_result",
          "data": {
            "text/plain": [
              "      SeniorCitizen Partner Dependents  tenure PhoneService InternetService  \\\n",
              "1888              0      No         No      23          Yes             DSL   \n",
              "5398              0      No         No       2          Yes              No   \n",
              "2622              1     Yes        Yes      28          Yes             DSL   \n",
              "531               0     Yes        Yes      70          Yes              No   \n",
              "1472              0     Yes        Yes      13          Yes     Fiber optic   \n",
              "2035              0      No        Yes      43          Yes             DSL   \n",
              "4838              0     Yes         No      67          Yes     Fiber optic   \n",
              "5505              0     Yes        Yes      12           No             DSL   \n",
              "3528              0      No         No      16          Yes              No   \n",
              "3279              0     Yes        Yes      23          Yes             DSL   \n",
              "\n",
              "            Contract PaperlessBilling              PaymentMethod  \\\n",
              "1888        One year               No  Bank transfer (automatic)   \n",
              "5398  Month-to-month               No               Mailed check   \n",
              "2622        One year              Yes           Electronic check   \n",
              "531         Two year               No    Credit card (automatic)   \n",
              "1472  Month-to-month              Yes    Credit card (automatic)   \n",
              "2035  Month-to-month              Yes           Electronic check   \n",
              "4838        One year              Yes    Credit card (automatic)   \n",
              "5505        One year               No    Credit card (automatic)   \n",
              "3528  Month-to-month              Yes               Mailed check   \n",
              "3279        One year               No    Credit card (automatic)   \n",
              "\n",
              "      MonthlyCharges  Churn  \n",
              "1888           55.80      0  \n",
              "5398           19.75      0  \n",
              "2622           51.00      0  \n",
              "531            20.05      0  \n",
              "1472           74.40      1  \n",
              "2035           63.95      0  \n",
              "4838          109.70      0  \n",
              "5505           30.25      0  \n",
              "3528           19.70      1  \n",
              "3279           57.20      0  "
            ],
            "text/html": [
              "\n",
              "  <div id=\"df-b529f939-8253-45a0-83b8-b3db226057b0\">\n",
              "    <div class=\"colab-df-container\">\n",
              "      <div>\n",
              "<style scoped>\n",
              "    .dataframe tbody tr th:only-of-type {\n",
              "        vertical-align: middle;\n",
              "    }\n",
              "\n",
              "    .dataframe tbody tr th {\n",
              "        vertical-align: top;\n",
              "    }\n",
              "\n",
              "    .dataframe thead th {\n",
              "        text-align: right;\n",
              "    }\n",
              "</style>\n",
              "<table border=\"1\" class=\"dataframe\">\n",
              "  <thead>\n",
              "    <tr style=\"text-align: right;\">\n",
              "      <th></th>\n",
              "      <th>SeniorCitizen</th>\n",
              "      <th>Partner</th>\n",
              "      <th>Dependents</th>\n",
              "      <th>tenure</th>\n",
              "      <th>PhoneService</th>\n",
              "      <th>InternetService</th>\n",
              "      <th>Contract</th>\n",
              "      <th>PaperlessBilling</th>\n",
              "      <th>PaymentMethod</th>\n",
              "      <th>MonthlyCharges</th>\n",
              "      <th>Churn</th>\n",
              "    </tr>\n",
              "  </thead>\n",
              "  <tbody>\n",
              "    <tr>\n",
              "      <th>1888</th>\n",
              "      <td>0</td>\n",
              "      <td>No</td>\n",
              "      <td>No</td>\n",
              "      <td>23</td>\n",
              "      <td>Yes</td>\n",
              "      <td>DSL</td>\n",
              "      <td>One year</td>\n",
              "      <td>No</td>\n",
              "      <td>Bank transfer (automatic)</td>\n",
              "      <td>55.80</td>\n",
              "      <td>0</td>\n",
              "    </tr>\n",
              "    <tr>\n",
              "      <th>5398</th>\n",
              "      <td>0</td>\n",
              "      <td>No</td>\n",
              "      <td>No</td>\n",
              "      <td>2</td>\n",
              "      <td>Yes</td>\n",
              "      <td>No</td>\n",
              "      <td>Month-to-month</td>\n",
              "      <td>No</td>\n",
              "      <td>Mailed check</td>\n",
              "      <td>19.75</td>\n",
              "      <td>0</td>\n",
              "    </tr>\n",
              "    <tr>\n",
              "      <th>2622</th>\n",
              "      <td>1</td>\n",
              "      <td>Yes</td>\n",
              "      <td>Yes</td>\n",
              "      <td>28</td>\n",
              "      <td>Yes</td>\n",
              "      <td>DSL</td>\n",
              "      <td>One year</td>\n",
              "      <td>Yes</td>\n",
              "      <td>Electronic check</td>\n",
              "      <td>51.00</td>\n",
              "      <td>0</td>\n",
              "    </tr>\n",
              "    <tr>\n",
              "      <th>531</th>\n",
              "      <td>0</td>\n",
              "      <td>Yes</td>\n",
              "      <td>Yes</td>\n",
              "      <td>70</td>\n",
              "      <td>Yes</td>\n",
              "      <td>No</td>\n",
              "      <td>Two year</td>\n",
              "      <td>No</td>\n",
              "      <td>Credit card (automatic)</td>\n",
              "      <td>20.05</td>\n",
              "      <td>0</td>\n",
              "    </tr>\n",
              "    <tr>\n",
              "      <th>1472</th>\n",
              "      <td>0</td>\n",
              "      <td>Yes</td>\n",
              "      <td>Yes</td>\n",
              "      <td>13</td>\n",
              "      <td>Yes</td>\n",
              "      <td>Fiber optic</td>\n",
              "      <td>Month-to-month</td>\n",
              "      <td>Yes</td>\n",
              "      <td>Credit card (automatic)</td>\n",
              "      <td>74.40</td>\n",
              "      <td>1</td>\n",
              "    </tr>\n",
              "    <tr>\n",
              "      <th>2035</th>\n",
              "      <td>0</td>\n",
              "      <td>No</td>\n",
              "      <td>Yes</td>\n",
              "      <td>43</td>\n",
              "      <td>Yes</td>\n",
              "      <td>DSL</td>\n",
              "      <td>Month-to-month</td>\n",
              "      <td>Yes</td>\n",
              "      <td>Electronic check</td>\n",
              "      <td>63.95</td>\n",
              "      <td>0</td>\n",
              "    </tr>\n",
              "    <tr>\n",
              "      <th>4838</th>\n",
              "      <td>0</td>\n",
              "      <td>Yes</td>\n",
              "      <td>No</td>\n",
              "      <td>67</td>\n",
              "      <td>Yes</td>\n",
              "      <td>Fiber optic</td>\n",
              "      <td>One year</td>\n",
              "      <td>Yes</td>\n",
              "      <td>Credit card (automatic)</td>\n",
              "      <td>109.70</td>\n",
              "      <td>0</td>\n",
              "    </tr>\n",
              "    <tr>\n",
              "      <th>5505</th>\n",
              "      <td>0</td>\n",
              "      <td>Yes</td>\n",
              "      <td>Yes</td>\n",
              "      <td>12</td>\n",
              "      <td>No</td>\n",
              "      <td>DSL</td>\n",
              "      <td>One year</td>\n",
              "      <td>No</td>\n",
              "      <td>Credit card (automatic)</td>\n",
              "      <td>30.25</td>\n",
              "      <td>0</td>\n",
              "    </tr>\n",
              "    <tr>\n",
              "      <th>3528</th>\n",
              "      <td>0</td>\n",
              "      <td>No</td>\n",
              "      <td>No</td>\n",
              "      <td>16</td>\n",
              "      <td>Yes</td>\n",
              "      <td>No</td>\n",
              "      <td>Month-to-month</td>\n",
              "      <td>Yes</td>\n",
              "      <td>Mailed check</td>\n",
              "      <td>19.70</td>\n",
              "      <td>1</td>\n",
              "    </tr>\n",
              "    <tr>\n",
              "      <th>3279</th>\n",
              "      <td>0</td>\n",
              "      <td>Yes</td>\n",
              "      <td>Yes</td>\n",
              "      <td>23</td>\n",
              "      <td>Yes</td>\n",
              "      <td>DSL</td>\n",
              "      <td>One year</td>\n",
              "      <td>No</td>\n",
              "      <td>Credit card (automatic)</td>\n",
              "      <td>57.20</td>\n",
              "      <td>0</td>\n",
              "    </tr>\n",
              "  </tbody>\n",
              "</table>\n",
              "</div>\n",
              "      <button class=\"colab-df-convert\" onclick=\"convertToInteractive('df-b529f939-8253-45a0-83b8-b3db226057b0')\"\n",
              "              title=\"Convert this dataframe to an interactive table.\"\n",
              "              style=\"display:none;\">\n",
              "        \n",
              "  <svg xmlns=\"http://www.w3.org/2000/svg\" height=\"24px\"viewBox=\"0 0 24 24\"\n",
              "       width=\"24px\">\n",
              "    <path d=\"M0 0h24v24H0V0z\" fill=\"none\"/>\n",
              "    <path d=\"M18.56 5.44l.94 2.06.94-2.06 2.06-.94-2.06-.94-.94-2.06-.94 2.06-2.06.94zm-11 1L8.5 8.5l.94-2.06 2.06-.94-2.06-.94L8.5 2.5l-.94 2.06-2.06.94zm10 10l.94 2.06.94-2.06 2.06-.94-2.06-.94-.94-2.06-.94 2.06-2.06.94z\"/><path d=\"M17.41 7.96l-1.37-1.37c-.4-.4-.92-.59-1.43-.59-.52 0-1.04.2-1.43.59L10.3 9.45l-7.72 7.72c-.78.78-.78 2.05 0 2.83L4 21.41c.39.39.9.59 1.41.59.51 0 1.02-.2 1.41-.59l7.78-7.78 2.81-2.81c.8-.78.8-2.07 0-2.86zM5.41 20L4 18.59l7.72-7.72 1.47 1.35L5.41 20z\"/>\n",
              "  </svg>\n",
              "      </button>\n",
              "      \n",
              "  <style>\n",
              "    .colab-df-container {\n",
              "      display:flex;\n",
              "      flex-wrap:wrap;\n",
              "      gap: 12px;\n",
              "    }\n",
              "\n",
              "    .colab-df-convert {\n",
              "      background-color: #E8F0FE;\n",
              "      border: none;\n",
              "      border-radius: 50%;\n",
              "      cursor: pointer;\n",
              "      display: none;\n",
              "      fill: #1967D2;\n",
              "      height: 32px;\n",
              "      padding: 0 0 0 0;\n",
              "      width: 32px;\n",
              "    }\n",
              "\n",
              "    .colab-df-convert:hover {\n",
              "      background-color: #E2EBFA;\n",
              "      box-shadow: 0px 1px 2px rgba(60, 64, 67, 0.3), 0px 1px 3px 1px rgba(60, 64, 67, 0.15);\n",
              "      fill: #174EA6;\n",
              "    }\n",
              "\n",
              "    [theme=dark] .colab-df-convert {\n",
              "      background-color: #3B4455;\n",
              "      fill: #D2E3FC;\n",
              "    }\n",
              "\n",
              "    [theme=dark] .colab-df-convert:hover {\n",
              "      background-color: #434B5C;\n",
              "      box-shadow: 0px 1px 3px 1px rgba(0, 0, 0, 0.15);\n",
              "      filter: drop-shadow(0px 1px 2px rgba(0, 0, 0, 0.3));\n",
              "      fill: #FFFFFF;\n",
              "    }\n",
              "  </style>\n",
              "\n",
              "      <script>\n",
              "        const buttonEl =\n",
              "          document.querySelector('#df-b529f939-8253-45a0-83b8-b3db226057b0 button.colab-df-convert');\n",
              "        buttonEl.style.display =\n",
              "          google.colab.kernel.accessAllowed ? 'block' : 'none';\n",
              "\n",
              "        async function convertToInteractive(key) {\n",
              "          const element = document.querySelector('#df-b529f939-8253-45a0-83b8-b3db226057b0');\n",
              "          const dataTable =\n",
              "            await google.colab.kernel.invokeFunction('convertToInteractive',\n",
              "                                                     [key], {});\n",
              "          if (!dataTable) return;\n",
              "\n",
              "          const docLinkHtml = 'Like what you see? Visit the ' +\n",
              "            '<a target=\"_blank\" href=https://colab.research.google.com/notebooks/data_table.ipynb>data table notebook</a>'\n",
              "            + ' to learn more about interactive tables.';\n",
              "          element.innerHTML = '';\n",
              "          dataTable['output_type'] = 'display_data';\n",
              "          await google.colab.output.renderOutput(dataTable, element);\n",
              "          const docLink = document.createElement('div');\n",
              "          docLink.innerHTML = docLinkHtml;\n",
              "          element.appendChild(docLink);\n",
              "        }\n",
              "      </script>\n",
              "    </div>\n",
              "  </div>\n",
              "  "
            ]
          },
          "metadata": {},
          "execution_count": 45
        }
      ],
      "source": [
        "# Get data for model inference.\n",
        "# Data inference tidak boleh ada di train dan test. jadi datanya tuh dibagi buat 3 peruntukan.\n",
        "\n",
        "data_inf = df_new.sample(10, random_state=9)   # ambil 10 sampel, random state gunanya untuk biar ga berubah2, nilainya 9. Nilainya terserah gada pengaruhnya\n",
        "data_inf"
      ]
    },
    {
      "cell_type": "code",
      "execution_count": 46,
      "metadata": {
        "colab": {
          "base_uri": "https://localhost:8080/",
          "height": 0
        },
        "id": "AcuhdfdxxugR",
        "outputId": "ed8c864c-31ee-4ad9-f50e-4a3ccb806042"
      },
      "outputs": [
        {
          "output_type": "execute_result",
          "data": {
            "text/plain": [
              "   SeniorCitizen Partner Dependents  tenure PhoneService InternetService  \\\n",
              "0              0     Yes         No       1           No             DSL   \n",
              "1              0      No         No      34          Yes             DSL   \n",
              "2              0      No         No       2          Yes             DSL   \n",
              "3              0      No         No      45           No             DSL   \n",
              "4              0      No         No       2          Yes     Fiber optic   \n",
              "\n",
              "         Contract PaperlessBilling              PaymentMethod  MonthlyCharges  \\\n",
              "0  Month-to-month              Yes           Electronic check           29.85   \n",
              "1        One year               No               Mailed check           56.95   \n",
              "2  Month-to-month              Yes               Mailed check           53.85   \n",
              "3        One year               No  Bank transfer (automatic)           42.30   \n",
              "4  Month-to-month              Yes           Electronic check           70.70   \n",
              "\n",
              "   Churn  \n",
              "0      0  \n",
              "1      0  \n",
              "2      1  \n",
              "3      0  \n",
              "4      1  "
            ],
            "text/html": [
              "\n",
              "  <div id=\"df-8a698c4f-96ed-4080-8c04-d811aa318be3\">\n",
              "    <div class=\"colab-df-container\">\n",
              "      <div>\n",
              "<style scoped>\n",
              "    .dataframe tbody tr th:only-of-type {\n",
              "        vertical-align: middle;\n",
              "    }\n",
              "\n",
              "    .dataframe tbody tr th {\n",
              "        vertical-align: top;\n",
              "    }\n",
              "\n",
              "    .dataframe thead th {\n",
              "        text-align: right;\n",
              "    }\n",
              "</style>\n",
              "<table border=\"1\" class=\"dataframe\">\n",
              "  <thead>\n",
              "    <tr style=\"text-align: right;\">\n",
              "      <th></th>\n",
              "      <th>SeniorCitizen</th>\n",
              "      <th>Partner</th>\n",
              "      <th>Dependents</th>\n",
              "      <th>tenure</th>\n",
              "      <th>PhoneService</th>\n",
              "      <th>InternetService</th>\n",
              "      <th>Contract</th>\n",
              "      <th>PaperlessBilling</th>\n",
              "      <th>PaymentMethod</th>\n",
              "      <th>MonthlyCharges</th>\n",
              "      <th>Churn</th>\n",
              "    </tr>\n",
              "  </thead>\n",
              "  <tbody>\n",
              "    <tr>\n",
              "      <th>0</th>\n",
              "      <td>0</td>\n",
              "      <td>Yes</td>\n",
              "      <td>No</td>\n",
              "      <td>1</td>\n",
              "      <td>No</td>\n",
              "      <td>DSL</td>\n",
              "      <td>Month-to-month</td>\n",
              "      <td>Yes</td>\n",
              "      <td>Electronic check</td>\n",
              "      <td>29.85</td>\n",
              "      <td>0</td>\n",
              "    </tr>\n",
              "    <tr>\n",
              "      <th>1</th>\n",
              "      <td>0</td>\n",
              "      <td>No</td>\n",
              "      <td>No</td>\n",
              "      <td>34</td>\n",
              "      <td>Yes</td>\n",
              "      <td>DSL</td>\n",
              "      <td>One year</td>\n",
              "      <td>No</td>\n",
              "      <td>Mailed check</td>\n",
              "      <td>56.95</td>\n",
              "      <td>0</td>\n",
              "    </tr>\n",
              "    <tr>\n",
              "      <th>2</th>\n",
              "      <td>0</td>\n",
              "      <td>No</td>\n",
              "      <td>No</td>\n",
              "      <td>2</td>\n",
              "      <td>Yes</td>\n",
              "      <td>DSL</td>\n",
              "      <td>Month-to-month</td>\n",
              "      <td>Yes</td>\n",
              "      <td>Mailed check</td>\n",
              "      <td>53.85</td>\n",
              "      <td>1</td>\n",
              "    </tr>\n",
              "    <tr>\n",
              "      <th>3</th>\n",
              "      <td>0</td>\n",
              "      <td>No</td>\n",
              "      <td>No</td>\n",
              "      <td>45</td>\n",
              "      <td>No</td>\n",
              "      <td>DSL</td>\n",
              "      <td>One year</td>\n",
              "      <td>No</td>\n",
              "      <td>Bank transfer (automatic)</td>\n",
              "      <td>42.30</td>\n",
              "      <td>0</td>\n",
              "    </tr>\n",
              "    <tr>\n",
              "      <th>4</th>\n",
              "      <td>0</td>\n",
              "      <td>No</td>\n",
              "      <td>No</td>\n",
              "      <td>2</td>\n",
              "      <td>Yes</td>\n",
              "      <td>Fiber optic</td>\n",
              "      <td>Month-to-month</td>\n",
              "      <td>Yes</td>\n",
              "      <td>Electronic check</td>\n",
              "      <td>70.70</td>\n",
              "      <td>1</td>\n",
              "    </tr>\n",
              "  </tbody>\n",
              "</table>\n",
              "</div>\n",
              "      <button class=\"colab-df-convert\" onclick=\"convertToInteractive('df-8a698c4f-96ed-4080-8c04-d811aa318be3')\"\n",
              "              title=\"Convert this dataframe to an interactive table.\"\n",
              "              style=\"display:none;\">\n",
              "        \n",
              "  <svg xmlns=\"http://www.w3.org/2000/svg\" height=\"24px\"viewBox=\"0 0 24 24\"\n",
              "       width=\"24px\">\n",
              "    <path d=\"M0 0h24v24H0V0z\" fill=\"none\"/>\n",
              "    <path d=\"M18.56 5.44l.94 2.06.94-2.06 2.06-.94-2.06-.94-.94-2.06-.94 2.06-2.06.94zm-11 1L8.5 8.5l.94-2.06 2.06-.94-2.06-.94L8.5 2.5l-.94 2.06-2.06.94zm10 10l.94 2.06.94-2.06 2.06-.94-2.06-.94-.94-2.06-.94 2.06-2.06.94z\"/><path d=\"M17.41 7.96l-1.37-1.37c-.4-.4-.92-.59-1.43-.59-.52 0-1.04.2-1.43.59L10.3 9.45l-7.72 7.72c-.78.78-.78 2.05 0 2.83L4 21.41c.39.39.9.59 1.41.59.51 0 1.02-.2 1.41-.59l7.78-7.78 2.81-2.81c.8-.78.8-2.07 0-2.86zM5.41 20L4 18.59l7.72-7.72 1.47 1.35L5.41 20z\"/>\n",
              "  </svg>\n",
              "      </button>\n",
              "      \n",
              "  <style>\n",
              "    .colab-df-container {\n",
              "      display:flex;\n",
              "      flex-wrap:wrap;\n",
              "      gap: 12px;\n",
              "    }\n",
              "\n",
              "    .colab-df-convert {\n",
              "      background-color: #E8F0FE;\n",
              "      border: none;\n",
              "      border-radius: 50%;\n",
              "      cursor: pointer;\n",
              "      display: none;\n",
              "      fill: #1967D2;\n",
              "      height: 32px;\n",
              "      padding: 0 0 0 0;\n",
              "      width: 32px;\n",
              "    }\n",
              "\n",
              "    .colab-df-convert:hover {\n",
              "      background-color: #E2EBFA;\n",
              "      box-shadow: 0px 1px 2px rgba(60, 64, 67, 0.3), 0px 1px 3px 1px rgba(60, 64, 67, 0.15);\n",
              "      fill: #174EA6;\n",
              "    }\n",
              "\n",
              "    [theme=dark] .colab-df-convert {\n",
              "      background-color: #3B4455;\n",
              "      fill: #D2E3FC;\n",
              "    }\n",
              "\n",
              "    [theme=dark] .colab-df-convert:hover {\n",
              "      background-color: #434B5C;\n",
              "      box-shadow: 0px 1px 3px 1px rgba(0, 0, 0, 0.15);\n",
              "      filter: drop-shadow(0px 1px 2px rgba(0, 0, 0, 0.3));\n",
              "      fill: #FFFFFF;\n",
              "    }\n",
              "  </style>\n",
              "\n",
              "      <script>\n",
              "        const buttonEl =\n",
              "          document.querySelector('#df-8a698c4f-96ed-4080-8c04-d811aa318be3 button.colab-df-convert');\n",
              "        buttonEl.style.display =\n",
              "          google.colab.kernel.accessAllowed ? 'block' : 'none';\n",
              "\n",
              "        async function convertToInteractive(key) {\n",
              "          const element = document.querySelector('#df-8a698c4f-96ed-4080-8c04-d811aa318be3');\n",
              "          const dataTable =\n",
              "            await google.colab.kernel.invokeFunction('convertToInteractive',\n",
              "                                                     [key], {});\n",
              "          if (!dataTable) return;\n",
              "\n",
              "          const docLinkHtml = 'Like what you see? Visit the ' +\n",
              "            '<a target=\"_blank\" href=https://colab.research.google.com/notebooks/data_table.ipynb>data table notebook</a>'\n",
              "            + ' to learn more about interactive tables.';\n",
              "          element.innerHTML = '';\n",
              "          dataTable['output_type'] = 'display_data';\n",
              "          await google.colab.output.renderOutput(dataTable, element);\n",
              "          const docLink = document.createElement('div');\n",
              "          docLink.innerHTML = docLinkHtml;\n",
              "          element.appendChild(docLink);\n",
              "        }\n",
              "      </script>\n",
              "    </div>\n",
              "  </div>\n",
              "  "
            ]
          },
          "metadata": {},
          "execution_count": 46
        }
      ],
      "source": [
        "# Remove inference-set\n",
        "\n",
        "data_train_val_test = df_new.drop(data_inf.index)\n",
        "data_train_val_test.head()"
      ]
    },
    {
      "cell_type": "code",
      "execution_count": 47,
      "metadata": {
        "colab": {
          "base_uri": "https://localhost:8080/",
          "height": 0
        },
        "id": "eqZtjj6MxugS",
        "outputId": "1fe645a8-a7da-450b-87af-4ea1777dc5f0"
      },
      "outputs": [
        {
          "output_type": "execute_result",
          "data": {
            "text/plain": [
              "   SeniorCitizen Partner Dependents  tenure PhoneService InternetService  \\\n",
              "0              0      No         No      23          Yes             DSL   \n",
              "1              0      No         No       2          Yes              No   \n",
              "2              1     Yes        Yes      28          Yes             DSL   \n",
              "3              0     Yes        Yes      70          Yes              No   \n",
              "4              0     Yes        Yes      13          Yes     Fiber optic   \n",
              "\n",
              "         Contract PaperlessBilling              PaymentMethod  MonthlyCharges  \\\n",
              "0        One year               No  Bank transfer (automatic)           55.80   \n",
              "1  Month-to-month               No               Mailed check           19.75   \n",
              "2        One year              Yes           Electronic check           51.00   \n",
              "3        Two year               No    Credit card (automatic)           20.05   \n",
              "4  Month-to-month              Yes    Credit card (automatic)           74.40   \n",
              "\n",
              "   Churn  \n",
              "0      0  \n",
              "1      0  \n",
              "2      0  \n",
              "3      0  \n",
              "4      1  "
            ],
            "text/html": [
              "\n",
              "  <div id=\"df-45bdd022-e8d6-4025-9e2f-e74d658e657b\">\n",
              "    <div class=\"colab-df-container\">\n",
              "      <div>\n",
              "<style scoped>\n",
              "    .dataframe tbody tr th:only-of-type {\n",
              "        vertical-align: middle;\n",
              "    }\n",
              "\n",
              "    .dataframe tbody tr th {\n",
              "        vertical-align: top;\n",
              "    }\n",
              "\n",
              "    .dataframe thead th {\n",
              "        text-align: right;\n",
              "    }\n",
              "</style>\n",
              "<table border=\"1\" class=\"dataframe\">\n",
              "  <thead>\n",
              "    <tr style=\"text-align: right;\">\n",
              "      <th></th>\n",
              "      <th>SeniorCitizen</th>\n",
              "      <th>Partner</th>\n",
              "      <th>Dependents</th>\n",
              "      <th>tenure</th>\n",
              "      <th>PhoneService</th>\n",
              "      <th>InternetService</th>\n",
              "      <th>Contract</th>\n",
              "      <th>PaperlessBilling</th>\n",
              "      <th>PaymentMethod</th>\n",
              "      <th>MonthlyCharges</th>\n",
              "      <th>Churn</th>\n",
              "    </tr>\n",
              "  </thead>\n",
              "  <tbody>\n",
              "    <tr>\n",
              "      <th>0</th>\n",
              "      <td>0</td>\n",
              "      <td>No</td>\n",
              "      <td>No</td>\n",
              "      <td>23</td>\n",
              "      <td>Yes</td>\n",
              "      <td>DSL</td>\n",
              "      <td>One year</td>\n",
              "      <td>No</td>\n",
              "      <td>Bank transfer (automatic)</td>\n",
              "      <td>55.80</td>\n",
              "      <td>0</td>\n",
              "    </tr>\n",
              "    <tr>\n",
              "      <th>1</th>\n",
              "      <td>0</td>\n",
              "      <td>No</td>\n",
              "      <td>No</td>\n",
              "      <td>2</td>\n",
              "      <td>Yes</td>\n",
              "      <td>No</td>\n",
              "      <td>Month-to-month</td>\n",
              "      <td>No</td>\n",
              "      <td>Mailed check</td>\n",
              "      <td>19.75</td>\n",
              "      <td>0</td>\n",
              "    </tr>\n",
              "    <tr>\n",
              "      <th>2</th>\n",
              "      <td>1</td>\n",
              "      <td>Yes</td>\n",
              "      <td>Yes</td>\n",
              "      <td>28</td>\n",
              "      <td>Yes</td>\n",
              "      <td>DSL</td>\n",
              "      <td>One year</td>\n",
              "      <td>Yes</td>\n",
              "      <td>Electronic check</td>\n",
              "      <td>51.00</td>\n",
              "      <td>0</td>\n",
              "    </tr>\n",
              "    <tr>\n",
              "      <th>3</th>\n",
              "      <td>0</td>\n",
              "      <td>Yes</td>\n",
              "      <td>Yes</td>\n",
              "      <td>70</td>\n",
              "      <td>Yes</td>\n",
              "      <td>No</td>\n",
              "      <td>Two year</td>\n",
              "      <td>No</td>\n",
              "      <td>Credit card (automatic)</td>\n",
              "      <td>20.05</td>\n",
              "      <td>0</td>\n",
              "    </tr>\n",
              "    <tr>\n",
              "      <th>4</th>\n",
              "      <td>0</td>\n",
              "      <td>Yes</td>\n",
              "      <td>Yes</td>\n",
              "      <td>13</td>\n",
              "      <td>Yes</td>\n",
              "      <td>Fiber optic</td>\n",
              "      <td>Month-to-month</td>\n",
              "      <td>Yes</td>\n",
              "      <td>Credit card (automatic)</td>\n",
              "      <td>74.40</td>\n",
              "      <td>1</td>\n",
              "    </tr>\n",
              "  </tbody>\n",
              "</table>\n",
              "</div>\n",
              "      <button class=\"colab-df-convert\" onclick=\"convertToInteractive('df-45bdd022-e8d6-4025-9e2f-e74d658e657b')\"\n",
              "              title=\"Convert this dataframe to an interactive table.\"\n",
              "              style=\"display:none;\">\n",
              "        \n",
              "  <svg xmlns=\"http://www.w3.org/2000/svg\" height=\"24px\"viewBox=\"0 0 24 24\"\n",
              "       width=\"24px\">\n",
              "    <path d=\"M0 0h24v24H0V0z\" fill=\"none\"/>\n",
              "    <path d=\"M18.56 5.44l.94 2.06.94-2.06 2.06-.94-2.06-.94-.94-2.06-.94 2.06-2.06.94zm-11 1L8.5 8.5l.94-2.06 2.06-.94-2.06-.94L8.5 2.5l-.94 2.06-2.06.94zm10 10l.94 2.06.94-2.06 2.06-.94-2.06-.94-.94-2.06-.94 2.06-2.06.94z\"/><path d=\"M17.41 7.96l-1.37-1.37c-.4-.4-.92-.59-1.43-.59-.52 0-1.04.2-1.43.59L10.3 9.45l-7.72 7.72c-.78.78-.78 2.05 0 2.83L4 21.41c.39.39.9.59 1.41.59.51 0 1.02-.2 1.41-.59l7.78-7.78 2.81-2.81c.8-.78.8-2.07 0-2.86zM5.41 20L4 18.59l7.72-7.72 1.47 1.35L5.41 20z\"/>\n",
              "  </svg>\n",
              "      </button>\n",
              "      \n",
              "  <style>\n",
              "    .colab-df-container {\n",
              "      display:flex;\n",
              "      flex-wrap:wrap;\n",
              "      gap: 12px;\n",
              "    }\n",
              "\n",
              "    .colab-df-convert {\n",
              "      background-color: #E8F0FE;\n",
              "      border: none;\n",
              "      border-radius: 50%;\n",
              "      cursor: pointer;\n",
              "      display: none;\n",
              "      fill: #1967D2;\n",
              "      height: 32px;\n",
              "      padding: 0 0 0 0;\n",
              "      width: 32px;\n",
              "    }\n",
              "\n",
              "    .colab-df-convert:hover {\n",
              "      background-color: #E2EBFA;\n",
              "      box-shadow: 0px 1px 2px rgba(60, 64, 67, 0.3), 0px 1px 3px 1px rgba(60, 64, 67, 0.15);\n",
              "      fill: #174EA6;\n",
              "    }\n",
              "\n",
              "    [theme=dark] .colab-df-convert {\n",
              "      background-color: #3B4455;\n",
              "      fill: #D2E3FC;\n",
              "    }\n",
              "\n",
              "    [theme=dark] .colab-df-convert:hover {\n",
              "      background-color: #434B5C;\n",
              "      box-shadow: 0px 1px 3px 1px rgba(0, 0, 0, 0.15);\n",
              "      filter: drop-shadow(0px 1px 2px rgba(0, 0, 0, 0.3));\n",
              "      fill: #FFFFFF;\n",
              "    }\n",
              "  </style>\n",
              "\n",
              "      <script>\n",
              "        const buttonEl =\n",
              "          document.querySelector('#df-45bdd022-e8d6-4025-9e2f-e74d658e657b button.colab-df-convert');\n",
              "        buttonEl.style.display =\n",
              "          google.colab.kernel.accessAllowed ? 'block' : 'none';\n",
              "\n",
              "        async function convertToInteractive(key) {\n",
              "          const element = document.querySelector('#df-45bdd022-e8d6-4025-9e2f-e74d658e657b');\n",
              "          const dataTable =\n",
              "            await google.colab.kernel.invokeFunction('convertToInteractive',\n",
              "                                                     [key], {});\n",
              "          if (!dataTable) return;\n",
              "\n",
              "          const docLinkHtml = 'Like what you see? Visit the ' +\n",
              "            '<a target=\"_blank\" href=https://colab.research.google.com/notebooks/data_table.ipynb>data table notebook</a>'\n",
              "            + ' to learn more about interactive tables.';\n",
              "          element.innerHTML = '';\n",
              "          dataTable['output_type'] = 'display_data';\n",
              "          await google.colab.output.renderOutput(dataTable, element);\n",
              "          const docLink = document.createElement('div');\n",
              "          docLink.innerHTML = docLinkHtml;\n",
              "          element.appendChild(docLink);\n",
              "        }\n",
              "      </script>\n",
              "    </div>\n",
              "  </div>\n",
              "  "
            ]
          },
          "metadata": {},
          "execution_count": 47
        }
      ],
      "source": [
        "# Reset index\n",
        "data_train_val_test.reset_index(drop=True, inplace=True)\n",
        "data_inf.reset_index(drop=True, inplace=True)\n",
        "data_inf.head()"
      ]
    },
    {
      "cell_type": "markdown",
      "metadata": {
        "id": "BkV6b015xugT"
      },
      "source": [
        "## 5.2. Splitting Dataset"
      ]
    },
    {
      "cell_type": "code",
      "execution_count": 48,
      "metadata": {
        "colab": {
          "base_uri": "https://localhost:8080/",
          "height": 0
        },
        "id": "WbwyrhJjxugU",
        "outputId": "ae3d996b-b9e3-40d0-cca6-25f67f509357"
      },
      "outputs": [
        {
          "output_type": "execute_result",
          "data": {
            "text/plain": [
              "   SeniorCitizen Partner Dependents  tenure PhoneService InternetService  \\\n",
              "0              0     Yes         No       1           No             DSL   \n",
              "1              0      No         No      34          Yes             DSL   \n",
              "2              0      No         No       2          Yes             DSL   \n",
              "3              0      No         No      45           No             DSL   \n",
              "4              0      No         No       2          Yes     Fiber optic   \n",
              "\n",
              "         Contract PaperlessBilling              PaymentMethod  MonthlyCharges  \n",
              "0  Month-to-month              Yes           Electronic check           29.85  \n",
              "1        One year               No               Mailed check           56.95  \n",
              "2  Month-to-month              Yes               Mailed check           53.85  \n",
              "3        One year               No  Bank transfer (automatic)           42.30  \n",
              "4  Month-to-month              Yes           Electronic check           70.70  "
            ],
            "text/html": [
              "\n",
              "  <div id=\"df-51301082-8a95-4dd9-ba6f-24e023c9b149\">\n",
              "    <div class=\"colab-df-container\">\n",
              "      <div>\n",
              "<style scoped>\n",
              "    .dataframe tbody tr th:only-of-type {\n",
              "        vertical-align: middle;\n",
              "    }\n",
              "\n",
              "    .dataframe tbody tr th {\n",
              "        vertical-align: top;\n",
              "    }\n",
              "\n",
              "    .dataframe thead th {\n",
              "        text-align: right;\n",
              "    }\n",
              "</style>\n",
              "<table border=\"1\" class=\"dataframe\">\n",
              "  <thead>\n",
              "    <tr style=\"text-align: right;\">\n",
              "      <th></th>\n",
              "      <th>SeniorCitizen</th>\n",
              "      <th>Partner</th>\n",
              "      <th>Dependents</th>\n",
              "      <th>tenure</th>\n",
              "      <th>PhoneService</th>\n",
              "      <th>InternetService</th>\n",
              "      <th>Contract</th>\n",
              "      <th>PaperlessBilling</th>\n",
              "      <th>PaymentMethod</th>\n",
              "      <th>MonthlyCharges</th>\n",
              "    </tr>\n",
              "  </thead>\n",
              "  <tbody>\n",
              "    <tr>\n",
              "      <th>0</th>\n",
              "      <td>0</td>\n",
              "      <td>Yes</td>\n",
              "      <td>No</td>\n",
              "      <td>1</td>\n",
              "      <td>No</td>\n",
              "      <td>DSL</td>\n",
              "      <td>Month-to-month</td>\n",
              "      <td>Yes</td>\n",
              "      <td>Electronic check</td>\n",
              "      <td>29.85</td>\n",
              "    </tr>\n",
              "    <tr>\n",
              "      <th>1</th>\n",
              "      <td>0</td>\n",
              "      <td>No</td>\n",
              "      <td>No</td>\n",
              "      <td>34</td>\n",
              "      <td>Yes</td>\n",
              "      <td>DSL</td>\n",
              "      <td>One year</td>\n",
              "      <td>No</td>\n",
              "      <td>Mailed check</td>\n",
              "      <td>56.95</td>\n",
              "    </tr>\n",
              "    <tr>\n",
              "      <th>2</th>\n",
              "      <td>0</td>\n",
              "      <td>No</td>\n",
              "      <td>No</td>\n",
              "      <td>2</td>\n",
              "      <td>Yes</td>\n",
              "      <td>DSL</td>\n",
              "      <td>Month-to-month</td>\n",
              "      <td>Yes</td>\n",
              "      <td>Mailed check</td>\n",
              "      <td>53.85</td>\n",
              "    </tr>\n",
              "    <tr>\n",
              "      <th>3</th>\n",
              "      <td>0</td>\n",
              "      <td>No</td>\n",
              "      <td>No</td>\n",
              "      <td>45</td>\n",
              "      <td>No</td>\n",
              "      <td>DSL</td>\n",
              "      <td>One year</td>\n",
              "      <td>No</td>\n",
              "      <td>Bank transfer (automatic)</td>\n",
              "      <td>42.30</td>\n",
              "    </tr>\n",
              "    <tr>\n",
              "      <th>4</th>\n",
              "      <td>0</td>\n",
              "      <td>No</td>\n",
              "      <td>No</td>\n",
              "      <td>2</td>\n",
              "      <td>Yes</td>\n",
              "      <td>Fiber optic</td>\n",
              "      <td>Month-to-month</td>\n",
              "      <td>Yes</td>\n",
              "      <td>Electronic check</td>\n",
              "      <td>70.70</td>\n",
              "    </tr>\n",
              "  </tbody>\n",
              "</table>\n",
              "</div>\n",
              "      <button class=\"colab-df-convert\" onclick=\"convertToInteractive('df-51301082-8a95-4dd9-ba6f-24e023c9b149')\"\n",
              "              title=\"Convert this dataframe to an interactive table.\"\n",
              "              style=\"display:none;\">\n",
              "        \n",
              "  <svg xmlns=\"http://www.w3.org/2000/svg\" height=\"24px\"viewBox=\"0 0 24 24\"\n",
              "       width=\"24px\">\n",
              "    <path d=\"M0 0h24v24H0V0z\" fill=\"none\"/>\n",
              "    <path d=\"M18.56 5.44l.94 2.06.94-2.06 2.06-.94-2.06-.94-.94-2.06-.94 2.06-2.06.94zm-11 1L8.5 8.5l.94-2.06 2.06-.94-2.06-.94L8.5 2.5l-.94 2.06-2.06.94zm10 10l.94 2.06.94-2.06 2.06-.94-2.06-.94-.94-2.06-.94 2.06-2.06.94z\"/><path d=\"M17.41 7.96l-1.37-1.37c-.4-.4-.92-.59-1.43-.59-.52 0-1.04.2-1.43.59L10.3 9.45l-7.72 7.72c-.78.78-.78 2.05 0 2.83L4 21.41c.39.39.9.59 1.41.59.51 0 1.02-.2 1.41-.59l7.78-7.78 2.81-2.81c.8-.78.8-2.07 0-2.86zM5.41 20L4 18.59l7.72-7.72 1.47 1.35L5.41 20z\"/>\n",
              "  </svg>\n",
              "      </button>\n",
              "      \n",
              "  <style>\n",
              "    .colab-df-container {\n",
              "      display:flex;\n",
              "      flex-wrap:wrap;\n",
              "      gap: 12px;\n",
              "    }\n",
              "\n",
              "    .colab-df-convert {\n",
              "      background-color: #E8F0FE;\n",
              "      border: none;\n",
              "      border-radius: 50%;\n",
              "      cursor: pointer;\n",
              "      display: none;\n",
              "      fill: #1967D2;\n",
              "      height: 32px;\n",
              "      padding: 0 0 0 0;\n",
              "      width: 32px;\n",
              "    }\n",
              "\n",
              "    .colab-df-convert:hover {\n",
              "      background-color: #E2EBFA;\n",
              "      box-shadow: 0px 1px 2px rgba(60, 64, 67, 0.3), 0px 1px 3px 1px rgba(60, 64, 67, 0.15);\n",
              "      fill: #174EA6;\n",
              "    }\n",
              "\n",
              "    [theme=dark] .colab-df-convert {\n",
              "      background-color: #3B4455;\n",
              "      fill: #D2E3FC;\n",
              "    }\n",
              "\n",
              "    [theme=dark] .colab-df-convert:hover {\n",
              "      background-color: #434B5C;\n",
              "      box-shadow: 0px 1px 3px 1px rgba(0, 0, 0, 0.15);\n",
              "      filter: drop-shadow(0px 1px 2px rgba(0, 0, 0, 0.3));\n",
              "      fill: #FFFFFF;\n",
              "    }\n",
              "  </style>\n",
              "\n",
              "      <script>\n",
              "        const buttonEl =\n",
              "          document.querySelector('#df-51301082-8a95-4dd9-ba6f-24e023c9b149 button.colab-df-convert');\n",
              "        buttonEl.style.display =\n",
              "          google.colab.kernel.accessAllowed ? 'block' : 'none';\n",
              "\n",
              "        async function convertToInteractive(key) {\n",
              "          const element = document.querySelector('#df-51301082-8a95-4dd9-ba6f-24e023c9b149');\n",
              "          const dataTable =\n",
              "            await google.colab.kernel.invokeFunction('convertToInteractive',\n",
              "                                                     [key], {});\n",
              "          if (!dataTable) return;\n",
              "\n",
              "          const docLinkHtml = 'Like what you see? Visit the ' +\n",
              "            '<a target=\"_blank\" href=https://colab.research.google.com/notebooks/data_table.ipynb>data table notebook</a>'\n",
              "            + ' to learn more about interactive tables.';\n",
              "          element.innerHTML = '';\n",
              "          dataTable['output_type'] = 'display_data';\n",
              "          await google.colab.output.renderOutput(dataTable, element);\n",
              "          const docLink = document.createElement('div');\n",
              "          docLink.innerHTML = docLinkHtml;\n",
              "          element.appendChild(docLink);\n",
              "        }\n",
              "      </script>\n",
              "    </div>\n",
              "  </div>\n",
              "  "
            ]
          },
          "metadata": {},
          "execution_count": 48
        }
      ],
      "source": [
        "# Split between 'X' (features) and 'y' (target)\n",
        "X = data_train_val_test.drop('Churn', axis = 1)\n",
        "y = data_train_val_test['Churn']\n",
        "X.head()"
      ]
    },
    {
      "cell_type": "code",
      "execution_count": 49,
      "metadata": {
        "colab": {
          "base_uri": "https://localhost:8080/"
        },
        "id": "ZUE_mKFr2kfn",
        "outputId": "05dbe08e-4441-4a46-8236-66578d334c6c"
      },
      "outputs": [
        {
          "output_type": "execute_result",
          "data": {
            "text/plain": [
              "0    0\n",
              "1    0\n",
              "2    1\n",
              "3    0\n",
              "4    1\n",
              "Name: Churn, dtype: int64"
            ]
          },
          "metadata": {},
          "execution_count": 49
        }
      ],
      "source": [
        "y.head()"
      ]
    },
    {
      "cell_type": "code",
      "execution_count": 50,
      "metadata": {
        "id": "osmm3r53cFrC"
      },
      "outputs": [],
      "source": [
        "# memisahkan data menjadi train, val, dan test\n",
        "# dipisahin dulu train sama test\n",
        "X_train, X_test, y_train, y_test = train_test_split(X, y, train_size=0.9)\n",
        "# train dipisah lagi jadi train dan val. Jadi train ditimpa\n",
        "X_train, X_val, y_train, y_val = train_test_split(X_train, y_train, train_size=0.8)"
      ]
    },
    {
      "cell_type": "code",
      "execution_count": 51,
      "metadata": {
        "colab": {
          "base_uri": "https://localhost:8080/"
        },
        "id": "hasYEQqnxugU",
        "outputId": "d024162c-5669-400c-8950-0d0a84c1c602"
      },
      "outputs": [
        {
          "output_type": "stream",
          "name": "stdout",
          "text": [
            "Train Size :  (5055, 10)\n",
            "Test Size :  (703, 10)\n",
            "Val Size :  (1264, 10)\n"
          ]
        }
      ],
      "source": [
        "print('Train Size : ', X_train.shape)\n",
        "print('Test Size : ', X_test.shape)\n",
        "print('Val Size : ', X_val.shape)"
      ]
    },
    {
      "cell_type": "markdown",
      "metadata": {
        "id": "y_j06WuXxugV"
      },
      "source": [
        "## 5.3. Outlier Handling"
      ]
    },
    {
      "cell_type": "markdown",
      "metadata": {
        "id": "U2MNISa9xugV"
      },
      "source": [
        "Seperti yang sudah saya jelaskan di EDA bahwa tidak ada yang dianggap outlier di data ini."
      ]
    },
    {
      "cell_type": "markdown",
      "metadata": {
        "id": "OyjV2ZqJxug-"
      },
      "source": [
        "## 5.4. Handling Missing Value"
      ]
    },
    {
      "cell_type": "markdown",
      "metadata": {
        "id": "i896SxtKxug_"
      },
      "source": [
        "Check Missing Values"
      ]
    },
    {
      "cell_type": "code",
      "execution_count": 52,
      "metadata": {
        "colab": {
          "base_uri": "https://localhost:8080/"
        },
        "id": "GBEUPprAxuhA",
        "outputId": "9efd350a-d4a1-4478-e0b5-576b043b6069"
      },
      "outputs": [
        {
          "output_type": "execute_result",
          "data": {
            "text/plain": [
              "SeniorCitizen       0\n",
              "Partner             0\n",
              "Dependents          0\n",
              "tenure              0\n",
              "PhoneService        0\n",
              "InternetService     0\n",
              "Contract            0\n",
              "PaperlessBilling    0\n",
              "PaymentMethod       0\n",
              "MonthlyCharges      0\n",
              "dtype: int64"
            ]
          },
          "metadata": {},
          "execution_count": 52
        }
      ],
      "source": [
        "X_train.isna().sum()"
      ]
    },
    {
      "cell_type": "code",
      "execution_count": 53,
      "metadata": {
        "colab": {
          "base_uri": "https://localhost:8080/"
        },
        "id": "7F5K6NxGxuhB",
        "outputId": "823a4bd2-a77d-4db8-8e66-1851f2972928"
      },
      "outputs": [
        {
          "output_type": "execute_result",
          "data": {
            "text/plain": [
              "SeniorCitizen       0\n",
              "Partner             0\n",
              "Dependents          0\n",
              "tenure              0\n",
              "PhoneService        0\n",
              "InternetService     0\n",
              "Contract            0\n",
              "PaperlessBilling    0\n",
              "PaymentMethod       0\n",
              "MonthlyCharges      0\n",
              "dtype: int64"
            ]
          },
          "metadata": {},
          "execution_count": 53
        }
      ],
      "source": [
        "X_test.isna().sum()"
      ]
    },
    {
      "cell_type": "code",
      "execution_count": 54,
      "metadata": {
        "colab": {
          "base_uri": "https://localhost:8080/"
        },
        "id": "D3K_aARnc5Le",
        "outputId": "a257bdcc-3a64-4534-ba8e-d95ef53d6aab"
      },
      "outputs": [
        {
          "output_type": "execute_result",
          "data": {
            "text/plain": [
              "SeniorCitizen       0\n",
              "Partner             0\n",
              "Dependents          0\n",
              "tenure              0\n",
              "PhoneService        0\n",
              "InternetService     0\n",
              "Contract            0\n",
              "PaperlessBilling    0\n",
              "PaymentMethod       0\n",
              "MonthlyCharges      0\n",
              "dtype: int64"
            ]
          },
          "metadata": {},
          "execution_count": 54
        }
      ],
      "source": [
        "X_val.isna().sum()"
      ]
    },
    {
      "cell_type": "code",
      "execution_count": 55,
      "metadata": {
        "colab": {
          "base_uri": "https://localhost:8080/"
        },
        "id": "VXrd73msxuhC",
        "outputId": "d3a290de-5030-451e-d811-0c285e6ac2a7"
      },
      "outputs": [
        {
          "output_type": "execute_result",
          "data": {
            "text/plain": [
              "0"
            ]
          },
          "metadata": {},
          "execution_count": 55
        }
      ],
      "source": [
        "y_train.isna().sum()"
      ]
    },
    {
      "cell_type": "code",
      "execution_count": 56,
      "metadata": {
        "colab": {
          "base_uri": "https://localhost:8080/"
        },
        "id": "sd_xgbIsxuhD",
        "outputId": "e9d3d916-c707-4344-cf6b-efadd03eb694"
      },
      "outputs": [
        {
          "output_type": "execute_result",
          "data": {
            "text/plain": [
              "0"
            ]
          },
          "metadata": {},
          "execution_count": 56
        }
      ],
      "source": [
        "y_test.isna().sum()"
      ]
    },
    {
      "cell_type": "code",
      "execution_count": 57,
      "metadata": {
        "colab": {
          "base_uri": "https://localhost:8080/"
        },
        "id": "S47PcRIFc_PU",
        "outputId": "97a50c44-7825-4541-fa4d-bb9efd45dd20"
      },
      "outputs": [
        {
          "output_type": "execute_result",
          "data": {
            "text/plain": [
              "0"
            ]
          },
          "metadata": {},
          "execution_count": 57
        }
      ],
      "source": [
        "y_val.isna().sum()"
      ]
    },
    {
      "cell_type": "markdown",
      "metadata": {
        "id": "ygK5Oax6VqKD"
      },
      "source": [
        "Tidak ada missing value, lanjut ke proses berikutnya."
      ]
    },
    {
      "cell_type": "markdown",
      "metadata": {
        "id": "i3zUuA_KCUoQ"
      },
      "source": [
        "## 5.5. Feature Engineering"
      ]
    },
    {
      "cell_type": "code",
      "execution_count": 58,
      "metadata": {
        "id": "W351333tqE_1"
      },
      "outputs": [],
      "source": [
        "# mendefinisikan seed agara hasil tidak berubah-ubah\n",
        "tf.random.set_seed(19)\n",
        "np.random.seed(19)"
      ]
    },
    {
      "cell_type": "code",
      "execution_count": 59,
      "metadata": {
        "colab": {
          "base_uri": "https://localhost:8080/"
        },
        "id": "nw4A1ivzkBWX",
        "outputId": "2392513e-e02b-4b17-84c0-96a4c33577bb"
      },
      "outputs": [
        {
          "output_type": "stream",
          "name": "stderr",
          "text": [
            "/usr/local/lib/python3.7/dist-packages/ipykernel_launcher.py:1: FutureWarning: Dropping of nuisance columns in DataFrame reductions (with 'numeric_only=None') is deprecated; in a future version this will raise TypeError.  Select only valid columns before calling the reduction.\n",
            "  \"\"\"Entry point for launching an IPython kernel.\n"
          ]
        },
        {
          "output_type": "execute_result",
          "data": {
            "text/plain": [
              "SeniorCitizen     1.830218\n",
              "tenure            0.237064\n",
              "MonthlyCharges   -0.223346\n",
              "dtype: float64"
            ]
          },
          "metadata": {},
          "execution_count": 59
        }
      ],
      "source": [
        "X.skew()"
      ]
    },
    {
      "cell_type": "markdown",
      "source": [
        "data numerikal (tenure dan MonthlyCharges) berdistrubusi normal (skewness < 0.5) sehingga akan discaleing dengan StandardScaler. Senior Citizen bukan data numerikal, ia adalah categorikal dengan isi numerik."
      ],
      "metadata": {
        "id": "gwBy75H7uQuu"
      }
    },
    {
      "cell_type": "code",
      "execution_count": 60,
      "metadata": {
        "colab": {
          "base_uri": "https://localhost:8080/"
        },
        "id": "vpSC5xPQkfmq",
        "outputId": "ef2177cb-1b32-4d8b-d902-6acfdbc2e4d5"
      },
      "outputs": [
        {
          "output_type": "execute_result",
          "data": {
            "text/plain": [
              "Index(['SeniorCitizen', 'Partner', 'Dependents', 'tenure', 'PhoneService',\n",
              "       'InternetService', 'Contract', 'PaperlessBilling', 'PaymentMethod',\n",
              "       'MonthlyCharges'],\n",
              "      dtype='object')"
            ]
          },
          "metadata": {},
          "execution_count": 60
        }
      ],
      "source": [
        "X.columns"
      ]
    },
    {
      "cell_type": "markdown",
      "source": [
        "### Pipeline Preparation (from Scikit-learn)"
      ],
      "metadata": {
        "id": "7IQ4D_p59moH"
      }
    },
    {
      "cell_type": "code",
      "execution_count": 61,
      "metadata": {
        "id": "xFotezkXZgF_"
      },
      "outputs": [],
      "source": [
        "# membuat pipeline scaling dan encoding\n",
        "# encoder menggunakan OneHotEncode untuk semua kolom kategorikal karena tidak ada yang bersifat ordinal.\n",
        "\n",
        "prepp_pipeline = ColumnTransformer([\n",
        "    ('normal', Pipeline([\n",
        "        ('scaler', StandardScaler())\n",
        "    ]), ['tenure', 'MonthlyCharges']),\n",
        "\n",
        "    ('cat', Pipeline([\n",
        "        ('ohe', OneHotEncoder(handle_unknown='ignore'))\n",
        "    ]), ['SeniorCitizen', 'Partner', 'Dependents', 'PhoneService', 'InternetService', 'Contract', 'PaperlessBilling', 'PaymentMethod']),                      \n",
        "])"
      ]
    },
    {
      "cell_type": "code",
      "execution_count": 62,
      "metadata": {
        "id": "ycOkSCMqlMTc"
      },
      "outputs": [],
      "source": [
        "# Applying prep pipeline for the data\n",
        "X_train_final_prep = prepp_pipeline.fit_transform(X_train)\n",
        "X_test_final_prep = prepp_pipeline.transform(X_test)\n",
        "X_val_final_prep = prepp_pipeline.transform(X_val)"
      ]
    },
    {
      "cell_type": "code",
      "execution_count": 63,
      "metadata": {
        "colab": {
          "base_uri": "https://localhost:8080/"
        },
        "id": "_F8ZjrG5njIZ",
        "outputId": "72368028-56af-431c-d6c4-e1c98247b29c"
      },
      "outputs": [
        {
          "output_type": "execute_result",
          "data": {
            "text/plain": [
              "(5055, 22)"
            ]
          },
          "metadata": {},
          "execution_count": 63
        }
      ],
      "source": [
        "X_train_final_prep.shape"
      ]
    },
    {
      "cell_type": "markdown",
      "source": [
        "size outputnya adalah 22 dan akan digunakan untuk input model"
      ],
      "metadata": {
        "id": "MHQg8ftu94cD"
      }
    },
    {
      "cell_type": "markdown",
      "source": [
        "### Pipeline Tensorflow"
      ],
      "metadata": {
        "id": "R8SRdoys9dpL"
      }
    },
    {
      "cell_type": "code",
      "execution_count": 64,
      "metadata": {
        "id": "Uosd8D6enjEE"
      },
      "outputs": [],
      "source": [
        "# pipeline tensorflow\n",
        "data_train = tf.data.Dataset.from_tensor_slices((X_train_final_prep, y_train)).shuffle(10000).batch(50)\n",
        "data_test = tf.data.Dataset.from_tensor_slices((X_test_final_prep, y_test)).shuffle(10000).batch(50)\n",
        "data_val = tf.data.Dataset.from_tensor_slices((X_val_final_prep, y_val)).shuffle(10000).batch(50)"
      ]
    },
    {
      "cell_type": "markdown",
      "metadata": {
        "id": "6ETyLyG-xuh8"
      },
      "source": [
        "# VI. Model Definition"
      ]
    },
    {
      "cell_type": "markdown",
      "source": [
        "Dataset yang digunakan tidak terlalu besar dan kompleks (hanya 7043 data), maka saya akan mulai pemodelan dengan 2 hidden layer dengan 20 neuron dan 10 neuron"
      ],
      "metadata": {
        "id": "z6NkXIMl-jiU"
      }
    },
    {
      "cell_type": "markdown",
      "metadata": {
        "id": "NU6dfDZ-sUem"
      },
      "source": [
        "## 6.1. Sequential API"
      ]
    },
    {
      "cell_type": "code",
      "execution_count": 65,
      "metadata": {
        "id": "ThFaUHw60EEg"
      },
      "outputs": [],
      "source": [
        "model = tf.keras.models.Sequential() # define model\n",
        "model.add(tf.keras.layers.Input(shape=(22,)))  # input fitur 22 adalah hasil encoding\n",
        "model.add(tf.keras.layers.Dense(20))  # hidden layer 1 dengan 20 output\n",
        "model.add(tf.keras.layers.Dense(10)) # hidden layer 2 dengan 10 output\n",
        "model.add(tf.keras.layers.Dense(1, activation='sigmoid')) # output binary 1 = consist of class 0 and 1. Activation base = sigmoid karena binary classification"
      ]
    },
    {
      "cell_type": "markdown",
      "metadata": {
        "id": "8yPnJhNksaRK"
      },
      "source": [
        "## 6.2. Functional API"
      ]
    },
    {
      "cell_type": "code",
      "execution_count": 66,
      "metadata": {
        "id": "UjncxsIwsdUK"
      },
      "outputs": [],
      "source": [
        "input = Input(shape=(22,)) \n",
        "hl1 = Dense(20, activation='relu')(input)\n",
        "hl2 = Dense(10, activation='relu')(hl1)\n",
        "output = Dense(1, activation='sigmoid')(hl2)\n",
        "concat = keras.layers.concatenate([input, hl2])\n",
        "modelf = keras.models.Model(inputs=input, outputs=output)"
      ]
    },
    {
      "cell_type": "markdown",
      "metadata": {
        "id": "i9h4yCKYCblm"
      },
      "source": [
        "# VII. Model Training "
      ]
    },
    {
      "cell_type": "markdown",
      "metadata": {
        "id": "kktPxaK2yygA"
      },
      "source": [
        "## 7.1. Sequential"
      ]
    },
    {
      "cell_type": "code",
      "execution_count": 67,
      "metadata": {
        "id": "AEbpbSJI0Bjh"
      },
      "outputs": [],
      "source": [
        "model.compile(loss='binary_crossentropy',\n",
        "              optimizer=tf.keras.optimizers.SGD(),  # saya telah mencoba Adam juga, tapi hasilnya lebih buruk\n",
        "              metrics='accuracy')"
      ]
    },
    {
      "cell_type": "code",
      "source": [
        "model.summary()"
      ],
      "metadata": {
        "colab": {
          "base_uri": "https://localhost:8080/"
        },
        "id": "I2cLmL7gl7aJ",
        "outputId": "28ece536-c41d-414b-bec3-5c6e1de1e237"
      },
      "execution_count": 68,
      "outputs": [
        {
          "output_type": "stream",
          "name": "stdout",
          "text": [
            "Model: \"sequential\"\n",
            "_________________________________________________________________\n",
            " Layer (type)                Output Shape              Param #   \n",
            "=================================================================\n",
            " dense (Dense)               (None, 20)                460       \n",
            "                                                                 \n",
            " dense_1 (Dense)             (None, 10)                210       \n",
            "                                                                 \n",
            " dense_2 (Dense)             (None, 1)                 11        \n",
            "                                                                 \n",
            "=================================================================\n",
            "Total params: 681\n",
            "Trainable params: 681\n",
            "Non-trainable params: 0\n",
            "_________________________________________________________________\n"
          ]
        }
      ]
    },
    {
      "cell_type": "markdown",
      "metadata": {
        "id": "Cg-2Y2GGy2yT"
      },
      "source": [
        "## 7.2. Functional"
      ]
    },
    {
      "cell_type": "code",
      "source": [
        "modelf.compile(loss='binary_crossentropy',\n",
        "              optimizer=tf.keras.optimizers.SGD(),  # coba optimizernya SGD dan tanpa learning_rate\n",
        "              metrics='accuracy')"
      ],
      "metadata": {
        "id": "LLpkiQQsmTHm"
      },
      "execution_count": 69,
      "outputs": []
    },
    {
      "cell_type": "code",
      "source": [
        "model.summary()"
      ],
      "metadata": {
        "colab": {
          "base_uri": "https://localhost:8080/"
        },
        "id": "8PuzfGJ1mZvb",
        "outputId": "32be94ec-5e4b-47d3-8f05-d44234cffa62"
      },
      "execution_count": 70,
      "outputs": [
        {
          "output_type": "stream",
          "name": "stdout",
          "text": [
            "Model: \"sequential\"\n",
            "_________________________________________________________________\n",
            " Layer (type)                Output Shape              Param #   \n",
            "=================================================================\n",
            " dense (Dense)               (None, 20)                460       \n",
            "                                                                 \n",
            " dense_1 (Dense)             (None, 10)                210       \n",
            "                                                                 \n",
            " dense_2 (Dense)             (None, 1)                 11        \n",
            "                                                                 \n",
            "=================================================================\n",
            "Total params: 681\n",
            "Trainable params: 681\n",
            "Non-trainable params: 0\n",
            "_________________________________________________________________\n"
          ]
        }
      ]
    },
    {
      "cell_type": "markdown",
      "source": [
        "# VIII. Model Evaluation"
      ],
      "metadata": {
        "id": "sH6chHyWmtSS"
      }
    },
    {
      "cell_type": "markdown",
      "metadata": {
        "id": "MqYoRvYPVaLs"
      },
      "source": [
        "## 8.1. Evaluation on Sequential Model"
      ]
    },
    {
      "cell_type": "code",
      "source": [
        "history = model.fit(data_train, epochs= 30, validation_data = data_val)"
      ],
      "metadata": {
        "colab": {
          "base_uri": "https://localhost:8080/"
        },
        "id": "3bnRs-l2mDtc",
        "outputId": "560a214b-f1bd-46b1-886f-064bc653d74a"
      },
      "execution_count": 71,
      "outputs": [
        {
          "output_type": "stream",
          "name": "stdout",
          "text": [
            "Epoch 1/30\n",
            "102/102 [==============================] - 2s 10ms/step - loss: 0.5859 - accuracy: 0.6918 - val_loss: 0.5054 - val_accuracy: 0.7571\n",
            "Epoch 2/30\n",
            "102/102 [==============================] - 0s 4ms/step - loss: 0.4761 - accuracy: 0.7689 - val_loss: 0.4563 - val_accuracy: 0.7856\n",
            "Epoch 3/30\n",
            "102/102 [==============================] - 0s 4ms/step - loss: 0.4498 - accuracy: 0.7808 - val_loss: 0.4403 - val_accuracy: 0.7872\n",
            "Epoch 4/30\n",
            "102/102 [==============================] - 0s 4ms/step - loss: 0.4398 - accuracy: 0.7846 - val_loss: 0.4310 - val_accuracy: 0.7911\n",
            "Epoch 5/30\n",
            "102/102 [==============================] - 0s 4ms/step - loss: 0.4351 - accuracy: 0.7867 - val_loss: 0.4273 - val_accuracy: 0.7911\n",
            "Epoch 6/30\n",
            "102/102 [==============================] - 1s 5ms/step - loss: 0.4324 - accuracy: 0.7909 - val_loss: 0.4249 - val_accuracy: 0.7911\n",
            "Epoch 7/30\n",
            "102/102 [==============================] - 0s 5ms/step - loss: 0.4308 - accuracy: 0.7905 - val_loss: 0.4225 - val_accuracy: 0.8070\n",
            "Epoch 8/30\n",
            "102/102 [==============================] - 0s 4ms/step - loss: 0.4293 - accuracy: 0.7919 - val_loss: 0.4221 - val_accuracy: 0.7998\n",
            "Epoch 9/30\n",
            "102/102 [==============================] - 0s 3ms/step - loss: 0.4289 - accuracy: 0.7937 - val_loss: 0.4212 - val_accuracy: 0.8030\n",
            "Epoch 10/30\n",
            "102/102 [==============================] - 0s 3ms/step - loss: 0.4283 - accuracy: 0.7955 - val_loss: 0.4208 - val_accuracy: 0.8054\n",
            "Epoch 11/30\n",
            "102/102 [==============================] - 0s 3ms/step - loss: 0.4276 - accuracy: 0.7953 - val_loss: 0.4198 - val_accuracy: 0.8078\n",
            "Epoch 12/30\n",
            "102/102 [==============================] - 1s 6ms/step - loss: 0.4274 - accuracy: 0.7964 - val_loss: 0.4193 - val_accuracy: 0.8030\n",
            "Epoch 13/30\n",
            "102/102 [==============================] - 0s 4ms/step - loss: 0.4272 - accuracy: 0.7947 - val_loss: 0.4194 - val_accuracy: 0.8022\n",
            "Epoch 14/30\n",
            "102/102 [==============================] - 0s 4ms/step - loss: 0.4268 - accuracy: 0.7962 - val_loss: 0.4196 - val_accuracy: 0.8038\n",
            "Epoch 15/30\n",
            "102/102 [==============================] - 1s 5ms/step - loss: 0.4265 - accuracy: 0.7968 - val_loss: 0.4192 - val_accuracy: 0.8030\n",
            "Epoch 16/30\n",
            "102/102 [==============================] - 0s 4ms/step - loss: 0.4265 - accuracy: 0.7974 - val_loss: 0.4210 - val_accuracy: 0.8014\n",
            "Epoch 17/30\n",
            "102/102 [==============================] - 0s 4ms/step - loss: 0.4266 - accuracy: 0.7986 - val_loss: 0.4202 - val_accuracy: 0.7991\n",
            "Epoch 18/30\n",
            "102/102 [==============================] - 0s 3ms/step - loss: 0.4262 - accuracy: 0.7984 - val_loss: 0.4188 - val_accuracy: 0.8062\n",
            "Epoch 19/30\n",
            "102/102 [==============================] - 0s 3ms/step - loss: 0.4261 - accuracy: 0.7970 - val_loss: 0.4189 - val_accuracy: 0.8038\n",
            "Epoch 20/30\n",
            "102/102 [==============================] - 0s 3ms/step - loss: 0.4263 - accuracy: 0.7972 - val_loss: 0.4183 - val_accuracy: 0.8038\n",
            "Epoch 21/30\n",
            "102/102 [==============================] - 0s 3ms/step - loss: 0.4258 - accuracy: 0.7966 - val_loss: 0.4189 - val_accuracy: 0.8030\n",
            "Epoch 22/30\n",
            "102/102 [==============================] - 0s 2ms/step - loss: 0.4258 - accuracy: 0.7980 - val_loss: 0.4179 - val_accuracy: 0.8046\n",
            "Epoch 23/30\n",
            "102/102 [==============================] - 0s 2ms/step - loss: 0.4257 - accuracy: 0.7992 - val_loss: 0.4185 - val_accuracy: 0.8022\n",
            "Epoch 24/30\n",
            "102/102 [==============================] - 0s 2ms/step - loss: 0.4256 - accuracy: 0.7976 - val_loss: 0.4185 - val_accuracy: 0.8046\n",
            "Epoch 25/30\n",
            "102/102 [==============================] - 0s 2ms/step - loss: 0.4257 - accuracy: 0.7956 - val_loss: 0.4175 - val_accuracy: 0.8038\n",
            "Epoch 26/30\n",
            "102/102 [==============================] - 0s 3ms/step - loss: 0.4256 - accuracy: 0.7990 - val_loss: 0.4176 - val_accuracy: 0.8038\n",
            "Epoch 27/30\n",
            "102/102 [==============================] - 0s 2ms/step - loss: 0.4258 - accuracy: 0.7988 - val_loss: 0.4185 - val_accuracy: 0.8014\n",
            "Epoch 28/30\n",
            "102/102 [==============================] - 0s 2ms/step - loss: 0.4254 - accuracy: 0.7990 - val_loss: 0.4188 - val_accuracy: 0.8014\n",
            "Epoch 29/30\n",
            "102/102 [==============================] - 0s 2ms/step - loss: 0.4256 - accuracy: 0.7992 - val_loss: 0.4178 - val_accuracy: 0.8054\n",
            "Epoch 30/30\n",
            "102/102 [==============================] - 0s 2ms/step - loss: 0.4253 - accuracy: 0.7984 - val_loss: 0.4186 - val_accuracy: 0.7998\n"
          ]
        }
      ]
    },
    {
      "cell_type": "code",
      "source": [
        "fig, ax = plt.subplots()\n",
        "ax.plot(range(30),history.history['loss'],label='train loss')\n",
        "ax.plot(range(30),history.history['val_loss'],label='val loss')\n",
        "ax.set_xlabel('Epoch')\n",
        "ax.set_ylabel('Loss')\n",
        "# plt.ylim(0,1)\n",
        "plt.legend()"
      ],
      "metadata": {
        "colab": {
          "base_uri": "https://localhost:8080/",
          "height": 298
        },
        "id": "g-svKWv1mDrF",
        "outputId": "d24dfdaf-2a55-4401-8018-c3c88dd229d2"
      },
      "execution_count": 72,
      "outputs": [
        {
          "output_type": "execute_result",
          "data": {
            "text/plain": [
              "<matplotlib.legend.Legend at 0x7fa0f36807d0>"
            ]
          },
          "metadata": {},
          "execution_count": 72
        },
        {
          "output_type": "display_data",
          "data": {
            "text/plain": [
              "<Figure size 432x288 with 1 Axes>"
            ],
            "image/png": "[encoded data removed]"
          },
          "metadata": {
            "needs_background": "light"
          }
        }
      ]
    },
    {
      "cell_type": "markdown",
      "source": [
        "Base model Sequential :\n",
        "- Sedikit overfit tapi tidak banyak, hanya berbeda sekitar 0.025 saja.\n",
        "- Penurunan loss terbesar ditemukan di epoch ke-3"
      ],
      "metadata": {
        "id": "YPcrLr27_U88"
      }
    },
    {
      "cell_type": "markdown",
      "source": [
        "Selanjutnya saya akan melihat classification report base model dengan mengatur threshold 0.5 dan mencari threshold lainnya sehingga didapatkan report yang lebih baik. Konsepnya adalaha karena output dari ANN ini berupa suatu value yang belum didefinisikan kelasnya sehingga perlu threshold agar model tau data mana yang termasuk kelas 0 atau kelas 1. Threshold yang lebih rendah akan membuka probabilitas lebih tinggi data tersebut diidentifikasi sebagai kelas 1. Karena data ini hanya memiliki 22% kelas 1, maka saya akan coba turunkan thresholdnya agar model bisa mengenali kelas 1 dengan lebih baik."
      ],
      "metadata": {
        "id": "ybA9cnO4Cvms"
      }
    },
    {
      "cell_type": "code",
      "source": [
        "y_preds = model.predict(X_test_final_prep)\n",
        "y_preds = np.where(y_preds > 0.5, 1, 0)\n",
        "print(classification_report(y_test, y_preds))"
      ],
      "metadata": {
        "colab": {
          "base_uri": "https://localhost:8080/"
        },
        "id": "gfK1cHyVnUpW",
        "outputId": "c82ddad5-875e-4605-c2d2-932715bf6b99"
      },
      "execution_count": 73,
      "outputs": [
        {
          "output_type": "stream",
          "name": "stdout",
          "text": [
            "              precision    recall  f1-score   support\n",
            "\n",
            "           0       0.84      0.92      0.88       513\n",
            "           1       0.71      0.53      0.60       190\n",
            "\n",
            "    accuracy                           0.81       703\n",
            "   macro avg       0.77      0.72      0.74       703\n",
            "weighted avg       0.80      0.81      0.80       703\n",
            "\n"
          ]
        }
      ]
    },
    {
      "cell_type": "code",
      "source": [
        "y_preds = model.predict(X_test_final_prep)\n",
        "y_preds = np.where(y_preds > 0.1, 1, 0)  # saya telah mencoba threshold, 0.4, 0.3, 0.2 dan 0.1. Ternyata 0.2 yang terbaik ditinjau dari semua metrics.\n",
        "print(classification_report(y_test, y_preds))"
      ],
      "metadata": {
        "colab": {
          "base_uri": "https://localhost:8080/"
        },
        "id": "Ft93U9QMELXi",
        "outputId": "2d2fdcfe-e532-4500-c3e7-6cd8f0ea8151"
      },
      "execution_count": 74,
      "outputs": [
        {
          "output_type": "stream",
          "name": "stdout",
          "text": [
            "              precision    recall  f1-score   support\n",
            "\n",
            "           0       0.96      0.49      0.65       513\n",
            "           1       0.41      0.95      0.57       190\n",
            "\n",
            "    accuracy                           0.61       703\n",
            "   macro avg       0.68      0.72      0.61       703\n",
            "weighted avg       0.81      0.61      0.63       703\n",
            "\n"
          ]
        }
      ]
    },
    {
      "cell_type": "markdown",
      "source": [
        "Saya fokus pada nilai recall kelas 1 (churn). Hal ini penting dalam analisis churn untuk meminimalisir false negative karena saya ingin memprediksi kelas 1 dengan lebih akurat sehingga perusahaan bisa lebih bersiap menghadapi kemungkinan customer akan churn.\n",
        "\n",
        "**nilai report dengan threshold 0.5**\n",
        "- F1-score timpang antara kelas 0 dan kelas 1 (berbeda sekitar 28%). Hal tersebut terjadi karena data imbalance sehingga wajar saja dengan threshold 0.5 data kelas 1 nilai reportnya menjadi kurang karena data kelas 1 jumlahnya juga lebih sedikit daripada kelas 0\n",
        "- Akurasi model bagus sebesar 81%\n",
        "- Recall kelas 1 masih kecil, hanya 20% saja.\n",
        "\n",
        "**nilai report dengan threshold 0.1**\n",
        "- ketimpangan nilai report lebih baik antara kelas 0 dan kelas 1 (hanya berbeda 8%.\n",
        "- Akurasi model menjadi lebih buruk yaitu hanya 61% saja.\n",
        "- Recall kelas 1 sudah jauh lebih baik menjadi 95%.\n",
        "- Walaupun nilai akurasi tidak begitu bagus, namun nilai Recall menujukkan hasil yang baik. Asumsi saya adalah hal tersebut tidak banyak berarti jika hasil evaluasi terhadap inference datanya bagus. Maka akan saya lihat nanti dulu, dan selanjutnya akan saya gunakan threshold 0.1 dalam pemodelan."
      ],
      "metadata": {
        "id": "GPsNbrjfCUUy"
      }
    },
    {
      "cell_type": "markdown",
      "metadata": {
        "id": "0BNLHDQ-VhTb"
      },
      "source": [
        "## 8.2. Evaluation on Functional Model"
      ]
    },
    {
      "cell_type": "code",
      "source": [
        "historyf = modelf.fit(data_train, epochs= 30, validation_data = data_val)"
      ],
      "metadata": {
        "colab": {
          "base_uri": "https://localhost:8080/"
        },
        "id": "pwu1Bimimi6U",
        "outputId": "7e479f68-2f5b-4257-bda0-785eef35b51e"
      },
      "execution_count": 75,
      "outputs": [
        {
          "output_type": "stream",
          "name": "stdout",
          "text": [
            "Epoch 1/30\n",
            "102/102 [==============================] - 1s 3ms/step - loss: 0.5410 - accuracy: 0.7553 - val_loss: 0.4858 - val_accuracy: 0.7674\n",
            "Epoch 2/30\n",
            "102/102 [==============================] - 0s 2ms/step - loss: 0.4716 - accuracy: 0.7771 - val_loss: 0.4588 - val_accuracy: 0.7848\n",
            "Epoch 3/30\n",
            "102/102 [==============================] - 0s 2ms/step - loss: 0.4548 - accuracy: 0.7814 - val_loss: 0.4473 - val_accuracy: 0.7872\n",
            "Epoch 4/30\n",
            "102/102 [==============================] - 0s 2ms/step - loss: 0.4475 - accuracy: 0.7844 - val_loss: 0.4416 - val_accuracy: 0.7880\n",
            "Epoch 5/30\n",
            "102/102 [==============================] - 0s 2ms/step - loss: 0.4439 - accuracy: 0.7850 - val_loss: 0.4384 - val_accuracy: 0.7903\n",
            "Epoch 6/30\n",
            "102/102 [==============================] - 0s 2ms/step - loss: 0.4415 - accuracy: 0.7850 - val_loss: 0.4352 - val_accuracy: 0.7967\n",
            "Epoch 7/30\n",
            "102/102 [==============================] - 0s 2ms/step - loss: 0.4399 - accuracy: 0.7865 - val_loss: 0.4350 - val_accuracy: 0.7967\n",
            "Epoch 8/30\n",
            "102/102 [==============================] - 0s 2ms/step - loss: 0.4389 - accuracy: 0.7879 - val_loss: 0.4335 - val_accuracy: 0.7943\n",
            "Epoch 9/30\n",
            "102/102 [==============================] - 0s 2ms/step - loss: 0.4377 - accuracy: 0.7879 - val_loss: 0.4313 - val_accuracy: 0.7975\n",
            "Epoch 10/30\n",
            "102/102 [==============================] - 0s 3ms/step - loss: 0.4368 - accuracy: 0.7897 - val_loss: 0.4306 - val_accuracy: 0.7959\n",
            "Epoch 11/30\n",
            "102/102 [==============================] - 0s 2ms/step - loss: 0.4360 - accuracy: 0.7895 - val_loss: 0.4302 - val_accuracy: 0.7975\n",
            "Epoch 12/30\n",
            "102/102 [==============================] - 0s 3ms/step - loss: 0.4351 - accuracy: 0.7903 - val_loss: 0.4300 - val_accuracy: 0.7975\n",
            "Epoch 13/30\n",
            "102/102 [==============================] - 0s 2ms/step - loss: 0.4343 - accuracy: 0.7921 - val_loss: 0.4304 - val_accuracy: 0.8014\n",
            "Epoch 14/30\n",
            "102/102 [==============================] - 0s 2ms/step - loss: 0.4338 - accuracy: 0.7925 - val_loss: 0.4284 - val_accuracy: 0.7991\n",
            "Epoch 15/30\n",
            "102/102 [==============================] - 0s 3ms/step - loss: 0.4330 - accuracy: 0.7935 - val_loss: 0.4277 - val_accuracy: 0.7975\n",
            "Epoch 16/30\n",
            "102/102 [==============================] - 0s 2ms/step - loss: 0.4323 - accuracy: 0.7956 - val_loss: 0.4283 - val_accuracy: 0.8006\n",
            "Epoch 17/30\n",
            "102/102 [==============================] - 0s 3ms/step - loss: 0.4318 - accuracy: 0.7947 - val_loss: 0.4267 - val_accuracy: 0.7991\n",
            "Epoch 18/30\n",
            "102/102 [==============================] - 0s 2ms/step - loss: 0.4310 - accuracy: 0.7955 - val_loss: 0.4262 - val_accuracy: 0.8014\n",
            "Epoch 19/30\n",
            "102/102 [==============================] - 0s 2ms/step - loss: 0.4307 - accuracy: 0.7949 - val_loss: 0.4259 - val_accuracy: 0.8030\n",
            "Epoch 20/30\n",
            "102/102 [==============================] - 0s 2ms/step - loss: 0.4302 - accuracy: 0.7956 - val_loss: 0.4262 - val_accuracy: 0.8030\n",
            "Epoch 21/30\n",
            "102/102 [==============================] - 0s 2ms/step - loss: 0.4295 - accuracy: 0.7990 - val_loss: 0.4256 - val_accuracy: 0.8038\n",
            "Epoch 22/30\n",
            "102/102 [==============================] - 0s 2ms/step - loss: 0.4293 - accuracy: 0.7953 - val_loss: 0.4254 - val_accuracy: 0.8038\n",
            "Epoch 23/30\n",
            "102/102 [==============================] - 0s 2ms/step - loss: 0.4289 - accuracy: 0.7980 - val_loss: 0.4251 - val_accuracy: 0.8038\n",
            "Epoch 24/30\n",
            "102/102 [==============================] - 0s 3ms/step - loss: 0.4284 - accuracy: 0.7970 - val_loss: 0.4255 - val_accuracy: 0.8030\n",
            "Epoch 25/30\n",
            "102/102 [==============================] - 0s 3ms/step - loss: 0.4281 - accuracy: 0.7964 - val_loss: 0.4250 - val_accuracy: 0.8038\n",
            "Epoch 26/30\n",
            "102/102 [==============================] - 0s 2ms/step - loss: 0.4276 - accuracy: 0.7972 - val_loss: 0.4242 - val_accuracy: 0.8054\n",
            "Epoch 27/30\n",
            "102/102 [==============================] - 0s 3ms/step - loss: 0.4275 - accuracy: 0.7976 - val_loss: 0.4236 - val_accuracy: 0.8062\n",
            "Epoch 28/30\n",
            "102/102 [==============================] - 0s 3ms/step - loss: 0.4271 - accuracy: 0.7982 - val_loss: 0.4235 - val_accuracy: 0.8038\n",
            "Epoch 29/30\n",
            "102/102 [==============================] - 0s 2ms/step - loss: 0.4267 - accuracy: 0.7970 - val_loss: 0.4237 - val_accuracy: 0.8038\n",
            "Epoch 30/30\n",
            "102/102 [==============================] - 0s 2ms/step - loss: 0.4265 - accuracy: 0.7968 - val_loss: 0.4228 - val_accuracy: 0.8038\n"
          ]
        }
      ]
    },
    {
      "cell_type": "code",
      "source": [
        "fig, ax = plt.subplots()\n",
        "ax.plot(range(30),historyf.history['loss'],label='train loss')\n",
        "ax.plot(range(30),historyf.history['val_loss'],label='val loss')\n",
        "ax.set_xlabel('Epoch')\n",
        "ax.set_ylabel('Loss')\n",
        "#plt.ylim(0,1)\n",
        "plt.legend()"
      ],
      "metadata": {
        "colab": {
          "base_uri": "https://localhost:8080/",
          "height": 298
        },
        "id": "kwxyCWgAmi4P",
        "outputId": "2eda5503-495c-465f-f8d1-0f13cc7f971c"
      },
      "execution_count": 76,
      "outputs": [
        {
          "output_type": "execute_result",
          "data": {
            "text/plain": [
              "<matplotlib.legend.Legend at 0x7fa0ed042f10>"
            ]
          },
          "metadata": {},
          "execution_count": 76
        },
        {
          "output_type": "display_data",
          "data": {
            "text/plain": [
              "<Figure size 432x288 with 1 Axes>"
            ],
            "image/png": "[encoded data removed]"
          },
          "metadata": {
            "needs_background": "light"
          }
        }
      ]
    },
    {
      "cell_type": "markdown",
      "source": [
        "Base model Functional :\n",
        "\n",
        "- Mirip dengan hasil dari model Sequential, sedikit overfit tapi tidak banyak, hanya berbeda sekitar 0.025 saja.\n",
        "- Penurunan loss terbesar ditemukan di epoch ke-3"
      ],
      "metadata": {
        "id": "PPCUyYflIRfX"
      }
    },
    {
      "cell_type": "code",
      "source": [
        "y_predf = modelf.predict(X_test_final_prep)\n",
        "y_predf = np.where(y_predf > 0.5, 1, 0)\n",
        "print(classification_report(y_test, y_predf))"
      ],
      "metadata": {
        "colab": {
          "base_uri": "https://localhost:8080/"
        },
        "outputId": "4e3490ad-3ad9-4ac5-b919-416de84d45fe",
        "id": "DfZXPEu2oBVS"
      },
      "execution_count": 77,
      "outputs": [
        {
          "output_type": "stream",
          "name": "stdout",
          "text": [
            "              precision    recall  f1-score   support\n",
            "\n",
            "           0       0.85      0.91      0.88       513\n",
            "           1       0.71      0.58      0.64       190\n",
            "\n",
            "    accuracy                           0.82       703\n",
            "   macro avg       0.78      0.75      0.76       703\n",
            "weighted avg       0.82      0.82      0.82       703\n",
            "\n"
          ]
        }
      ]
    },
    {
      "cell_type": "code",
      "source": [
        "y_predf = modelf.predict(X_test_final_prep)\n",
        "y_predf = np.where(y_predf > 0.1, 1, 0)\n",
        "print(classification_report(y_test, y_predf))"
      ],
      "metadata": {
        "colab": {
          "base_uri": "https://localhost:8080/"
        },
        "id": "tVaJCWMZHucW",
        "outputId": "48cb3409-b68e-4498-f81e-ad18eb1c09af"
      },
      "execution_count": 78,
      "outputs": [
        {
          "output_type": "stream",
          "name": "stdout",
          "text": [
            "              precision    recall  f1-score   support\n",
            "\n",
            "           0       0.95      0.46      0.62       513\n",
            "           1       0.39      0.93      0.55       190\n",
            "\n",
            "    accuracy                           0.59       703\n",
            "   macro avg       0.67      0.70      0.59       703\n",
            "weighted avg       0.80      0.59      0.60       703\n",
            "\n"
          ]
        }
      ]
    },
    {
      "cell_type": "markdown",
      "source": [
        "Hasil classification report model Functional mirip dengan model Sequential, hanya berbeda 2% saja di nilai Recall kelas 1 nya.\n",
        "Karena perbedaannya tidak besar, saya memilih menggunakan model Sequential karena model ini menurut saya lebih praktis selain itu metricsnya juga lebih baik"
      ],
      "metadata": {
        "id": "HVielSjqIp3n"
      }
    },
    {
      "cell_type": "markdown",
      "source": [
        "# IX. Model Improvement"
      ],
      "metadata": {
        "id": "nBKX04dS0zpH"
      }
    },
    {
      "cell_type": "markdown",
      "source": [
        "## 9.1. Sequential Model Improvement"
      ],
      "metadata": {
        "id": "sCxjNg0H1M9g"
      }
    },
    {
      "cell_type": "code",
      "source": [
        "models1 = tf.keras.models.Sequential()\n",
        "#models1.add(tf.keras.layers.Input(shape=(22,)))\n",
        "models1.add(tf.keras.layers.Dense(20, activation='relu', input_shape=(22,)))   # saya sudah mencoba regulizer l1 dan l2, tapi hasilnya sama saja\n",
        "models1.add(tf.keras.layers.BatchNormalization())\n",
        "#model.add(tf.keras.layers.Dropout(rate=0.05))  # saya sudah mencoba rate= 0.1 dan 0.05, tapi hasilnya sama saja\n",
        "#models1.add(LeakyReLU(alpha=0.2))    # saya sudah mencoba alpha 0.1 dan 0.2, tapi hasilnya sama saja\n",
        "#models1.add(ELU(alpha=0.2))\n",
        "\n",
        "models1.add(tf.keras.layers.Dense(10, activation='relu'))   # saya sudah mencoba regulizer l1 dan l2, tapi hasilnya sama saja\n",
        "models1.add(tf.keras.layers.BatchNormalization())\n",
        "#model.add(tf.keras.layers.Dropout(rate=0.05))  # saya sudah mencoba rate= 0.1 dan 0.05, tapi hasilnya sama saja\n",
        "#models1.add(LeakyReLU(alpha=0.2))    # saya sudah mencoba alpha 0.1 dan 0.2, tapi hasilnya sama saja\n",
        "#models1.add(ELU(alpha=0.2))\n",
        "\n",
        "models1.add(tf.keras.layers.Dense(1, activation='sigmoid'))"
      ],
      "metadata": {
        "id": "ppeFoDObcULl"
      },
      "execution_count": 79,
      "outputs": []
    },
    {
      "cell_type": "markdown",
      "source": [
        "Saya telah melakukan percobaan dengan menggunakan BatchNormalization, menambahkan dropout, set activation LeakyRelu, set activation ELU, dan mencoba beberapa kernel initializers. Saya juga sudah mencoba set beberapa hidden layer dengan berbagai neuron (100, 120, 130, dan 50). Ternyata hasilnya sama saja, maka saya tidak akan menggunakan ini untuk model."
      ],
      "metadata": {
        "id": "TQLoeBRUDkd2"
      }
    },
    {
      "cell_type": "code",
      "source": [
        "models1.summary()"
      ],
      "metadata": {
        "colab": {
          "base_uri": "https://localhost:8080/"
        },
        "id": "ZUKusR0P3_iO",
        "outputId": "d6715ead-a1ec-4da1-bf05-e029024e6e2e"
      },
      "execution_count": 80,
      "outputs": [
        {
          "output_type": "stream",
          "name": "stdout",
          "text": [
            "Model: \"sequential_1\"\n",
            "_________________________________________________________________\n",
            " Layer (type)                Output Shape              Param #   \n",
            "=================================================================\n",
            " dense_6 (Dense)             (None, 20)                460       \n",
            "                                                                 \n",
            " batch_normalization (BatchN  (None, 20)               80        \n",
            " ormalization)                                                   \n",
            "                                                                 \n",
            " dense_7 (Dense)             (None, 10)                210       \n",
            "                                                                 \n",
            " batch_normalization_1 (Batc  (None, 10)               40        \n",
            " hNormalization)                                                 \n",
            "                                                                 \n",
            " dense_8 (Dense)             (None, 1)                 11        \n",
            "                                                                 \n",
            "=================================================================\n",
            "Total params: 801\n",
            "Trainable params: 741\n",
            "Non-trainable params: 60\n",
            "_________________________________________________________________\n"
          ]
        }
      ]
    },
    {
      "cell_type": "code",
      "source": [
        "models1.compile(loss='binary_crossentropy',\n",
        "              optimizer=tf.keras.optimizers.Adam(),  # coba optimizernya SGD dan tanpa learning_rate\n",
        "              metrics='accuracy')"
      ],
      "metadata": {
        "id": "ms86lr4l6iNL"
      },
      "execution_count": 81,
      "outputs": []
    },
    {
      "cell_type": "markdown",
      "source": [
        "## 9.2. Evaluation on Improved Sequential Model"
      ],
      "metadata": {
        "id": "IgnJbY-mJL7I"
      }
    },
    {
      "cell_type": "code",
      "source": [
        "historys1 = models1.fit(data_train, epochs= 30, validation_data = data_val)"
      ],
      "metadata": {
        "colab": {
          "base_uri": "https://localhost:8080/"
        },
        "id": "gGIXxHcx6Waj",
        "outputId": "4ff05358-2921-404d-cb4f-005253194312"
      },
      "execution_count": 82,
      "outputs": [
        {
          "output_type": "stream",
          "name": "stdout",
          "text": [
            "Epoch 1/30\n",
            "102/102 [==============================] - 1s 5ms/step - loss: 0.6170 - accuracy: 0.6682 - val_loss: 0.5492 - val_accuracy: 0.7793\n",
            "Epoch 2/30\n",
            "102/102 [==============================] - 0s 3ms/step - loss: 0.5126 - accuracy: 0.7594 - val_loss: 0.4819 - val_accuracy: 0.7872\n",
            "Epoch 3/30\n",
            "102/102 [==============================] - 0s 3ms/step - loss: 0.4653 - accuracy: 0.7794 - val_loss: 0.4475 - val_accuracy: 0.7903\n",
            "Epoch 4/30\n",
            "102/102 [==============================] - 0s 3ms/step - loss: 0.4436 - accuracy: 0.7860 - val_loss: 0.4313 - val_accuracy: 0.7967\n",
            "Epoch 5/30\n",
            "102/102 [==============================] - 0s 3ms/step - loss: 0.4337 - accuracy: 0.7972 - val_loss: 0.4242 - val_accuracy: 0.7975\n",
            "Epoch 6/30\n",
            "102/102 [==============================] - 0s 3ms/step - loss: 0.4304 - accuracy: 0.7956 - val_loss: 0.4244 - val_accuracy: 0.7951\n",
            "Epoch 7/30\n",
            "102/102 [==============================] - 0s 3ms/step - loss: 0.4273 - accuracy: 0.7990 - val_loss: 0.4237 - val_accuracy: 0.7991\n",
            "Epoch 8/30\n",
            "102/102 [==============================] - 0s 3ms/step - loss: 0.4265 - accuracy: 0.7970 - val_loss: 0.4226 - val_accuracy: 0.7998\n",
            "Epoch 9/30\n",
            "102/102 [==============================] - 0s 3ms/step - loss: 0.4195 - accuracy: 0.7998 - val_loss: 0.4224 - val_accuracy: 0.7991\n",
            "Epoch 10/30\n",
            "102/102 [==============================] - 0s 3ms/step - loss: 0.4205 - accuracy: 0.7972 - val_loss: 0.4207 - val_accuracy: 0.7998\n",
            "Epoch 11/30\n",
            "102/102 [==============================] - 0s 3ms/step - loss: 0.4188 - accuracy: 0.8053 - val_loss: 0.4223 - val_accuracy: 0.7975\n",
            "Epoch 12/30\n",
            "102/102 [==============================] - 0s 3ms/step - loss: 0.4169 - accuracy: 0.7966 - val_loss: 0.4215 - val_accuracy: 0.8006\n",
            "Epoch 13/30\n",
            "102/102 [==============================] - 0s 3ms/step - loss: 0.4179 - accuracy: 0.8042 - val_loss: 0.4208 - val_accuracy: 0.7998\n",
            "Epoch 14/30\n",
            "102/102 [==============================] - 0s 3ms/step - loss: 0.4180 - accuracy: 0.8004 - val_loss: 0.4210 - val_accuracy: 0.7951\n",
            "Epoch 15/30\n",
            "102/102 [==============================] - 0s 3ms/step - loss: 0.4154 - accuracy: 0.8014 - val_loss: 0.4201 - val_accuracy: 0.8014\n",
            "Epoch 16/30\n",
            "102/102 [==============================] - 0s 3ms/step - loss: 0.4187 - accuracy: 0.8038 - val_loss: 0.4216 - val_accuracy: 0.7975\n",
            "Epoch 17/30\n",
            "102/102 [==============================] - 0s 3ms/step - loss: 0.4144 - accuracy: 0.7982 - val_loss: 0.4248 - val_accuracy: 0.8006\n",
            "Epoch 18/30\n",
            "102/102 [==============================] - 0s 3ms/step - loss: 0.4150 - accuracy: 0.8018 - val_loss: 0.4220 - val_accuracy: 0.7991\n",
            "Epoch 19/30\n",
            "102/102 [==============================] - 0s 3ms/step - loss: 0.4130 - accuracy: 0.8028 - val_loss: 0.4233 - val_accuracy: 0.7959\n",
            "Epoch 20/30\n",
            "102/102 [==============================] - 0s 3ms/step - loss: 0.4127 - accuracy: 0.8044 - val_loss: 0.4242 - val_accuracy: 0.7959\n",
            "Epoch 21/30\n",
            "102/102 [==============================] - 0s 3ms/step - loss: 0.4100 - accuracy: 0.8032 - val_loss: 0.4222 - val_accuracy: 0.7975\n",
            "Epoch 22/30\n",
            "102/102 [==============================] - 0s 3ms/step - loss: 0.4129 - accuracy: 0.8047 - val_loss: 0.4226 - val_accuracy: 0.7951\n",
            "Epoch 23/30\n",
            "102/102 [==============================] - 0s 4ms/step - loss: 0.4098 - accuracy: 0.8053 - val_loss: 0.4263 - val_accuracy: 0.7967\n",
            "Epoch 24/30\n",
            "102/102 [==============================] - 0s 3ms/step - loss: 0.4129 - accuracy: 0.8006 - val_loss: 0.4251 - val_accuracy: 0.7983\n",
            "Epoch 25/30\n",
            "102/102 [==============================] - 0s 3ms/step - loss: 0.4104 - accuracy: 0.8030 - val_loss: 0.4281 - val_accuracy: 0.7991\n",
            "Epoch 26/30\n",
            "102/102 [==============================] - 0s 3ms/step - loss: 0.4111 - accuracy: 0.8024 - val_loss: 0.4275 - val_accuracy: 0.7998\n",
            "Epoch 27/30\n",
            "102/102 [==============================] - 0s 3ms/step - loss: 0.4063 - accuracy: 0.8077 - val_loss: 0.4250 - val_accuracy: 0.7983\n",
            "Epoch 28/30\n",
            "102/102 [==============================] - 0s 3ms/step - loss: 0.4072 - accuracy: 0.8065 - val_loss: 0.4267 - val_accuracy: 0.7935\n",
            "Epoch 29/30\n",
            "102/102 [==============================] - 0s 3ms/step - loss: 0.4088 - accuracy: 0.8014 - val_loss: 0.4303 - val_accuracy: 0.7903\n",
            "Epoch 30/30\n",
            "102/102 [==============================] - 0s 3ms/step - loss: 0.4098 - accuracy: 0.8006 - val_loss: 0.4247 - val_accuracy: 0.7911\n"
          ]
        }
      ]
    },
    {
      "cell_type": "code",
      "source": [
        "fig, ax = plt.subplots()\n",
        "ax.plot(range(30),historys1.history['loss'],label='train loss')\n",
        "ax.plot(range(30),historys1.history['val_loss'],label='val loss')\n",
        "ax.set_xlabel('Epoch')\n",
        "ax.set_ylabel('Loss')\n",
        "#plt.ylim(0,1)\n",
        "plt.legend()"
      ],
      "metadata": {
        "colab": {
          "base_uri": "https://localhost:8080/",
          "height": 298
        },
        "id": "2hQvU0NV6WYE",
        "outputId": "d7b4444b-1bcf-4a42-860e-30a4afc5a532"
      },
      "execution_count": 83,
      "outputs": [
        {
          "output_type": "execute_result",
          "data": {
            "text/plain": [
              "<matplotlib.legend.Legend at 0x7fa0f3888fd0>"
            ]
          },
          "metadata": {},
          "execution_count": 83
        },
        {
          "output_type": "display_data",
          "data": {
            "text/plain": [
              "<Figure size 432x288 with 1 Axes>"
            ],
            "image/png": "[encoded data removed]"
          },
          "metadata": {
            "needs_background": "light"
          }
        }
      ]
    },
    {
      "cell_type": "code",
      "source": [
        "y_preds1 = models1.predict(X_test_final_prep)\n",
        "y_preds1 = np.where(y_preds1 > 0.5, 1, 0)\n",
        "print(classification_report(y_test, y_preds1))"
      ],
      "metadata": {
        "colab": {
          "base_uri": "https://localhost:8080/"
        },
        "id": "wC4BguVa9KJt",
        "outputId": "0174f55b-d571-4d6c-f228-957545ced61f"
      },
      "execution_count": 84,
      "outputs": [
        {
          "output_type": "stream",
          "name": "stdout",
          "text": [
            "              precision    recall  f1-score   support\n",
            "\n",
            "           0       0.83      0.89      0.86       513\n",
            "           1       0.63      0.51      0.56       190\n",
            "\n",
            "    accuracy                           0.79       703\n",
            "   macro avg       0.73      0.70      0.71       703\n",
            "weighted avg       0.77      0.79      0.78       703\n",
            "\n"
          ]
        }
      ]
    },
    {
      "cell_type": "code",
      "source": [
        "y_preds1 = models1.predict(X_test_final_prep)\n",
        "y_preds1 = np.where(y_preds1 > 0.1, 1, 0)\n",
        "print(classification_report(y_test, y_preds1))"
      ],
      "metadata": {
        "colab": {
          "base_uri": "https://localhost:8080/"
        },
        "id": "E99F7jSU6zmU",
        "outputId": "5cca9862-cc5c-49e9-f754-80aa8dbd2eec"
      },
      "execution_count": 85,
      "outputs": [
        {
          "output_type": "stream",
          "name": "stdout",
          "text": [
            "              precision    recall  f1-score   support\n",
            "\n",
            "           0       0.97      0.47      0.63       513\n",
            "           1       0.40      0.96      0.56       190\n",
            "\n",
            "    accuracy                           0.60       703\n",
            "   macro avg       0.68      0.71      0.60       703\n",
            "weighted avg       0.81      0.60      0.61       703\n",
            "\n"
          ]
        }
      ]
    },
    {
      "cell_type": "markdown",
      "source": [
        "Ternyata setelah dilakukan improvement, nilai metrics juga tidak bertambah dengan signifikan, maka saya akan gunakan base model yang sudah saya definisikan di awal."
      ],
      "metadata": {
        "id": "OseMKTjREf61"
      }
    },
    {
      "cell_type": "markdown",
      "metadata": {
        "id": "GNcE-mwIU6mq"
      },
      "source": [
        "# X. Inference"
      ]
    },
    {
      "cell_type": "markdown",
      "metadata": {
        "id": "gd52-2dd8NNw"
      },
      "source": [
        "## 9.1. Model Saving"
      ]
    },
    {
      "cell_type": "markdown",
      "metadata": {
        "id": "MZe8qliw9V-z"
      },
      "source": [
        "model yang telah disimpan akan diterapkan pada data inference"
      ]
    },
    {
      "cell_type": "code",
      "source": [
        "keras.utils.plot_model(model, to_file='model.png', show_shapes=True)"
      ],
      "metadata": {
        "colab": {
          "base_uri": "https://localhost:8080/",
          "height": 422
        },
        "id": "0WvGBnEzEwU4",
        "outputId": "52c12f2c-3489-4243-8e27-0df8a42ed45c"
      },
      "execution_count": 86,
      "outputs": [
        {
          "output_type": "execute_result",
          "data": {
            "text/plain": [
              "<IPython.core.display.Image object>"
            ],
            "image/png": "[encoded data removed]"
          },
          "metadata": {},
          "execution_count": 86
        }
      ]
    },
    {
      "cell_type": "markdown",
      "source": [
        "Bagan proses yang terjadi di model yang akan saya simpan dapat dilihat pada plot model di atas. Proses yang terjadi adalah :\n",
        "1. Input data dengan 22 fitur hasil encoding. (bukan hanya 10 fitur yang dipilih dari proses EDA)\n",
        "2. Hidden layer 1, dengan 22 input dan 20 output.\n",
        "3. Hidden layer 2, dengan 20 input dan 10 output.\n",
        "4. Output, dengan 1 output (karena binary), yang terdiri dari 2 kelas yaitu 0 dan 1"
      ],
      "metadata": {
        "id": "e7vfm4yflM7k"
      }
    },
    {
      "cell_type": "code",
      "execution_count": 87,
      "metadata": {
        "id": "-8ARRLhD6agw"
      },
      "outputs": [],
      "source": [
        "# Model Saving\n",
        "\n",
        "with open('prep_pipeline.pkl', 'wb') as file_1:  # nama file, wb write binary, as aliasnya\n",
        "  pickle.dump(prepp_pipeline, file_1)  # masukin yang fit dan aliasnya\n",
        "\n",
        "\n",
        "model.save('churn_predictor.h5')"
      ]
    },
    {
      "cell_type": "code",
      "execution_count": 88,
      "metadata": {
        "id": "V-MQahC-8VSB"
      },
      "outputs": [],
      "source": [
        "# Load All Models\n",
        "\n",
        "with open('prep_pipeline.pkl', 'rb') as file_1:\n",
        "  prepp_pipeline = pickle.load(file_1)\n",
        "\n",
        "\n",
        "churn_predictor = keras.models.load_model('churn_predictor.h5')"
      ]
    },
    {
      "cell_type": "markdown",
      "metadata": {
        "id": "wxtKqKW29kvY"
      },
      "source": [
        "## 9.2. Preprocessing inference data"
      ]
    },
    {
      "cell_type": "code",
      "execution_count": 89,
      "metadata": {
        "colab": {
          "base_uri": "https://localhost:8080/",
          "height": 363
        },
        "id": "ZcvOJ3yL6Quo",
        "outputId": "d41ddbef-715c-4f5e-e1b5-5bf93f6b2007"
      },
      "outputs": [
        {
          "output_type": "execute_result",
          "data": {
            "text/plain": [
              "   SeniorCitizen Partner Dependents  tenure PhoneService InternetService  \\\n",
              "0              0      No         No      23          Yes             DSL   \n",
              "1              0      No         No       2          Yes              No   \n",
              "2              1     Yes        Yes      28          Yes             DSL   \n",
              "3              0     Yes        Yes      70          Yes              No   \n",
              "4              0     Yes        Yes      13          Yes     Fiber optic   \n",
              "5              0      No        Yes      43          Yes             DSL   \n",
              "6              0     Yes         No      67          Yes     Fiber optic   \n",
              "7              0     Yes        Yes      12           No             DSL   \n",
              "8              0      No         No      16          Yes              No   \n",
              "9              0     Yes        Yes      23          Yes             DSL   \n",
              "\n",
              "         Contract PaperlessBilling              PaymentMethod  MonthlyCharges  \\\n",
              "0        One year               No  Bank transfer (automatic)           55.80   \n",
              "1  Month-to-month               No               Mailed check           19.75   \n",
              "2        One year              Yes           Electronic check           51.00   \n",
              "3        Two year               No    Credit card (automatic)           20.05   \n",
              "4  Month-to-month              Yes    Credit card (automatic)           74.40   \n",
              "5  Month-to-month              Yes           Electronic check           63.95   \n",
              "6        One year              Yes    Credit card (automatic)          109.70   \n",
              "7        One year               No    Credit card (automatic)           30.25   \n",
              "8  Month-to-month              Yes               Mailed check           19.70   \n",
              "9        One year               No    Credit card (automatic)           57.20   \n",
              "\n",
              "   Churn  \n",
              "0      0  \n",
              "1      0  \n",
              "2      0  \n",
              "3      0  \n",
              "4      1  \n",
              "5      0  \n",
              "6      0  \n",
              "7      0  \n",
              "8      1  \n",
              "9      0  "
            ],
            "text/html": [
              "\n",
              "  <div id=\"df-cffa631c-7cb3-460a-8c6c-f5865747680b\">\n",
              "    <div class=\"colab-df-container\">\n",
              "      <div>\n",
              "<style scoped>\n",
              "    .dataframe tbody tr th:only-of-type {\n",
              "        vertical-align: middle;\n",
              "    }\n",
              "\n",
              "    .dataframe tbody tr th {\n",
              "        vertical-align: top;\n",
              "    }\n",
              "\n",
              "    .dataframe thead th {\n",
              "        text-align: right;\n",
              "    }\n",
              "</style>\n",
              "<table border=\"1\" class=\"dataframe\">\n",
              "  <thead>\n",
              "    <tr style=\"text-align: right;\">\n",
              "      <th></th>\n",
              "      <th>SeniorCitizen</th>\n",
              "      <th>Partner</th>\n",
              "      <th>Dependents</th>\n",
              "      <th>tenure</th>\n",
              "      <th>PhoneService</th>\n",
              "      <th>InternetService</th>\n",
              "      <th>Contract</th>\n",
              "      <th>PaperlessBilling</th>\n",
              "      <th>PaymentMethod</th>\n",
              "      <th>MonthlyCharges</th>\n",
              "      <th>Churn</th>\n",
              "    </tr>\n",
              "  </thead>\n",
              "  <tbody>\n",
              "    <tr>\n",
              "      <th>0</th>\n",
              "      <td>0</td>\n",
              "      <td>No</td>\n",
              "      <td>No</td>\n",
              "      <td>23</td>\n",
              "      <td>Yes</td>\n",
              "      <td>DSL</td>\n",
              "      <td>One year</td>\n",
              "      <td>No</td>\n",
              "      <td>Bank transfer (automatic)</td>\n",
              "      <td>55.80</td>\n",
              "      <td>0</td>\n",
              "    </tr>\n",
              "    <tr>\n",
              "      <th>1</th>\n",
              "      <td>0</td>\n",
              "      <td>No</td>\n",
              "      <td>No</td>\n",
              "      <td>2</td>\n",
              "      <td>Yes</td>\n",
              "      <td>No</td>\n",
              "      <td>Month-to-month</td>\n",
              "      <td>No</td>\n",
              "      <td>Mailed check</td>\n",
              "      <td>19.75</td>\n",
              "      <td>0</td>\n",
              "    </tr>\n",
              "    <tr>\n",
              "      <th>2</th>\n",
              "      <td>1</td>\n",
              "      <td>Yes</td>\n",
              "      <td>Yes</td>\n",
              "      <td>28</td>\n",
              "      <td>Yes</td>\n",
              "      <td>DSL</td>\n",
              "      <td>One year</td>\n",
              "      <td>Yes</td>\n",
              "      <td>Electronic check</td>\n",
              "      <td>51.00</td>\n",
              "      <td>0</td>\n",
              "    </tr>\n",
              "    <tr>\n",
              "      <th>3</th>\n",
              "      <td>0</td>\n",
              "      <td>Yes</td>\n",
              "      <td>Yes</td>\n",
              "      <td>70</td>\n",
              "      <td>Yes</td>\n",
              "      <td>No</td>\n",
              "      <td>Two year</td>\n",
              "      <td>No</td>\n",
              "      <td>Credit card (automatic)</td>\n",
              "      <td>20.05</td>\n",
              "      <td>0</td>\n",
              "    </tr>\n",
              "    <tr>\n",
              "      <th>4</th>\n",
              "      <td>0</td>\n",
              "      <td>Yes</td>\n",
              "      <td>Yes</td>\n",
              "      <td>13</td>\n",
              "      <td>Yes</td>\n",
              "      <td>Fiber optic</td>\n",
              "      <td>Month-to-month</td>\n",
              "      <td>Yes</td>\n",
              "      <td>Credit card (automatic)</td>\n",
              "      <td>74.40</td>\n",
              "      <td>1</td>\n",
              "    </tr>\n",
              "    <tr>\n",
              "      <th>5</th>\n",
              "      <td>0</td>\n",
              "      <td>No</td>\n",
              "      <td>Yes</td>\n",
              "      <td>43</td>\n",
              "      <td>Yes</td>\n",
              "      <td>DSL</td>\n",
              "      <td>Month-to-month</td>\n",
              "      <td>Yes</td>\n",
              "      <td>Electronic check</td>\n",
              "      <td>63.95</td>\n",
              "      <td>0</td>\n",
              "    </tr>\n",
              "    <tr>\n",
              "      <th>6</th>\n",
              "      <td>0</td>\n",
              "      <td>Yes</td>\n",
              "      <td>No</td>\n",
              "      <td>67</td>\n",
              "      <td>Yes</td>\n",
              "      <td>Fiber optic</td>\n",
              "      <td>One year</td>\n",
              "      <td>Yes</td>\n",
              "      <td>Credit card (automatic)</td>\n",
              "      <td>109.70</td>\n",
              "      <td>0</td>\n",
              "    </tr>\n",
              "    <tr>\n",
              "      <th>7</th>\n",
              "      <td>0</td>\n",
              "      <td>Yes</td>\n",
              "      <td>Yes</td>\n",
              "      <td>12</td>\n",
              "      <td>No</td>\n",
              "      <td>DSL</td>\n",
              "      <td>One year</td>\n",
              "      <td>No</td>\n",
              "      <td>Credit card (automatic)</td>\n",
              "      <td>30.25</td>\n",
              "      <td>0</td>\n",
              "    </tr>\n",
              "    <tr>\n",
              "      <th>8</th>\n",
              "      <td>0</td>\n",
              "      <td>No</td>\n",
              "      <td>No</td>\n",
              "      <td>16</td>\n",
              "      <td>Yes</td>\n",
              "      <td>No</td>\n",
              "      <td>Month-to-month</td>\n",
              "      <td>Yes</td>\n",
              "      <td>Mailed check</td>\n",
              "      <td>19.70</td>\n",
              "      <td>1</td>\n",
              "    </tr>\n",
              "    <tr>\n",
              "      <th>9</th>\n",
              "      <td>0</td>\n",
              "      <td>Yes</td>\n",
              "      <td>Yes</td>\n",
              "      <td>23</td>\n",
              "      <td>Yes</td>\n",
              "      <td>DSL</td>\n",
              "      <td>One year</td>\n",
              "      <td>No</td>\n",
              "      <td>Credit card (automatic)</td>\n",
              "      <td>57.20</td>\n",
              "      <td>0</td>\n",
              "    </tr>\n",
              "  </tbody>\n",
              "</table>\n",
              "</div>\n",
              "      <button class=\"colab-df-convert\" onclick=\"convertToInteractive('df-cffa631c-7cb3-460a-8c6c-f5865747680b')\"\n",
              "              title=\"Convert this dataframe to an interactive table.\"\n",
              "              style=\"display:none;\">\n",
              "        \n",
              "  <svg xmlns=\"http://www.w3.org/2000/svg\" height=\"24px\"viewBox=\"0 0 24 24\"\n",
              "       width=\"24px\">\n",
              "    <path d=\"M0 0h24v24H0V0z\" fill=\"none\"/>\n",
              "    <path d=\"M18.56 5.44l.94 2.06.94-2.06 2.06-.94-2.06-.94-.94-2.06-.94 2.06-2.06.94zm-11 1L8.5 8.5l.94-2.06 2.06-.94-2.06-.94L8.5 2.5l-.94 2.06-2.06.94zm10 10l.94 2.06.94-2.06 2.06-.94-2.06-.94-.94-2.06-.94 2.06-2.06.94z\"/><path d=\"M17.41 7.96l-1.37-1.37c-.4-.4-.92-.59-1.43-.59-.52 0-1.04.2-1.43.59L10.3 9.45l-7.72 7.72c-.78.78-.78 2.05 0 2.83L4 21.41c.39.39.9.59 1.41.59.51 0 1.02-.2 1.41-.59l7.78-7.78 2.81-2.81c.8-.78.8-2.07 0-2.86zM5.41 20L4 18.59l7.72-7.72 1.47 1.35L5.41 20z\"/>\n",
              "  </svg>\n",
              "      </button>\n",
              "      \n",
              "  <style>\n",
              "    .colab-df-container {\n",
              "      display:flex;\n",
              "      flex-wrap:wrap;\n",
              "      gap: 12px;\n",
              "    }\n",
              "\n",
              "    .colab-df-convert {\n",
              "      background-color: #E8F0FE;\n",
              "      border: none;\n",
              "      border-radius: 50%;\n",
              "      cursor: pointer;\n",
              "      display: none;\n",
              "      fill: #1967D2;\n",
              "      height: 32px;\n",
              "      padding: 0 0 0 0;\n",
              "      width: 32px;\n",
              "    }\n",
              "\n",
              "    .colab-df-convert:hover {\n",
              "      background-color: #E2EBFA;\n",
              "      box-shadow: 0px 1px 2px rgba(60, 64, 67, 0.3), 0px 1px 3px 1px rgba(60, 64, 67, 0.15);\n",
              "      fill: #174EA6;\n",
              "    }\n",
              "\n",
              "    [theme=dark] .colab-df-convert {\n",
              "      background-color: #3B4455;\n",
              "      fill: #D2E3FC;\n",
              "    }\n",
              "\n",
              "    [theme=dark] .colab-df-convert:hover {\n",
              "      background-color: #434B5C;\n",
              "      box-shadow: 0px 1px 3px 1px rgba(0, 0, 0, 0.15);\n",
              "      filter: drop-shadow(0px 1px 2px rgba(0, 0, 0, 0.3));\n",
              "      fill: #FFFFFF;\n",
              "    }\n",
              "  </style>\n",
              "\n",
              "      <script>\n",
              "        const buttonEl =\n",
              "          document.querySelector('#df-cffa631c-7cb3-460a-8c6c-f5865747680b button.colab-df-convert');\n",
              "        buttonEl.style.display =\n",
              "          google.colab.kernel.accessAllowed ? 'block' : 'none';\n",
              "\n",
              "        async function convertToInteractive(key) {\n",
              "          const element = document.querySelector('#df-cffa631c-7cb3-460a-8c6c-f5865747680b');\n",
              "          const dataTable =\n",
              "            await google.colab.kernel.invokeFunction('convertToInteractive',\n",
              "                                                     [key], {});\n",
              "          if (!dataTable) return;\n",
              "\n",
              "          const docLinkHtml = 'Like what you see? Visit the ' +\n",
              "            '<a target=\"_blank\" href=https://colab.research.google.com/notebooks/data_table.ipynb>data table notebook</a>'\n",
              "            + ' to learn more about interactive tables.';\n",
              "          element.innerHTML = '';\n",
              "          dataTable['output_type'] = 'display_data';\n",
              "          await google.colab.output.renderOutput(dataTable, element);\n",
              "          const docLink = document.createElement('div');\n",
              "          docLink.innerHTML = docLinkHtml;\n",
              "          element.appendChild(docLink);\n",
              "        }\n",
              "      </script>\n",
              "    </div>\n",
              "  </div>\n",
              "  "
            ]
          },
          "metadata": {},
          "execution_count": 89
        }
      ],
      "source": [
        "data_inf"
      ]
    },
    {
      "cell_type": "code",
      "execution_count": 90,
      "metadata": {
        "colab": {
          "base_uri": "https://localhost:8080/"
        },
        "id": "kEgetu2XapTL",
        "outputId": "b6053493-4ffc-49dc-c5ea-2743efc5b6dd"
      },
      "outputs": [
        {
          "output_type": "execute_result",
          "data": {
            "text/plain": [
              "SeniorCitizen       0\n",
              "Partner             0\n",
              "Dependents          0\n",
              "tenure              0\n",
              "PhoneService        0\n",
              "InternetService     0\n",
              "Contract            0\n",
              "PaperlessBilling    0\n",
              "PaymentMethod       0\n",
              "MonthlyCharges      0\n",
              "Churn               0\n",
              "dtype: int64"
            ]
          },
          "metadata": {},
          "execution_count": 90
        }
      ],
      "source": [
        "data_inf.isna().sum()"
      ]
    },
    {
      "cell_type": "code",
      "execution_count": 91,
      "metadata": {
        "id": "d9vVNKENFqMp"
      },
      "outputs": [],
      "source": [
        "data_inf_final = prepp_pipeline.transform(data_inf)"
      ]
    },
    {
      "cell_type": "markdown",
      "metadata": {
        "id": "j3MULY_l68ng"
      },
      "source": [
        "## 9.3. Inference Model"
      ]
    },
    {
      "cell_type": "code",
      "execution_count": 92,
      "metadata": {
        "id": "N-O0xHr3V6HD"
      },
      "outputs": [],
      "source": [
        "y_pred_inf = churn_predictor.predict(data_inf_final)\n",
        "y_pred_inf = np.where(y_pred_inf > 0.1, 1, 0)"
      ]
    },
    {
      "cell_type": "code",
      "execution_count": 93,
      "metadata": {
        "colab": {
          "base_uri": "https://localhost:8080/",
          "height": 363
        },
        "id": "F2YAoap67OIP",
        "outputId": "eedd3d31-32fc-4237-ecbe-1c02abe40854"
      },
      "outputs": [
        {
          "output_type": "execute_result",
          "data": {
            "text/plain": [
              "   Customer Churn - Prediction\n",
              "0                            0\n",
              "1                            1\n",
              "2                            1\n",
              "3                            0\n",
              "4                            1\n",
              "5                            1\n",
              "6                            0\n",
              "7                            1\n",
              "8                            1\n",
              "9                            0"
            ],
            "text/html": [
              "\n",
              "  <div id=\"df-8d2c499f-d24c-47d7-aac9-5723b37faf50\">\n",
              "    <div class=\"colab-df-container\">\n",
              "      <div>\n",
              "<style scoped>\n",
              "    .dataframe tbody tr th:only-of-type {\n",
              "        vertical-align: middle;\n",
              "    }\n",
              "\n",
              "    .dataframe tbody tr th {\n",
              "        vertical-align: top;\n",
              "    }\n",
              "\n",
              "    .dataframe thead th {\n",
              "        text-align: right;\n",
              "    }\n",
              "</style>\n",
              "<table border=\"1\" class=\"dataframe\">\n",
              "  <thead>\n",
              "    <tr style=\"text-align: right;\">\n",
              "      <th></th>\n",
              "      <th>Customer Churn - Prediction</th>\n",
              "    </tr>\n",
              "  </thead>\n",
              "  <tbody>\n",
              "    <tr>\n",
              "      <th>0</th>\n",
              "      <td>0</td>\n",
              "    </tr>\n",
              "    <tr>\n",
              "      <th>1</th>\n",
              "      <td>1</td>\n",
              "    </tr>\n",
              "    <tr>\n",
              "      <th>2</th>\n",
              "      <td>1</td>\n",
              "    </tr>\n",
              "    <tr>\n",
              "      <th>3</th>\n",
              "      <td>0</td>\n",
              "    </tr>\n",
              "    <tr>\n",
              "      <th>4</th>\n",
              "      <td>1</td>\n",
              "    </tr>\n",
              "    <tr>\n",
              "      <th>5</th>\n",
              "      <td>1</td>\n",
              "    </tr>\n",
              "    <tr>\n",
              "      <th>6</th>\n",
              "      <td>0</td>\n",
              "    </tr>\n",
              "    <tr>\n",
              "      <th>7</th>\n",
              "      <td>1</td>\n",
              "    </tr>\n",
              "    <tr>\n",
              "      <th>8</th>\n",
              "      <td>1</td>\n",
              "    </tr>\n",
              "    <tr>\n",
              "      <th>9</th>\n",
              "      <td>0</td>\n",
              "    </tr>\n",
              "  </tbody>\n",
              "</table>\n",
              "</div>\n",
              "      <button class=\"colab-df-convert\" onclick=\"convertToInteractive('df-8d2c499f-d24c-47d7-aac9-5723b37faf50')\"\n",
              "              title=\"Convert this dataframe to an interactive table.\"\n",
              "              style=\"display:none;\">\n",
              "        \n",
              "  <svg xmlns=\"http://www.w3.org/2000/svg\" height=\"24px\"viewBox=\"0 0 24 24\"\n",
              "       width=\"24px\">\n",
              "    <path d=\"M0 0h24v24H0V0z\" fill=\"none\"/>\n",
              "    <path d=\"M18.56 5.44l.94 2.06.94-2.06 2.06-.94-2.06-.94-.94-2.06-.94 2.06-2.06.94zm-11 1L8.5 8.5l.94-2.06 2.06-.94-2.06-.94L8.5 2.5l-.94 2.06-2.06.94zm10 10l.94 2.06.94-2.06 2.06-.94-2.06-.94-.94-2.06-.94 2.06-2.06.94z\"/><path d=\"M17.41 7.96l-1.37-1.37c-.4-.4-.92-.59-1.43-.59-.52 0-1.04.2-1.43.59L10.3 9.45l-7.72 7.72c-.78.78-.78 2.05 0 2.83L4 21.41c.39.39.9.59 1.41.59.51 0 1.02-.2 1.41-.59l7.78-7.78 2.81-2.81c.8-.78.8-2.07 0-2.86zM5.41 20L4 18.59l7.72-7.72 1.47 1.35L5.41 20z\"/>\n",
              "  </svg>\n",
              "      </button>\n",
              "      \n",
              "  <style>\n",
              "    .colab-df-container {\n",
              "      display:flex;\n",
              "      flex-wrap:wrap;\n",
              "      gap: 12px;\n",
              "    }\n",
              "\n",
              "    .colab-df-convert {\n",
              "      background-color: #E8F0FE;\n",
              "      border: none;\n",
              "      border-radius: 50%;\n",
              "      cursor: pointer;\n",
              "      display: none;\n",
              "      fill: #1967D2;\n",
              "      height: 32px;\n",
              "      padding: 0 0 0 0;\n",
              "      width: 32px;\n",
              "    }\n",
              "\n",
              "    .colab-df-convert:hover {\n",
              "      background-color: #E2EBFA;\n",
              "      box-shadow: 0px 1px 2px rgba(60, 64, 67, 0.3), 0px 1px 3px 1px rgba(60, 64, 67, 0.15);\n",
              "      fill: #174EA6;\n",
              "    }\n",
              "\n",
              "    [theme=dark] .colab-df-convert {\n",
              "      background-color: #3B4455;\n",
              "      fill: #D2E3FC;\n",
              "    }\n",
              "\n",
              "    [theme=dark] .colab-df-convert:hover {\n",
              "      background-color: #434B5C;\n",
              "      box-shadow: 0px 1px 3px 1px rgba(0, 0, 0, 0.15);\n",
              "      filter: drop-shadow(0px 1px 2px rgba(0, 0, 0, 0.3));\n",
              "      fill: #FFFFFF;\n",
              "    }\n",
              "  </style>\n",
              "\n",
              "      <script>\n",
              "        const buttonEl =\n",
              "          document.querySelector('#df-8d2c499f-d24c-47d7-aac9-5723b37faf50 button.colab-df-convert');\n",
              "        buttonEl.style.display =\n",
              "          google.colab.kernel.accessAllowed ? 'block' : 'none';\n",
              "\n",
              "        async function convertToInteractive(key) {\n",
              "          const element = document.querySelector('#df-8d2c499f-d24c-47d7-aac9-5723b37faf50');\n",
              "          const dataTable =\n",
              "            await google.colab.kernel.invokeFunction('convertToInteractive',\n",
              "                                                     [key], {});\n",
              "          if (!dataTable) return;\n",
              "\n",
              "          const docLinkHtml = 'Like what you see? Visit the ' +\n",
              "            '<a target=\"_blank\" href=https://colab.research.google.com/notebooks/data_table.ipynb>data table notebook</a>'\n",
              "            + ' to learn more about interactive tables.';\n",
              "          element.innerHTML = '';\n",
              "          dataTable['output_type'] = 'display_data';\n",
              "          await google.colab.output.renderOutput(dataTable, element);\n",
              "          const docLink = document.createElement('div');\n",
              "          docLink.innerHTML = docLinkHtml;\n",
              "          element.appendChild(docLink);\n",
              "        }\n",
              "      </script>\n",
              "    </div>\n",
              "  </div>\n",
              "  "
            ]
          },
          "metadata": {},
          "execution_count": 93
        }
      ],
      "source": [
        "# Convert into DataFrame\n",
        "\n",
        "y_pred_inf_df = pd.DataFrame(y_pred_inf, columns=['Customer Churn - Prediction'])\n",
        "y_pred_inf_df"
      ]
    },
    {
      "cell_type": "code",
      "execution_count": 94,
      "metadata": {
        "colab": {
          "base_uri": "https://localhost:8080/"
        },
        "id": "M5KyLVFVm3fp",
        "outputId": "bd7c0a73-d406-4d0f-b113-f87dfeda2909"
      },
      "outputs": [
        {
          "output_type": "execute_result",
          "data": {
            "text/plain": [
              "0    0\n",
              "1    0\n",
              "2    0\n",
              "3    0\n",
              "4    1\n",
              "5    0\n",
              "6    0\n",
              "7    0\n",
              "8    1\n",
              "9    0\n",
              "Name: Churn, dtype: int64"
            ]
          },
          "metadata": {},
          "execution_count": 94
        }
      ],
      "source": [
        "data_inf['Churn']"
      ]
    },
    {
      "cell_type": "markdown",
      "metadata": {
        "id": "Q4su5ekCnhZz"
      },
      "source": [
        "Jika dibandingkan dengan target data asli, hasil prediksi data inference sudah 60% benar. Hanya ada 4 kesalahan di index row [1], [2], [5], dan [7] yaitu pada data asli adalah besok hujan (1) akan tetapi hasil prediksi inference adalah besok tidak hujan (0). Dari asumsi saya, hal ini disebabkan karena ini merupakan efek dari threshold yang telah ditetapkan (0.1) yang meminimalkan false negative dengan konsekuensi false positve meningkat. Hasil tersebut juga menunjukkan bahwa dari data yang terprediksi 0, semuanya memang benar 0 dan itu menurut saya sudah bagus. Selain itu disebabkan pula karena kurangnya eksplorasi terhadap model improvement karena keterbatasan waktu yang saya miliki."
      ]
    },
    {
      "cell_type": "markdown",
      "metadata": {
        "id": "YHIG0GOq9tqE"
      },
      "source": [
        "# XI. Kesimpulan"
      ]
    },
    {
      "cell_type": "markdown",
      "metadata": {
        "id": "QqUB2pulBRN6"
      },
      "source": [
        "**Metrics Model**\n",
        "- Model Sequential dan Functional menghasilkan metrics yang sangat mirip. Saya memilih Sequential karena menurut saya lebih praktis.\n",
        "- Hasil metrics dengan threshold 0.1 memiliki nilai Recall yang lebih baik daripada threshold 0.5. Akan tetapi akurasi threshold 0.1 lebih buruk (hanya 74%) dibandingkan threshold 0.5 (mencapai 82%). Itu tidak masalah karena memang tujuannya menaikkan nilai Recall.\n",
        "- Model Improvement tidak berpengaruh dalam meningkatkan kualitas metrics model. Model improvement yang telah dicoba : kernel initializer, Batch normalization, menambah regulizer, mencoba activation function leaky relu dan ELU.\n",
        "- Akurasi pada data inference hanya sebesar 60% dengan semua kesalahannya adalah salah memprediksi kelas 0 menjadi kelas 1. Ini merupakan efek dari threshold yang telah ditetapkan (0.1) yang meminimalkan false negative dengan konsekuensi false positve meningkat.\n",
        "- Tujuan telah tercapai dimana tidak ada false negative dari evaluasi terhadap data inference dan itu merupakan hal yang lebih baik bagi perusahaan karena saya tidak ingin perusahaan kurang persiapan dalam menghadapi kemungkinan customer churn yang dapat merugikan perusahaan itu sendiri.\n",
        "\n",
        "\n",
        "**Analisis kelebihan dan kelemahan tiap model**\n",
        "- Model with Sequential API : memiliki kelebihan lebih praktis untuk digunakan karena secara otomatis prosesnya berjalan seperti chain/rantai. Selain itu tidak perlu mendefinisikan variabel untuk setiap prosesnya. Maka dari itu sequential cocok untuk dataset ini yang hanya perlu 1 jenis input. Akan tetapi kelemahannya adalah jika diperlukan >1 input, sequential tidak bisa mengakomodasi hal tersebut.\n",
        "- Model wit Functional API : memiliki kelebihan fleksibel untuk multi-input. kelemahannya adalah kurang praktis untuk model/dataset yang sederhana karena perlu pendefinisian variabel sehingga saat model improvement pastinya akan lebih memakan waktu dan tenaga hanya untuk assign ke variabel saja.\n",
        "\n",
        "**Improvement Suggestion**\n",
        "- Improvement yang dapat diterapkan untuk ANN ini adalah pada model improvement agar bisa dieksplor lebih banyak lagi komponen-komponen improvementnya sehingga menghasilkan model yang lebih bagus lagi.\n",
        "\n",
        "\n",
        "**Insight setelah proses EDA dan selanjutnya**\n",
        "- dari analisis grafik, chi-square test, dan personal judgement di EDA, kolom yang terpilih sebagai fitur sudah cukup baik dalam memprediksi data karena akurasinya mencapai 74% untuk model evaluasi dan 60% untuk data inference.\n",
        "- proses yang ingin saya highlight adalah penentuan threshold. Ternyata proses tersebut sangat penting dalam menentukan output dan juga terkait Recall yang sudah saya jelaskan di atas."
      ]
    }
  ],
  "metadata": {
    "colab": {
      "collapsed_sections": [
        "lDss3R8RxueP",
        "YZLxZifOxueq",
        "UPS2rqzExufU",
        "0kzdsRusxufY",
        "g44ofgVTxugJ",
        "-c_bi_DfxugQ",
        "BkV6b015xugT",
        "OyjV2ZqJxug-",
        "i3zUuA_KCUoQ",
        "wxtKqKW29kvY"
      ],
      "name": "h8dsft_Milestone1P2_Nabila_Edelliana_K.ipynb",
      "provenance": [],
      "toc_visible": true
    },
    "interpreter": {
      "hash": "ad2bdc8ecc057115af97d19610ffacc2b4e99fae6737bb82f5d7fb13d2f2c186"
    },
    "kernelspec": {
      "display_name": "Python 3.9.7 ('base')",
      "language": "python",
      "name": "python3"
    },
    "language_info": {
      "codemirror_mode": {
        "name": "ipython",
        "version": 3
      },
      "file_extension": ".py",
      "mimetype": "text/x-python",
      "name": "python",
      "nbconvert_exporter": "python",
      "pygments_lexer": "ipython3",
      "version": "3.9.7"
    }
  },
  "nbformat": 4,
  "nbformat_minor": 0
}